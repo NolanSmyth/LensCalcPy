{
 "cells": [
  {
   "cell_type": "code",
   "execution_count": 1,
   "metadata": {},
   "outputs": [],
   "source": [
    "from LensCalcPy.survey import *\n",
    "from LensCalcPy.ffp import *\n",
    "from LensCalcPy.utils import *\n",
    "import numpy as np\n",
    "import matplotlib.pyplot as plt\n",
    "from scipy.interpolate import interp1d, interp2d\n",
    "from scipy.integrate import quad, nquad\n",
    "from tqdm import tqdm\n",
    "from pathos.multiprocessing import ProcessingPool as Pool\n",
    "import functools\n",
    "from scipy.stats import poisson\n",
    "\n",
    "%load_ext autoreload\n",
    "%autoreload 2"
   ]
  },
  {
   "cell_type": "code",
   "execution_count": 2,
   "metadata": {},
   "outputs": [],
   "source": [
    "# HSC Params\n",
    "# l = 121.2\n",
    "# b = -21.6\n",
    "# ds = 770\n",
    "# obsTime = 7\n",
    "# survey_area = 0\n",
    "# n_sources = 8.7e7\n",
    "# efficiency = 0.5\n",
    "ti = 0.07\n",
    "tf = 3\n",
    "from LensCalcPy.parameters import *"
   ]
  },
  {
   "cell_type": "code",
   "execution_count": 3,
   "metadata": {},
   "outputs": [
    {
     "data": {
      "text/plain": [
       "Survey(l=121.2, b=-21.6, source_dist=770, obs_time=7, survey_area=0)"
      ]
     },
     "execution_count": 3,
     "metadata": {},
     "output_type": "execute_result"
    }
   ],
   "source": [
    "s = Survey(l, b, ds, obsTime, survey_area=survey_area, n_sources=n_sources)\n",
    "s"
   ]
  },
  {
   "cell_type": "code",
   "execution_count": 4,
   "metadata": {},
   "outputs": [],
   "source": [
    "t_es = np.logspace(-2, 3, 20) #hours"
   ]
  },
  {
   "cell_type": "code",
   "execution_count": 94,
   "metadata": {},
   "outputs": [],
   "source": [
    "alpha = 2\n",
    "s.add_ffp(alpha)\n",
    "diff_rates = s.get_crossing_times_rates_ffp(t_es, finite=False)"
   ]
  },
  {
   "cell_type": "code",
   "execution_count": 95,
   "metadata": {},
   "outputs": [],
   "source": [
    "diff_rates_finite = s.get_crossing_times_rates_ffp(t_es, finite=True)"
   ]
  },
  {
   "cell_type": "code",
   "execution_count": 96,
   "metadata": {},
   "outputs": [
    {
     "data": {
      "image/png": "[encoded data removed]",
      "text/plain": [
       "<Figure size 640x480 with 1 Axes>"
      ]
     },
     "metadata": {},
     "output_type": "display_data"
    }
   ],
   "source": [
    "plt.loglog(t_es, diff_rates, label='point source')\n",
    "plt.loglog(t_es, diff_rates_finite, label='finite source')\n",
    "\n",
    "# Add lines for HSC sensitivity window\n",
    "plt.axvline(0.07, color='k', ls='--')\n",
    "plt.axvline(3, color='k', ls='--')\n",
    "plt.xlim(1e-2, 1e1)\n",
    "# plt.ylim(1e-16,1e-7)\n",
    "plt.legend()\n",
    "plt.show()"
   ]
  },
  {
   "cell_type": "code",
   "execution_count": 97,
   "metadata": {},
   "outputs": [],
   "source": [
    "diff_rate_interp = interp1d(t_es, diff_rates)"
   ]
  },
  {
   "cell_type": "code",
   "execution_count": 98,
   "metadata": {},
   "outputs": [],
   "source": [
    "dnds = quad(diff_rate_interp, ti, tf)[0]"
   ]
  },
  {
   "cell_type": "code",
   "execution_count": 99,
   "metadata": {},
   "outputs": [
    {
     "data": {
      "text/plain": [
       "1.0334997362957063e-11"
      ]
     },
     "execution_count": 99,
     "metadata": {},
     "output_type": "execute_result"
    }
   ],
   "source": [
    "s.n_sources*efficiency*dnds"
   ]
  },
  {
   "cell_type": "code",
   "execution_count": 5,
   "metadata": {},
   "outputs": [],
   "source": [
    "def get_n_events(A, alpha=2, finite=False):\n",
    "    #Now A is number of FFPs per star\n",
    "    s.add_ffp(alpha)\n",
    "    diff_rates = s.get_crossing_times_rates_ffp(t_es, finite=finite)\n",
    "    rate_interp = interp1d(t_es, diff_rates)\n",
    "    dnds = quad(rate_interp, ti, tf)[0]\n",
    "    return s.n_sources*efficiency*dnds*obsTime*A\n",
    "\n",
    "def get_n_events_parallel(As, alpha=2, finite=False):\n",
    "    with Pool() as p:\n",
    "        f = functools.partial(get_n_events, alpha=alpha, finite=finite)\n",
    "        results = list(p.imap(f, As))\n",
    "    return results"
   ]
  },
  {
   "cell_type": "code",
   "execution_count": 76,
   "metadata": {},
   "outputs": [],
   "source": [
    "n_events = get_n_events(1, alpha=alpha, finite=False)"
   ]
  },
  {
   "cell_type": "code",
   "execution_count": 77,
   "metadata": {},
   "outputs": [],
   "source": [
    "n_events_finite = get_n_events(1, alpha=alpha, finite=True)"
   ]
  },
  {
   "cell_type": "code",
   "execution_count": 78,
   "metadata": {},
   "outputs": [
    {
     "name": "stdout",
     "output_type": "stream",
     "text": [
      "1.4188449463589558e-11\n",
      "1.5430634493160997e-13\n"
     ]
    }
   ],
   "source": [
    "print(n_events)\n",
    "print(n_events_finite)"
   ]
  },
  {
   "attachments": {},
   "cell_type": "markdown",
   "metadata": {},
   "source": [
    "## 2D exclusion plots"
   ]
  },
  {
   "cell_type": "code",
   "execution_count": 6,
   "metadata": {},
   "outputs": [],
   "source": [
    "A_min = 1\n",
    "A_max = 1e8\n",
    "alpha_min = 1.1\n",
    "alpha_max = 2.5\n",
    "num_points = 20\n",
    "A_values = np.logspace(np.log10(A_min), np.log10(A_max), num_points)\n",
    "alpha_values = np.linspace(alpha_min, alpha_max, num_points) \n",
    "A_grid, alpha_grid = np.meshgrid(A_values, alpha_values)\n"
   ]
  },
  {
   "cell_type": "code",
   "execution_count": null,
   "metadata": {},
   "outputs": [],
   "source": [
    "get_n_events_values = np.empty_like(A_grid)\n",
    "\n",
    "for i in tqdm(range(len(alpha_values))):\n",
    "    get_n_events_values[i] = get_n_events_parallel(A_values, alpha=alpha_values[i], finite=False)"
   ]
  },
  {
   "cell_type": "code",
   "execution_count": 148,
   "metadata": {},
   "outputs": [
    {
     "name": "stderr",
     "output_type": "stream",
     "text": [
      "100%|██████████| 20/20 [57:34<00:00, 172.72s/it] \n"
     ]
    }
   ],
   "source": [
    "get_n_events_values_finite = np.empty_like(A_grid)\n",
    "\n",
    "for i in tqdm(range(len(alpha_values))):\n",
    "    get_n_events_values_finite[i] = get_n_events_parallel(A_values, alpha=alpha_values[i], finite=True)"
   ]
  },
  {
   "cell_type": "code",
   "execution_count": 150,
   "metadata": {},
   "outputs": [
    {
     "data": {
      "image/png": "[encoded data removed]",
      "text/plain": [
       "<Figure size 640x480 with 1 Axes>"
      ]
     },
     "metadata": {},
     "output_type": "display_data"
    }
   ],
   "source": [
    "plt.figure()\n",
    "contour = plt.contourf(A_grid, alpha_grid, get_n_events_values, levels=[4.74, 1e10])\n",
    "plt.contourf(A_grid, alpha_grid, get_n_events_values_finite, levels=[4.74, 1e10], colors=\"red\", alpha=0.5)\n",
    "plt.xscale('log')\n",
    "plt.title('Excluded Region for 1 Observation')\n",
    "plt.xlabel('N')\n",
    "plt.ylabel('p')\n",
    "plt.show()"
   ]
  },
  {
   "cell_type": "code",
   "execution_count": 7,
   "metadata": {},
   "outputs": [],
   "source": [
    "def get_constraint_iso(m_iso, alpha=2, finite=False):\n",
    "    if m_iso < 1e-15:\n",
    "        raise ValueError('Mass must be greater than 1e-15')\n",
    "    \n",
    "    #Number of total events assuming 1 ISO per star\n",
    "    #Note A doesn't matter for this part of the calculation\n",
    "    n_events = get_n_events(1, alpha=alpha, finite=finite)\n",
    "    s.add_ffp(alpha)\n",
    "\n",
    "    #Porportion of ISOs above threshold\n",
    "    proportion_above_threshold = nquad(s.ffp.mass_func,[[m_iso, s.ffp.m_max]], opts={'points': [s.ffp.m_min, s.ffp.m_min*1e3]})[0]*s.ffp.Z\n",
    "\n",
    "    #Maximum number of total allowed ISOs per star\n",
    "    N_thresh = 4.74/n_events\n",
    "\n",
    "    #Maximum number of allowed ISOs per star of mass m_iso or above\n",
    "    return N_thresh * proportion_above_threshold    "
   ]
  },
  {
   "cell_type": "code",
   "execution_count": 161,
   "metadata": {},
   "outputs": [
    {
     "name": "stdout",
     "output_type": "stream",
     "text": [
      "The 95% C.L. is reached when Nexp <= 4.499999999999948\n"
     ]
    }
   ],
   "source": [
    "confidence_level_threshold = 0.05\n",
    "\n",
    "Nexp = 1\n",
    "\n",
    "# Calculate the cumulative probability until it exceeds the threshold\n",
    "while True:\n",
    "    # cumulative_prob = poisson.pmf(0, Nexp) + poisson.pmf(1, Nexp) \n",
    "    cumulative_prob = poisson.pmf(1, Nexp) \n",
    "    if cumulative_prob <= confidence_level_threshold:\n",
    "        break\n",
    "    Nexp += 0.01 \n",
    "\n",
    "print(f\"The 95% C.L. is reached when Nexp <= {Nexp}\")"
   ]
  },
  {
   "attachments": {},
   "cell_type": "markdown",
   "metadata": {},
   "source": [
    "### Constraints on local ISO Density"
   ]
  },
  {
   "cell_type": "code",
   "execution_count": 8,
   "metadata": {},
   "outputs": [],
   "source": [
    "def get_n_events_pbh(m, finite=False):\n",
    "    s.add_pbh(m)\n",
    "    diff_rates = s.get_crossing_times_rates_pbh(t_es, finite=finite)\n",
    "    rate_interp = interp1d(t_es, diff_rates)\n",
    "    dnds = quad(rate_interp, ti, tf)[0]\n",
    "    return s.n_sources*efficiency*dnds*obsTime\n",
    "\n",
    "def get_constraint_fdm(m, finite=False):\n",
    "    n_events = get_n_events_pbh(m, finite=finite)\n",
    "    if n_events != 0:\n",
    "        return 4.74/n_events\n",
    "    else:\n",
    "        return 1"
   ]
  },
  {
   "cell_type": "code",
   "execution_count": 9,
   "metadata": {},
   "outputs": [
    {
     "name": "stderr",
     "output_type": "stream",
     "text": [
      "/Users/nolansmyth/opt/anaconda3/lib/python3.9/site-packages/scipy/integrate/quadpack.py:879: IntegrationWarning: The integral is probably divergent, or slowly convergent.\n",
      "  quad_r = quad(f, low, high, args=args, full_output=self.full_output,\n",
      "/Users/nolansmyth/opt/anaconda3/lib/python3.9/site-packages/scipy/integrate/quadpack.py:879: IntegrationWarning: The maximum number of subdivisions (50) has been achieved.\n",
      "  If increasing the limit yields no improvement it is advised to analyze \n",
      "  the integrand in order to determine the difficulties.  If the position of a \n",
      "  local difficulty can be determined (singularity, discontinuity) one will \n",
      "  probably gain from splitting up the interval and calling the integrator \n",
      "  on the subranges.  Perhaps a special-purpose integrator should be used.\n",
      "  quad_r = quad(f, low, high, args=args, full_output=self.full_output,\n"
     ]
    },
    {
     "name": "stdout",
     "output_type": "stream",
     "text": [
      "upper limit on number density of ISOs in au^-3 from HSC PBH constrint\n",
      "2.919266497137061e-11\n"
     ]
    }
   ],
   "source": [
    "#https://arxiv.org/pdf/1910.08608.pdf handwavy constraint in au^-3\n",
    "\n",
    "local_dm_density = density_mw(dist_mw(0))\n",
    "m_pbh = 1e-10\n",
    "fpbh = get_constraint_fdm(m_pbh, finite=True)\n",
    "kpc2au = 2.06e8\n",
    "\n",
    "print(\"upper limit on number density of ISOs in au^-3 from HSC PBH constrint\")\n",
    "print(local_dm_density*kpc2au**(-3)*fpbh/m_pbh)"
   ]
  },
  {
   "cell_type": "code",
   "execution_count": 10,
   "metadata": {},
   "outputs": [
    {
     "name": "stdout",
     "output_type": "stream",
     "text": [
      "upper limit on number density of ISOs in au^-3 with mass greater than 1e-10 for alpha = 1.83\n",
      "5.975408561110705e-11\n"
     ]
    }
   ],
   "source": [
    "#Comparison with FFP distribution\n",
    "local_stellar_density = rho_FFPs_mw(0)\n",
    "m_iso = 1e-10\n",
    "alpha = 1.83\n",
    "\n",
    "#number of ISOs per star with mass greater than m_iso\n",
    "n_objects = get_constraint_iso(m_iso, alpha=alpha, finite=True)\n",
    "\n",
    "print(\"upper limit on number density of ISOs in au^-3 with mass greater than {} for alpha = {}\".format(m_iso, alpha))\n",
    "print(local_stellar_density*kpc2au**(-3)*n_objects)"
   ]
  },
  {
   "cell_type": "code",
   "execution_count": 11,
   "metadata": {},
   "outputs": [
    {
     "data": {
      "text/plain": [
       "14122425.075646408"
      ]
     },
     "execution_count": 11,
     "metadata": {},
     "output_type": "execute_result"
    }
   ],
   "source": [
    "n_objects"
   ]
  },
  {
   "cell_type": "code",
   "execution_count": 14,
   "metadata": {},
   "outputs": [
    {
     "name": "stderr",
     "output_type": "stream",
     "text": [
      "/Users/nolansmyth/opt/anaconda3/lib/python3.9/site-packages/scipy/integrate/quadpack.py:879: IntegrationWarning: The algorithm does not converge.  Roundoff error is detected\n",
      "  in the extrapolation table.  It is assumed that the requested tolerance\n",
      "  cannot be achieved, and that the returned result (if full_output = 1) is \n",
      "  the best which can be obtained.\n",
      "  quad_r = quad(f, low, high, args=args, full_output=self.full_output,\n",
      "/Users/nolansmyth/opt/anaconda3/lib/python3.9/site-packages/scipy/integrate/quadpack.py:879: IntegrationWarning: The algorithm does not converge.  Roundoff error is detected\n",
      "  in the extrapolation table.  It is assumed that the requested tolerance\n",
      "  cannot be achieved, and that the returned result (if full_output = 1) is \n",
      "  the best which can be obtained.\n",
      "  quad_r = quad(f, low, high, args=args, full_output=self.full_output,\n"
     ]
    },
    {
     "name": "stderr",
     "output_type": "stream",
     "text": [
      "100%|██████████| 20/20 [02:26<00:00,  7.31s/it]\n"
     ]
    }
   ],
   "source": [
    "with Pool() as p:\n",
    "    f = functools.partial(get_constraint_iso, m_iso, finite=True)\n",
    "    n_objects_arr = list(tqdm(p.imap(f, alpha_values), total=len(alpha_values)))"
   ]
  },
  {
   "cell_type": "code",
   "execution_count": 37,
   "metadata": {},
   "outputs": [],
   "source": [
    "loeb_alpha = 3.41\n",
    "loeb_p = loeb_alpha/3 + 1\n",
    "loeb_n = 2.6e-14\n",
    "\n",
    "dohanyi_alpha = 2.5\n",
    "dohanyi_p = dohanyi_alpha/3 + 1\n",
    "dohanyi_n = 7.2e-11\n"
   ]
  },
  {
   "cell_type": "code",
   "execution_count": 38,
   "metadata": {},
   "outputs": [
    {
     "data": {
      "image/png": "[encoded data removed]",
      "text/plain": [
       "<Figure size 640x480 with 1 Axes>"
      ]
     },
     "metadata": {},
     "output_type": "display_data"
    }
   ],
   "source": [
    "num_densities = np.array(n_objects_arr)*local_stellar_density*kpc2au**(-3)\n",
    "\n",
    "plt.figure()\n",
    "plt.plot(alpha_values, num_densities)\n",
    "plt.fill_between(alpha_values, num_densities, np.max(num_densities), alpha=0.3)\n",
    "plt.yscale('log')\n",
    "plt.ylabel('Number Density (au^-3)')\n",
    "plt.xlabel('p')\n",
    "plt.title('Max Number Density of ISOs with M>1e-10')\n",
    "plt.xlim([1.1, 2.5])\n",
    "plt.ylim([1e-14, 1e-9])\n",
    "\n",
    "plt.plot(dohanyi_p, dohanyi_n, 'o', label='Dohanyi 600km')\n",
    "plt.plot(loeb_p, loeb_n, 'o', label='Loeb 600km')\n",
    "\n",
    "plt.legend()\n",
    "\n",
    "plt.show()"
   ]
  },
  {
   "cell_type": "code",
   "execution_count": null,
   "metadata": {},
   "outputs": [],
   "source": []
  }
 ],
 "metadata": {
  "kernelspec": {
   "display_name": "base",
   "language": "python",
   "name": "python3"
  },
  "language_info": {
   "codemirror_mode": {
    "name": "ipython",
    "version": 3
   },
   "file_extension": ".py",
   "mimetype": "text/x-python",
   "name": "python",
   "nbconvert_exporter": "python",
   "pygments_lexer": "ipython3",
   "version": "3.9.7"
  },
  "orig_nbformat": 4
 },
 "nbformat": 4,
 "nbformat_minor": 2
}
