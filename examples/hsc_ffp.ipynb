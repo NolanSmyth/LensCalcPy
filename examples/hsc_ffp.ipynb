{
 "cells": [
  {
   "cell_type": "code",
   "execution_count": 31,
   "metadata": {},
   "outputs": [
    {
     "name": "stdout",
     "output_type": "stream",
     "text": [
      "The autoreload extension is already loaded. To reload it, use:\n",
      "  %reload_ext autoreload\n"
     ]
    }
   ],
   "source": [
    "from LensCalcPy.survey import *\n",
    "from LensCalcPy.ffp import *\n",
    "from LensCalcPy.utils import *\n",
    "import numpy as np\n",
    "import matplotlib.pyplot as plt\n",
    "from scipy.interpolate import interp1d, interp2d\n",
    "from scipy.integrate import quad, nquad\n",
    "from tqdm import tqdm\n",
    "from pathos.multiprocessing import ProcessingPool as Pool\n",
    "import functools\n",
    "from scipy.stats import poisson\n",
    "\n",
    "%load_ext autoreload\n",
    "%autoreload 2"
   ]
  },
  {
   "cell_type": "code",
   "execution_count": 17,
   "metadata": {},
   "outputs": [],
   "source": [
    "# HSC Params\n",
    "# l = 121.2\n",
    "# b = -21.6\n",
    "# ds = 770\n",
    "# obsTime = 7\n",
    "# survey_area = 0\n",
    "# n_sources = 8.7e7\n",
    "# efficiency = 0.5\n",
    "from LensCalcPy.parameters import *"
   ]
  },
  {
   "cell_type": "code",
   "execution_count": 18,
   "metadata": {},
   "outputs": [
    {
     "data": {
      "text/plain": [
       "Survey(l=121.2, b=-21.6, source_dist=770, obs_time=7, survey_area=0)"
      ]
     },
     "execution_count": 18,
     "metadata": {},
     "output_type": "execute_result"
    }
   ],
   "source": [
    "s = Survey(l, b, ds, obsTime, survey_area=survey_area, n_sources=n_sources)\n",
    "s"
   ]
  },
  {
   "cell_type": "code",
   "execution_count": 9,
   "metadata": {},
   "outputs": [],
   "source": [
    "t_es = np.logspace(-2, 3, 20) #hours"
   ]
  },
  {
   "cell_type": "code",
   "execution_count": 10,
   "metadata": {},
   "outputs": [],
   "source": [
    "alpha = 2\n",
    "s.add_ffp(alpha)\n",
    "diff_rates = s.get_crossing_times_rates_ffp(t_es, finite=False)"
   ]
  },
  {
   "cell_type": "code",
   "execution_count": 11,
   "metadata": {},
   "outputs": [],
   "source": [
    "diff_rates_finite = s.get_crossing_times_rates_ffp(t_es, finite=True)"
   ]
  },
  {
   "cell_type": "code",
   "execution_count": 12,
   "metadata": {},
   "outputs": [
    {
     "data": {
      "image/png": "[encoded data removed]",
      "text/plain": [
       "<Figure size 640x480 with 1 Axes>"
      ]
     },
     "metadata": {},
     "output_type": "display_data"
    }
   ],
   "source": [
    "plt.loglog(t_es, diff_rates, label='point source')\n",
    "plt.loglog(t_es, diff_rates_finite, label='finite source')\n",
    "\n",
    "# Add lines for HSC sensitivity window\n",
    "plt.axvline(0.07, color='k', ls='--')\n",
    "plt.axvline(3, color='k', ls='--')\n",
    "plt.xlim(1e-2, 1e1)\n",
    "# plt.ylim(1e-16,1e-7)\n",
    "plt.legend()\n",
    "plt.show()"
   ]
  },
  {
   "cell_type": "code",
   "execution_count": 13,
   "metadata": {},
   "outputs": [],
   "source": [
    "diff_rate_interp = interp1d(t_es, diff_rates)"
   ]
  },
  {
   "cell_type": "code",
   "execution_count": 14,
   "metadata": {},
   "outputs": [],
   "source": [
    "ti = 0.07\n",
    "tf = 3\n",
    "dnds = quad(diff_rate_interp, ti, tf)[0]"
   ]
  },
  {
   "cell_type": "code",
   "execution_count": 15,
   "metadata": {},
   "outputs": [
    {
     "data": {
      "text/plain": [
       "9.138756769859345e-09"
      ]
     },
     "execution_count": 15,
     "metadata": {},
     "output_type": "execute_result"
    }
   ],
   "source": [
    "s.n_sources*efficiency*dnds"
   ]
  },
  {
   "cell_type": "code",
   "execution_count": 62,
   "metadata": {},
   "outputs": [],
   "source": [
    "def get_n_events(A, alpha=2, finite=False):\n",
    "    #Now A is number of FFPs per star\n",
    "    s.add_ffp(alpha)\n",
    "    diff_rates = s.get_crossing_times_rates_ffp(t_es, finite=finite)\n",
    "    rate_interp = interp1d(t_es, diff_rates)\n",
    "    dnds = quad(rate_interp, ti, tf)[0]\n",
    "    return s.n_sources*efficiency*dnds*obsTime*A\n",
    "\n",
    "def get_n_events_parallel(As, alpha=2, finite=False):\n",
    "    with Pool() as p:\n",
    "        f = functools.partial(get_n_events, alpha=alpha, finite=finite)\n",
    "        results = list(p.imap(f, As))\n",
    "    return results"
   ]
  },
  {
   "cell_type": "code",
   "execution_count": 63,
   "metadata": {},
   "outputs": [],
   "source": [
    "n_events = get_n_events(1, alpha=alpha, finite=False)"
   ]
  },
  {
   "cell_type": "code",
   "execution_count": null,
   "metadata": {},
   "outputs": [],
   "source": [
    "n_events_finite = get_n_events(1, alpha=alpha, finite=True)"
   ]
  },
  {
   "attachments": {},
   "cell_type": "markdown",
   "metadata": {},
   "source": [
    "## 2D exclusion plots"
   ]
  },
  {
   "cell_type": "code",
   "execution_count": 26,
   "metadata": {},
   "outputs": [
    {
     "name": "stderr",
     "output_type": "stream",
     "text": [
      " 30%|███       | 6/20 [15:27<36:44, 157.46s/it]/Users/nolansmyth/opt/anaconda3/lib/python3.9/site-packages/scipy/integrate/quadpack.py:879: IntegrationWarning: The algorithm does not converge.  Roundoff error is detected\n",
      "  in the extrapolation table.  It is assumed that the requested tolerance\n",
      "  cannot be achieved, and that the returned result (if full_output = 1) is \n",
      "  the best which can be obtained.\n",
      "  quad_r = quad(f, low, high, args=args, full_output=self.full_output,\n",
      "/Users/nolansmyth/opt/anaconda3/lib/python3.9/site-packages/scipy/integrate/quadpack.py:879: IntegrationWarning: The algorithm does not converge.  Roundoff error is detected\n",
      "  in the extrapolation table.  It is assumed that the requested tolerance\n",
      "  cannot be achieved, and that the returned result (if full_output = 1) is \n",
      "  the best which can be obtained.\n",
      "  quad_r = quad(f, low, high, args=args, full_output=self.full_output,\n",
      "/Users/nolansmyth/opt/anaconda3/lib/python3.9/site-packages/scipy/integrate/quadpack.py:879: IntegrationWarning: The algorithm does not converge.  Roundoff error is detected\n",
      "  in the extrapolation table.  It is assumed that the requested tolerance\n",
      "  cannot be achieved, and that the returned result (if full_output = 1) is \n",
      "  the best which can be obtained.\n",
      "  quad_r = quad(f, low, high, args=args, full_output=self.full_output,\n",
      "/Users/nolansmyth/opt/anaconda3/lib/python3.9/site-packages/scipy/integrate/quadpack.py:879: IntegrationWarning: The algorithm does not converge.  Roundoff error is detected\n",
      "  in the extrapolation table.  It is assumed that the requested tolerance\n",
      "  cannot be achieved, and that the returned result (if full_output = 1) is \n",
      "  the best which can be obtained.\n",
      "  quad_r = quad(f, low, high, args=args, full_output=self.full_output,\n",
      "/Users/nolansmyth/opt/anaconda3/lib/python3.9/site-packages/scipy/integrate/quadpack.py:879: IntegrationWarning: The algorithm does not converge.  Roundoff error is detected\n",
      "  in the extrapolation table.  It is assumed that the requested tolerance\n",
      "  cannot be achieved, and that the returned result (if full_output = 1) is \n",
      "  the best which can be obtained.\n",
      "  quad_r = quad(f, low, high, args=args, full_output=self.full_output,\n",
      "/Users/nolansmyth/opt/anaconda3/lib/python3.9/site-packages/scipy/integrate/quadpack.py:879: IntegrationWarning: The algorithm does not converge.  Roundoff error is detected\n",
      "  in the extrapolation table.  It is assumed that the requested tolerance\n",
      "  cannot be achieved, and that the returned result (if full_output = 1) is \n",
      "  the best which can be obtained.\n",
      "  quad_r = quad(f, low, high, args=args, full_output=self.full_output,\n",
      "/Users/nolansmyth/opt/anaconda3/lib/python3.9/site-packages/scipy/integrate/quadpack.py:879: IntegrationWarning: The algorithm does not converge.  Roundoff error is detected\n",
      "  in the extrapolation table.  It is assumed that the requested tolerance\n",
      "  cannot be achieved, and that the returned result (if full_output = 1) is \n",
      "  the best which can be obtained.\n",
      "  quad_r = quad(f, low, high, args=args, full_output=self.full_output,\n",
      "/Users/nolansmyth/opt/anaconda3/lib/python3.9/site-packages/scipy/integrate/quadpack.py:879: IntegrationWarning: The algorithm does not converge.  Roundoff error is detected\n",
      "  in the extrapolation table.  It is assumed that the requested tolerance\n",
      "  cannot be achieved, and that the returned result (if full_output = 1) is \n",
      "  the best which can be obtained.\n",
      "  quad_r = quad(f, low, high, args=args, full_output=self.full_output,\n",
      "100%|██████████| 20/20 [1:27:34<00:00, 262.73s/it]\n"
     ]
    }
   ],
   "source": [
    "A_min = 1\n",
    "A_max = 1e8\n",
    "alpha_min = 1.1\n",
    "alpha_max = 2.5\n",
    "num_points = 20\n",
    "A_values = np.logspace(np.log10(A_min), np.log10(A_max), num_points)\n",
    "alpha_values = np.linspace(alpha_min, alpha_max, num_points) \n",
    "A_grid, alpha_grid = np.meshgrid(A_values, alpha_values)\n",
    "\n",
    "get_n_events_values = np.empty_like(A_grid)\n",
    "\n",
    "for i in tqdm(range(len(alpha_values))):\n",
    "    get_n_events_values[i] = get_n_events_parallel(A_values, alpha=alpha_values[i], finite=False)\n",
    "    "
   ]
  },
  {
   "cell_type": "code",
   "execution_count": 27,
   "metadata": {},
   "outputs": [
    {
     "name": "stderr",
     "output_type": "stream",
     "text": [
      "100%|██████████| 20/20 [1:24:55<00:00, 254.77s/it]\n"
     ]
    }
   ],
   "source": [
    "get_n_events_values_finite = np.empty_like(A_grid)\n",
    "\n",
    "for i in tqdm(range(len(alpha_values))):\n",
    "    get_n_events_values_finite[i] = get_n_events_parallel(A_values, alpha=alpha_values[i], finite=True)"
   ]
  },
  {
   "cell_type": "code",
   "execution_count": 44,
   "metadata": {},
   "outputs": [
    {
     "data": {
      "image/png": "[encoded data removed]",
      "text/plain": [
       "<Figure size 640x480 with 1 Axes>"
      ]
     },
     "metadata": {},
     "output_type": "display_data"
    }
   ],
   "source": [
    "plt.figure()\n",
    "contour = plt.contourf(A_grid, alpha_grid, get_n_events_values, levels=[4.74, 1e10])\n",
    "plt.contourf(A_grid, alpha_grid, get_n_events_values_finite, levels=[4.74, 1e10], colors=\"red\", alpha=0.5)\n",
    "plt.xscale('log')\n",
    "plt.title('Excluded Region for 1 Observation')\n",
    "plt.xlabel('N')\n",
    "plt.ylabel('p')\n",
    "plt.show()"
   ]
  },
  {
   "cell_type": "code",
   "execution_count": 55,
   "metadata": {},
   "outputs": [],
   "source": [
    "def get_constraint_iso(m_iso, alpha=2, finite=False):\n",
    "    if m_iso < 1e-15:\n",
    "        raise ValueError('Mass must be greater than 1e-15')\n",
    "    \n",
    "    #Number of total events assuming 1 ISO per star\n",
    "    #Note A doesn't matter for this part of the calculation\n",
    "    n_events = get_n_events(1, alpha=alpha, finite=finite)\n",
    "\n",
    "    #Porportion of ISOs above threshold\n",
    "    proportion_above_threshold = nquad(s.ffp.mass_func,[[m_iso, s.ffp.m_max]], opts={'points': [s.ffp.m_min, s.ffp.m_min*1e3]})[0]*s.ffp.Z\n",
    "\n",
    "    #Maximum number of total allowed ISOs per star\n",
    "    N_thresh = 4.74/n_events\n",
    "\n",
    "    #Maximum number of allowed ISOs per star of mass m_iso or above\n",
    "    return N_thresh * proportion_above_threshold    "
   ]
  },
  {
   "cell_type": "code",
   "execution_count": 59,
   "metadata": {},
   "outputs": [
    {
     "name": "stdout",
     "output_type": "stream",
     "text": [
      "1.994262314988818e-08\n"
     ]
    }
   ],
   "source": [
    "s.add_ffp(2.1)\n",
    "#Porportion of ISOs above threshold\n",
    "print(nquad(s.ffp.mass_func,[[1e-8, s.ffp.m_max]], opts={'points': [s.ffp.m_min, s.ffp.m_min*1e3]})[0]*s.ffp.Z)"
   ]
  },
  {
   "cell_type": "code",
   "execution_count": 60,
   "metadata": {},
   "outputs": [
    {
     "name": "stdout",
     "output_type": "stream",
     "text": [
      "2.5018864565284407e-06\n"
     ]
    }
   ],
   "source": [
    "s.add_ffp(1.8)\n",
    "#Porportion of ISOs above threshold\n",
    "print(nquad(s.ffp.mass_func,[[1e-8, s.ffp.m_max]], opts={'points': [s.ffp.m_min, s.ffp.m_min*1e3]})[0]*s.ffp.Z)"
   ]
  },
  {
   "cell_type": "code",
   "execution_count": 85,
   "metadata": {},
   "outputs": [
    {
     "data": {
      "text/plain": [
       "3.2647341314114873"
      ]
     },
     "execution_count": 85,
     "metadata": {},
     "output_type": "execute_result"
    }
   ],
   "source": [
    "get_constraint_iso(1e-7, alpha=2.13, finite=True)"
   ]
  },
  {
   "cell_type": "code",
   "execution_count": 86,
   "metadata": {},
   "outputs": [
    {
     "data": {
      "text/plain": [
       "13.62641025013513"
      ]
     },
     "execution_count": 86,
     "metadata": {},
     "output_type": "execute_result"
    }
   ],
   "source": [
    "get_constraint_iso(1e-7, alpha=1.83, finite=True)"
   ]
  },
  {
   "cell_type": "code",
   "execution_count": 161,
   "metadata": {},
   "outputs": [
    {
     "name": "stdout",
     "output_type": "stream",
     "text": [
      "The 95% C.L. is reached when Nexp <= 4.499999999999948\n"
     ]
    }
   ],
   "source": [
    "confidence_level_threshold = 0.05\n",
    "\n",
    "Nexp = 1\n",
    "\n",
    "# Calculate the cumulative probability until it exceeds the threshold\n",
    "while True:\n",
    "    # cumulative_prob = poisson.pmf(0, Nexp) + poisson.pmf(1, Nexp) \n",
    "    cumulative_prob = poisson.pmf(1, Nexp) \n",
    "    if cumulative_prob <= confidence_level_threshold:\n",
    "        break\n",
    "    Nexp += 0.01 \n",
    "\n",
    "print(f\"The 95% C.L. is reached when Nexp <= {Nexp}\")"
   ]
  },
  {
   "attachments": {},
   "cell_type": "markdown",
   "metadata": {},
   "source": [
    "### Constraints on local ISO Density"
   ]
  },
  {
   "cell_type": "code",
   "execution_count": 51,
   "metadata": {},
   "outputs": [
    {
     "name": "stdout",
     "output_type": "stream",
     "text": [
      "1.4504477916737552e-11\n"
     ]
    }
   ],
   "source": [
    "#https://arxiv.org/pdf/1910.08608.pdf handwavy constraint in au^-3\n",
    "\n",
    "local_dm_density = density_mw(dist_mw(0))\n",
    "#for objects with mass 1e-10, this is the HSC constraint\n",
    "m_pbh = 1e-10\n",
    "fpbh = 2e-3\n",
    "kpc2au = 2.06e8\n",
    "\n",
    "print(local_dm_density*kpc2au**(-3)*fpbh/m_pbh)"
   ]
  },
  {
   "cell_type": "code",
   "execution_count": 58,
   "metadata": {},
   "outputs": [
    {
     "name": "stdout",
     "output_type": "stream",
     "text": [
      "upper limit on number density of ISOs in au^-3 with mass greater than 1e-10 for alpha = 2.13\n",
      "3.606223501906863e-14\n"
     ]
    }
   ],
   "source": [
    "#Comparison with FFP distribution\n",
    "\n",
    "#Local number density of ISOs assuming 1 per star\n",
    "local_ffp_density = rho_FFPs_mw(0)\n",
    "m_iso = 1e-10\n",
    "alpha = 2.13\n",
    "\n",
    "#number of ISOs per star with mass greater than m_iso\n",
    "n_objects = get_constraint_iso(m_iso, alpha=alpha, finite=True)\n",
    "\n",
    "print(\"upper limit on number density of ISOs in au^-3 with mass greater than {} for alpha = {}\".format(m_iso, alpha))\n",
    "print(local_ffp_density*kpc2au**(-3)*n_objects)"
   ]
  },
  {
   "cell_type": "code",
   "execution_count": null,
   "metadata": {},
   "outputs": [],
   "source": []
  }
 ],
 "metadata": {
  "kernelspec": {
   "display_name": "base",
   "language": "python",
   "name": "python3"
  },
  "language_info": {
   "codemirror_mode": {
    "name": "ipython",
    "version": 3
   },
   "file_extension": ".py",
   "mimetype": "text/x-python",
   "name": "python",
   "nbconvert_exporter": "python",
   "pygments_lexer": "ipython3",
   "version": "3.9.7"
  },
  "orig_nbformat": 4
 },
 "nbformat": 4,
 "nbformat_minor": 2
}
