{
 "cells": [
  {
   "cell_type": "code",
   "execution_count": 11,
   "metadata": {},
   "outputs": [
    {
     "name": "stdout",
     "output_type": "stream",
     "text": [
      "The autoreload extension is already loaded. To reload it, use:\n",
      "  %reload_ext autoreload\n"
     ]
    }
   ],
   "source": [
    "from LensCalcPy.survey import *\n",
    "import numpy as np\n",
    "import matplotlib.pyplot as plt\n",
    "from scipy.interpolate import interp1d, interp2d\n",
    "from scipy.integrate import quad\n",
    "from tqdm import tqdm\n",
    "from pathos.multiprocessing import ProcessingPool as Pool\n",
    "import functools\n",
    "from scipy.stats import poisson\n",
    "\n",
    "%load_ext autoreload\n",
    "%autoreload 2"
   ]
  },
  {
   "cell_type": "code",
   "execution_count": 12,
   "metadata": {},
   "outputs": [],
   "source": [
    "# HSC Params\n",
    "# l = 121.2\n",
    "# b = -21.6\n",
    "# ds = 770\n",
    "# obsTime = 7\n",
    "# survey_area = 0\n",
    "# n_sources = 8.7e7\n",
    "# efficiency = 0.5\n",
    "from LensCalcPy.parameters import *"
   ]
  },
  {
   "cell_type": "code",
   "execution_count": 13,
   "metadata": {},
   "outputs": [
    {
     "data": {
      "text/plain": [
       "Survey(l=1.0, b=-1.03, source_dist=770, obs_time=7, survey_area=0)"
      ]
     },
     "execution_count": 13,
     "metadata": {},
     "output_type": "execute_result"
    }
   ],
   "source": [
    "s = Survey(l, b, ds, obsTime, survey_area=survey_area, n_sources=n_sources)\n",
    "s"
   ]
  },
  {
   "cell_type": "code",
   "execution_count": 14,
   "metadata": {},
   "outputs": [],
   "source": [
    "t_es = np.logspace(-2, 3, 20) #hours"
   ]
  },
  {
   "cell_type": "code",
   "execution_count": 16,
   "metadata": {},
   "outputs": [],
   "source": [
    "m = 1e-10\n",
    "alpha = 2\n",
    "# s.add_pbh(m)\n",
    "s.add_ffp(alpha)\n",
    "diff_rates = s.get_crossing_times_rates_ffp(t_es, finite=False)"
   ]
  },
  {
   "cell_type": "code",
   "execution_count": 17,
   "metadata": {},
   "outputs": [],
   "source": [
    "diff_rates_finite = s.get_crossing_times_rates_ffp(t_es, finite=True)"
   ]
  },
  {
   "cell_type": "code",
   "execution_count": 18,
   "metadata": {},
   "outputs": [
    {
     "data": {
      "image/png": "[encoded data removed]",
      "text/plain": [
       "<Figure size 640x480 with 1 Axes>"
      ]
     },
     "metadata": {},
     "output_type": "display_data"
    }
   ],
   "source": [
    "plt.loglog(t_es, diff_rates, label='point source')\n",
    "plt.loglog(t_es, diff_rates_finite, label='finite source')\n",
    "\n",
    "# Add lines for HSC sensitivity window\n",
    "plt.axvline(0.07, color='k', ls='--')\n",
    "plt.axvline(3, color='k', ls='--')\n",
    "plt.xlim(1e-2, 1e1)\n",
    "plt.ylim(1e-16,1e-7)\n",
    "plt.legend()\n",
    "plt.show()"
   ]
  },
  {
   "cell_type": "code",
   "execution_count": 19,
   "metadata": {},
   "outputs": [],
   "source": [
    "diff_rate_interp = interp1d(t_es, diff_rates)"
   ]
  },
  {
   "cell_type": "code",
   "execution_count": 20,
   "metadata": {},
   "outputs": [],
   "source": [
    "ti = 0.07\n",
    "tf = 3\n",
    "dnds = quad(diff_rate_interp, ti, tf)[0]"
   ]
  },
  {
   "cell_type": "code",
   "execution_count": 21,
   "metadata": {},
   "outputs": [
    {
     "data": {
      "text/plain": [
       "9.185965970098327e-09"
      ]
     },
     "execution_count": 21,
     "metadata": {},
     "output_type": "execute_result"
    }
   ],
   "source": [
    "s.n_sources*efficiency*dnds"
   ]
  },
  {
   "cell_type": "code",
   "execution_count": 38,
   "metadata": {},
   "outputs": [],
   "source": [
    "def get_n_events(alpha=2, finite=False):\n",
    "    s.add_ffp(alpha)\n",
    "    diff_rates = s.get_crossing_times_rates_ffp(t_es, finite=finite)\n",
    "    rate_interp = interp1d(t_es, diff_rates)\n",
    "    dnds = quad(rate_interp, ti, tf)[0]\n",
    "    return s.n_sources*efficiency*dnds*obsTime\n",
    "\n",
    "# def get_n_events_parallel(alpha=2, finite=False):\n",
    "#     with Pool() as p:\n",
    "#         results = list(tqdm(p.imap(get_n_events, mass_arr), total=len(mass_arr)))\n",
    "#     return results\n",
    "\n",
    "def get_constraint_fdm(m, finite=False):\n",
    "    n_events = get_n_events(m, finite=finite)\n",
    "    if n_events != 0:\n",
    "        return 4.74/n_events\n",
    "    else:\n",
    "        return 1"
   ]
  },
  {
   "cell_type": "code",
   "execution_count": 24,
   "metadata": {},
   "outputs": [],
   "source": [
    "n_events = get_n_events(alpha=alpha, finite=False)"
   ]
  },
  {
   "cell_type": "code",
   "execution_count": 25,
   "metadata": {},
   "outputs": [],
   "source": [
    "n_events_finite = get_n_events(alpha=alpha, finite=True)"
   ]
  },
  {
   "cell_type": "code",
   "execution_count": 39,
   "metadata": {},
   "outputs": [
    {
     "data": {
      "text/plain": [
       "6.430176179068828e-08"
      ]
     },
     "execution_count": 39,
     "metadata": {},
     "output_type": "execute_result"
    }
   ],
   "source": [
    "n_events"
   ]
  },
  {
   "attachments": {},
   "cell_type": "markdown",
   "metadata": {},
   "source": [
    "## 2D exclusion plots"
   ]
  },
  {
   "cell_type": "code",
   "execution_count": 41,
   "metadata": {},
   "outputs": [],
   "source": [
    "def get_n_events(A, alpha=2, finite=False):\n",
    "    #Now A is number of FFPs per star\n",
    "    s.add_ffp(alpha)\n",
    "    diff_rates = s.get_crossing_times_rates_ffp(t_es, finite=finite)\n",
    "    rate_interp = interp1d(t_es, diff_rates)\n",
    "    dnds = quad(rate_interp, ti, tf)[0]\n",
    "    return s.n_sources*efficiency*dnds*obsTime*A\n",
    "\n",
    "def get_n_events_parallel(As, alpha=2, finite=False):\n",
    "    with Pool() as p:\n",
    "        f = functools.partial(get_n_events, alpha=alpha, finite=finite)\n",
    "        results = list(p.imap(f, As))\n",
    "    return results"
   ]
  },
  {
   "cell_type": "code",
   "execution_count": 42,
   "metadata": {},
   "outputs": [
    {
     "name": "stderr",
     "output_type": "stream",
     "text": [
      "100%|██████████| 20/20 [36:12<00:00, 108.64s/it]\n"
     ]
    }
   ],
   "source": [
    "A_min = 1\n",
    "A_max = 1e8\n",
    "alpha_min = 1.1\n",
    "alpha_max = 2.5\n",
    "num_points = 20\n",
    "A_values = np.logspace(np.log10(A_min), np.log10(A_max), num_points)\n",
    "alpha_values = np.linspace(alpha_min, alpha_max, num_points) \n",
    "A_grid, alpha_grid = np.meshgrid(A_values, alpha_values)\n",
    "\n",
    "get_n_events_values = np.empty_like(A_grid)\n",
    "\n",
    "for i in tqdm(range(len(alpha_values))):\n",
    "    get_n_events_values[i] = get_n_events_parallel(A_values, alpha=alpha_values[i], finite=False)\n",
    "    "
   ]
  },
  {
   "cell_type": "code",
   "execution_count": 43,
   "metadata": {},
   "outputs": [],
   "source": [
    "n_events_interp = interp2d(A_values, alpha_values, get_n_events_values, kind='cubic')"
   ]
  },
  {
   "cell_type": "code",
   "execution_count": 44,
   "metadata": {},
   "outputs": [],
   "source": [
    "A_values_dense = np.logspace(np.log10(A_min), np.log10(A_max), num_points*10)\n",
    "alpha_values_dense = np.linspace(alpha_min, alpha_max, num_points*10) \n",
    "n_events_interp_dense = n_events_interp(A_values_dense, alpha_values_dense)"
   ]
  },
  {
   "cell_type": "code",
   "execution_count": 46,
   "metadata": {},
   "outputs": [
    {
     "data": {
      "image/png": "[encoded data removed]",
      "text/plain": [
       "<Figure size 640x480 with 2 Axes>"
      ]
     },
     "metadata": {},
     "output_type": "display_data"
    }
   ],
   "source": [
    "plt.figure()\n",
    "contour = plt.contourf(A_grid, alpha_grid, get_n_events_values, levels=[4.49, 4.74, 1e10])\n",
    "# contour = plt.contourf(A_values_dense, alpha_values_dense, n_events_interp_dense, levels=[4.49, 4.74, 1e10])\n",
    "plt.colorbar(contour)\n",
    "plt.xscale('log')\n",
    "plt.title('Excluded Region for 1 Observation')\n",
    "plt.xlabel('A')\n",
    "plt.ylabel('Alpha')\n",
    "# plt.xlim(1e5,1e7)\n",
    "# plt.ylim(1.1,2.5)\n",
    "plt.show()"
   ]
  },
  {
   "cell_type": "code",
   "execution_count": 185,
   "metadata": {},
   "outputs": [
    {
     "data": {
      "image/png": "[encoded data removed]",
      "text/plain": [
       "<Figure size 640x480 with 2 Axes>"
      ]
     },
     "metadata": {},
     "output_type": "display_data"
    }
   ],
   "source": [
    "#old\n",
    "plt.figure()\n",
    "contour = plt.contourf(A_grid, alpha_grid, get_n_events_values, levels=[4.49, 4.74, 1e10])\n",
    "# contour = plt.contourf(A_values_dense, alpha_values_dense, n_events_interp_dense, levels=[4.49, 4.74, 1e10])\n",
    "plt.colorbar(contour)\n",
    "plt.xscale('log')\n",
    "plt.title('Excluded Region for 1 Observation')\n",
    "plt.xlabel('A')\n",
    "plt.ylabel('Alpha')\n",
    "plt.xlim(1e5,1e7)\n",
    "plt.ylim(1.1,2.5)\n",
    "plt.show()"
   ]
  },
  {
   "cell_type": "code",
   "execution_count": 195,
   "metadata": {},
   "outputs": [],
   "source": [
    "def max_objects_above_threshold(m_threshold, A, alpha):\n",
    "    # Calculate the total number of objects using get_n_events\n",
    "    total_objects = get_n_events(A, alpha)\n",
    "\n",
    "    # Calculate the proportion of objects with masses greater than m_threshold\n",
    "    proportion_above_threshold = (1e-12 / m_threshold) ** alpha\n",
    "\n",
    "    # Calculate the expected number of ISOs with masses greater than m_threshold\n",
    "    objects_above_threshold = total_objects * proportion_above_threshold \n",
    "\n",
    "    return objects_above_threshold"
   ]
  },
  {
   "cell_type": "code",
   "execution_count": 196,
   "metadata": {},
   "outputs": [
    {
     "data": {
      "text/plain": [
       "0.0021117821181996944"
      ]
     },
     "execution_count": 196,
     "metadata": {},
     "output_type": "execute_result"
    }
   ],
   "source": [
    "max_objects_above_threshold(1e-9,1e6,1.2)"
   ]
  },
  {
   "cell_type": "code",
   "execution_count": 161,
   "metadata": {},
   "outputs": [
    {
     "name": "stdout",
     "output_type": "stream",
     "text": [
      "The 95% C.L. is reached when Nexp <= 4.499999999999948\n"
     ]
    }
   ],
   "source": [
    "confidence_level_threshold = 0.05\n",
    "\n",
    "Nexp = 1\n",
    "\n",
    "# Calculate the cumulative probability until it exceeds the threshold\n",
    "while True:\n",
    "    # cumulative_prob = poisson.pmf(0, Nexp) + poisson.pmf(1, Nexp) \n",
    "    cumulative_prob = poisson.pmf(1, Nexp) \n",
    "    if cumulative_prob <= confidence_level_threshold:\n",
    "        break\n",
    "    Nexp += 0.01 \n",
    "\n",
    "print(f\"The 95% C.L. is reached when Nexp <= {Nexp}\")"
   ]
  }
 ],
 "metadata": {
  "kernelspec": {
   "display_name": "base",
   "language": "python",
   "name": "python3"
  },
  "language_info": {
   "codemirror_mode": {
    "name": "ipython",
    "version": 3
   },
   "file_extension": ".py",
   "mimetype": "text/x-python",
   "name": "python",
   "nbconvert_exporter": "python",
   "pygments_lexer": "ipython3",
   "version": "3.9.7"
  },
  "orig_nbformat": 4
 },
 "nbformat": 4,
 "nbformat_minor": 2
}
