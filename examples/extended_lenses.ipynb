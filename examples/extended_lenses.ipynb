{
 "cells": [
  {
   "cell_type": "markdown",
   "id": "e6a8a3eb-8d9f-4db4-a1fa-a13a460ae94e",
   "metadata": {},
   "source": [
    "<h1>Extended Lens Functionality</h1>\n",
    "\n",
    "The below code uses the analysis methodology of https://arxiv.org/abs/2002.08962 to compute the magnification curve associated with an extended lens given by some mass profile $\\rho(r)$ with compactness specified by $r_{90}$, the radius in which $90\\%$ of the mass is enclosed.\n",
    "\n",
    "To do this, it solves the lensing equation $\\beta = \\theta - \\frac{\\theta_E^2}{\\theta}\\frac{M(\\theta)}{M}$. This equation is in terms of angles, however it can be recast in a dimensionless form for transverse radial distances in the plane of the lens. These coordinates are $u$, the impact parameter measured in $r_E$ in the plane of the lens, and $v$, the image location in units of $r_E$ in the plane of the lens. The equation then becomes $u = v - \\frac{1}{v}\\frac{M(v)}{M_{tot}}$ where any overall normalization of the mass function cancels in the ratio.\n",
    "\n",
    "Given an impact parameter $u$, this equation can be solved numerically to yield a corresponding image location $v$. The magnification is then given by $A = |\\frac{\\theta}{\\beta}\\frac{d\\theta}{d\\beta}| = |\\frac{v}{u}\\frac{dv}{du}|$. Hence, having solved for $v$ as a function of $u$, one can compute the curve $A(u)$.\n",
    "\n",
    "There is a nuance in this analysis, however, which is that often $v(u)$ is not a single-valued function. Multiple images can be produced, hence the $v(u)$ curve must be split along its branches and the magnification must be computed for each image, then each of these magnifications summed to yield the total magnification."
   ]
  },
  {
   "cell_type": "code",
   "execution_count": 3,
   "id": "81192172-53c7-46b3-ba29-ebd52d790564",
   "metadata": {},
   "outputs": [],
   "source": [
    "# Import necessary packages\n",
    "\n",
    "import numpy as np\n",
    "from scipy import integrate\n",
    "import matplotlib.pyplot as plt"
   ]
  },
  {
   "cell_type": "markdown",
   "id": "a8622d79-656f-438f-b2a6-9b0c8d8c9cf3",
   "metadata": {},
   "source": [
    "We use an NFW profile as a test case.\n",
    "\n",
    "$\\rho(r, \\rho_s, r_s) = \\frac{\\rho_s}{(r/r_s)(1+(r/r_s))^2}$"
   ]
  },
  {
   "cell_type": "code",
   "execution_count": 4,
   "id": "67178337-b630-4b7f-ac86-3a882c279009",
   "metadata": {},
   "outputs": [],
   "source": [
    "# Define the density profile of the extended lens, here an NFW profile with truncation radius 100 rs.\n",
    "# Note that r90 = 69*rs for an NFW profile.\n",
    "\n",
    "def rho(r, r90):\n",
    "    rs = r90/69\n",
    "    if 0 < r < 100*rs:\n",
    "        return(((r/rs)*(1 + (r/rs))**2)**-1)\n",
    "    elif r >= 100*rs:\n",
    "        return(0)\n",
    "    else:\n",
    "        print(\"ERROR: r/r90 are not a valid non-negative float.\")"
   ]
  },
  {
   "cell_type": "markdown",
   "id": "09e83481-e8fa-470c-8041-3aa86a172679",
   "metadata": {},
   "source": [
    "The following functions compute the projected mass between two radial locations in the plane of the lens $v_a$ and $v_b$. This allows us to perform a much faster integral by saving the integration value for a previous $v$ and simply adding on the next interval."
   ]
  },
  {
   "cell_type": "code",
   "execution_count": 611,
   "id": "5aae9143-e933-4dfb-9641-1797057cdd8e",
   "metadata": {},
   "outputs": [],
   "source": [
    "def M(va, vb, r90):\n",
    "    f = lambda vp, z: vp * rho(np.sqrt(vp**2 + z**2), r90)\n",
    "    integral = integrate.dblquad(f, -np.inf, np.inf, va, vb)\n",
    "    return(integral[0])"
   ]
  },
  {
   "cell_type": "code",
   "execution_count": 618,
   "id": "0536cb4d-03e7-42aa-a247-b7646fef5723",
   "metadata": {},
   "outputs": [],
   "source": [
    "def M(va, vb, r90):\n",
    "    f = lambda vp, z: vp * rho(np.sqrt(vp**2 + z**2), r90)\n",
    "    rmax = (100/69)*r90\n",
    "    integral = integrate.dblquad(f, -rmax, rmax, va, vb)\n",
    "    return(integral[0])"
   ]
  },
  {
   "cell_type": "markdown",
   "id": "0b7ef16a-0e43-444e-b3ee-3ccf476377a0",
   "metadata": {},
   "source": [
    "The function \"Ms\" returns a tuple of the $v$-values used in the analysis (between $v_\\text{min}$ and $v_\\text{max}$) and their corresponding $M(v)$."
   ]
  },
  {
   "cell_type": "code",
   "execution_count": 634,
   "id": "e031aa94-33ed-4256-af1d-2f18d0fb5bd0",
   "metadata": {},
   "outputs": [],
   "source": [
    "def Ms(r90, vmin, vmax, vincrement):\n",
    "    \n",
    "    output = np.array([])\n",
    "    vs = np.arange(vmin, vmax, vincrement)\n",
    "    running_int = M(0, vmin, r90)\n",
    "    for i in np.arange(len(vs)-1):\n",
    "        this_int = M(vs[i], vs[i+1], r90)\n",
    "        running_int += this_int\n",
    "        output = np.append(output, running_int)\n",
    "        \n",
    "    return((vs+vincrement)[0:-1], output)"
   ]
  },
  {
   "cell_type": "markdown",
   "id": "851e3d6d-fb1b-43fa-9165-d99f5860be57",
   "metadata": {},
   "source": [
    "Since we don't care about the actual masses, we work in ratios with respect to the total mass."
   ]
  },
  {
   "cell_type": "code",
   "execution_count": 632,
   "id": "9af3d95e-5672-42b7-bb4b-69f8f481db47",
   "metadata": {},
   "outputs": [],
   "source": [
    "def Mratios(r90, vmin, vmax, vincrement):\n",
    "    tab = Ms(r90, vmin, vmax, vincrement)\n",
    "    rmax = (100/69)*r90\n",
    "    Mtot = M(0, rmax, r90)\n",
    "    return(r90, tab[0], tab[1]/Mtot)"
   ]
  },
  {
   "cell_type": "markdown",
   "id": "0c8cc3fc-7255-4ae7-8c52-341406062e25",
   "metadata": {},
   "source": [
    "Here, we calculate $u$ as a function of $v$. Note that the mass-ratios also have a $v$-dependence."
   ]
  },
  {
   "cell_type": "code",
   "execution_count": 8,
   "id": "94234171-fe12-4a5d-b291-210b5a6efed5",
   "metadata": {},
   "outputs": [],
   "source": [
    "def u(r90, vs, Mrats):\n",
    "    return(vs - vs**-1 * Mrats)"
   ]
  },
  {
   "cell_type": "markdown",
   "id": "65a5e7f0-b372-4c3c-b1e4-bd84f5701800",
   "metadata": {},
   "source": [
    "This code checks for places in which the slope of the $u(v)$ curve flips, implying $v(u)$ is multi-valued. It then splits a given set of $u, v$ pairs into various curves corresponding to the different branches."
   ]
  },
  {
   "cell_type": "code",
   "execution_count": 118,
   "id": "f76dad3a-0d5d-4197-866e-101247a677fc",
   "metadata": {},
   "outputs": [],
   "source": [
    "def signChanges(us):\n",
    "    # Things are safe up to this element of the array\n",
    "    usign = np.diff(np.sign(np.diff(us)))\n",
    "    flipidxs = np.nonzero(usign)[0]+1\n",
    "    \n",
    "    return(np.append(0,np.append(flipidxs, -1)))"
   ]
  },
  {
   "cell_type": "code",
   "execution_count": 117,
   "id": "28dc13be-4bae-4c27-96e5-c22ab6ddb244",
   "metadata": {},
   "outputs": [
    {
     "data": {
      "text/plain": [
       "array([ 0,  8, -1])"
      ]
     },
     "execution_count": 117,
     "metadata": {},
     "output_type": "execute_result"
    }
   ],
   "source": [
    "signChanges(us)"
   ]
  },
  {
   "cell_type": "code",
   "execution_count": 119,
   "id": "8204f609-c713-457d-b243-78f4e0d55db5",
   "metadata": {},
   "outputs": [],
   "source": [
    "def splitCurves(us, vs):\n",
    "    signchanges = signChanges(us)\n",
    "    \n",
    "    curves = []\n",
    "    for i in range(len(signchanges)-1):\n",
    "        ucurve = np.array(us[signchanges[i]:signchanges[i+1]])\n",
    "        vcurve = np.array(vs[signchanges[i]:signchanges[i+1]])\n",
    "        \n",
    "        curves.append(np.array([ucurve, vcurve]))\n",
    "                       \n",
    "    return(curves)\n",
    "        "
   ]
  },
  {
   "cell_type": "markdown",
   "id": "880089d0-51cb-48eb-8466-d726da85aed3",
   "metadata": {},
   "source": [
    "centerdiff is a helper function for the numerical derivative we will perform to get the magnification curve."
   ]
  },
  {
   "cell_type": "code",
   "execution_count": 120,
   "id": "d32e5e80-e41f-4c3b-8078-91f98e15ae9d",
   "metadata": {},
   "outputs": [],
   "source": [
    "def centerdiff(array):\n",
    "    return([array[i+1]-array[i-1] for i in range(1, len(array)-2)])"
   ]
  },
  {
   "cell_type": "markdown",
   "id": "6fd22af0-b7d7-42cf-9332-bbf508456e9d",
   "metadata": {},
   "source": [
    "This function performs a numerical derivative to calculate the value of the magnification for each $u, v$ pair, then returns a tuple of the corresponding $u$-values and $A$-values that allows one to construct $A_i(u)$ for each branch of solutions $i$."
   ]
  },
  {
   "cell_type": "code",
   "execution_count": 121,
   "id": "e48f7181-b58b-4dfe-9b12-b4c8fd704f91",
   "metadata": {},
   "outputs": [],
   "source": [
    "def magnificationCurve(us, vs):\n",
    "    return(us[1:-2], np.abs((vs[1:-2]*centerdiff(vs))/(us[1:-2]*centerdiff(us))))"
   ]
  },
  {
   "cell_type": "markdown",
   "id": "6b2d3b6a-7401-40f4-a329-7dcf87faee8a",
   "metadata": {},
   "source": [
    "Here, we compute the magnification curve for each branch of the solution at the $u$-values given by umags by interpolating each curve to these values. We also include the branches corresponding to $u, v \\rightarrow -u, -v$. We then sum all of the results. This yields $A_\\text{tot}$."
   ]
  },
  {
   "cell_type": "code",
   "execution_count": 340,
   "id": "41fd990d-cdd1-4e6f-ad6f-53d85013cb54",
   "metadata": {},
   "outputs": [],
   "source": [
    "def totalMagnificationCurve(curves, umax, ustep):\n",
    "    \n",
    "    # This must be a symmetric range in order to compute negative contribution correctly.\n",
    "    umags = np.append(-np.flip(np.arange(ustep, umax, ustep)), np.arange(ustep, umax, ustep))\n",
    "    \n",
    "    Amags = np.zeros([len(umags)])\n",
    "    \n",
    "    for curve in curves:\n",
    "        us = curve[0]\n",
    "        vs = curve[1]\n",
    "        \n",
    "        u1s, A1s = magnificationCurve(us, vs)\n",
    "        \n",
    "        Amags += np.interp(umags, u1s, A1s)\n",
    "        if np.max(umags) > np.max(u1s) or np.min(np.abs(umags)) < np.min(u1s):\n",
    "            print(\"Leaving range of safe interpolation.\")\n",
    "        Amags[umags > np.max(u1s)] = 0\n",
    "        Amags[umags < np.min(u1s)] = 0\n",
    "        \n",
    "    # We must also account for the negative image branch.\n",
    "    Amagstotal = Amags + np.flip(Amags)\n",
    "        \n",
    "    return(umags, Amagstotal)\n",
    "        \n",
    "        "
   ]
  },
  {
   "cell_type": "markdown",
   "id": "33088d82-ac4b-4fd0-9ba3-239984d02df4",
   "metadata": {},
   "source": [
    "This finds the first time the magnification drops below some threshold, hence yields $u_T$."
   ]
  },
  {
   "cell_type": "code",
   "execution_count": 160,
   "id": "cb202148-05e7-47e7-a598-fc71fb809123",
   "metadata": {},
   "outputs": [],
   "source": [
    "def find_uT(Athresh, umags, Amags):\n",
    "    if np.max(Amags) < Athresh:\n",
    "        print(\"A always < Athresh.\")\n",
    "        return(0)\n",
    "    elif np.min(Amags) > Athresh:\n",
    "        print(\"A always > Athresh.\")\n",
    "        return(np.inf)\n",
    "    elif Amags[0] > Athresh:\n",
    "        uT = umags[np.argmax(Amags < Athresh)]\n",
    "    elif Amags[0] < Athresh:\n",
    "        uT = umags[np.argmax(Amags > Athresh)]\n",
    "    else:\n",
    "        print(\"Error in uT computation.\")\n",
    "    \n",
    "    return(uT)"
   ]
  },
  {
   "cell_type": "markdown",
   "id": "88eed1b8-c20d-452f-8b73-eb476ea23a0c",
   "metadata": {},
   "source": [
    "Finally, we can capture this as a single function if we want to just compute A(u) on the fly."
   ]
  },
  {
   "cell_type": "code",
   "execution_count": 663,
   "id": "78477986-db85-4cea-aa5b-260a7b2f52d4",
   "metadata": {},
   "outputs": [],
   "source": [
    "def GenerateMagnificationCurve(r90, vmin=0.001, vmax=5, vstep=0.005, umax=4, ustep=0.01, AT=1.34):\n",
    "    r90, vs, Mrats = Mratios(r90, vmin, vmax, vstep)\n",
    "    us = u(r90, vs, Mrats)\n",
    "    curves = splitCurves(us, vs)\n",
    "    print(\"There is/are \"+str(len(curves))+\" positive branch(es).\")\n",
    "    \n",
    "    umags, Amags = totalMagnificationCurve(curves, umax, ustep)\n",
    "    uT = find_uT(AT, umags, Amags)\n",
    "    \n",
    "    print(\"u_T = \"+str(np.abs(uT)))\n",
    "    \n",
    "    return(umags, Amags)"
   ]
  },
  {
   "cell_type": "markdown",
   "id": "c99a911f-cddd-45b9-bc2c-e5f5d9ca62f5",
   "metadata": {
    "tags": []
   },
   "source": [
    "<h2>Example usage</h2>"
   ]
  },
  {
   "cell_type": "markdown",
   "id": "92f3dbb1-00b8-4898-acfc-20d3f1cd714c",
   "metadata": {},
   "source": [
    "A basic example."
   ]
  },
  {
   "cell_type": "code",
   "execution_count": 699,
   "id": "66d66b65-91c8-4e17-991d-c08b581d64f2",
   "metadata": {},
   "outputs": [
    {
     "name": "stdout",
     "output_type": "stream",
     "text": [
      "There is/are 2 positive branch(es).\n",
      "Leaving range of safe interpolation.\n",
      "u_T = 0.6\n"
     ]
    },
    {
     "name": "stderr",
     "output_type": "stream",
     "text": [
      "/usr/local/lib/python3.9/site-packages/scipy/integrate/_quadpack_py.py:879: IntegrationWarning: The maximum number of subdivisions (50) has been achieved.\n",
      "  If increasing the limit yields no improvement it is advised to analyze \n",
      "  the integrand in order to determine the difficulties.  If the position of a \n",
      "  local difficulty can be determined (singularity, discontinuity) one will \n",
      "  probably gain from splitting up the interval and calling the integrator \n",
      "  on the subranges.  Perhaps a special-purpose integrator should be used.\n",
      "  quad_r = quad(f, low, high, args=args, full_output=self.full_output,\n"
     ]
    }
   ],
   "source": [
    "umags, Amags = GenerateMagnificationCurve(20)"
   ]
  },
  {
   "cell_type": "code",
   "execution_count": 703,
   "id": "b15d1ff1-1bcc-4075-a15d-3321ec9ce0b5",
   "metadata": {},
   "outputs": [],
   "source": [
    "np.save(\"r90=20.npy\", np.array([umags, Amags]))"
   ]
  },
  {
   "cell_type": "markdown",
   "id": "dca87781-b4bc-43c7-9ac8-eae2d8e93a90",
   "metadata": {},
   "source": [
    "A case that requires finer resolution."
   ]
  },
  {
   "cell_type": "code",
   "execution_count": 705,
   "id": "656aaabd-09b7-444d-a932-88c79ed4e934",
   "metadata": {},
   "outputs": [
    {
     "name": "stderr",
     "output_type": "stream",
     "text": [
      "/usr/local/lib/python3.9/site-packages/scipy/integrate/_quadpack_py.py:879: IntegrationWarning: The integral is probably divergent, or slowly convergent.\n",
      "  quad_r = quad(f, low, high, args=args, full_output=self.full_output,\n"
     ]
    },
    {
     "name": "stdout",
     "output_type": "stream",
     "text": [
      "There is/are 2 positive branch(es).\n",
      "Leaving range of safe interpolation.\n",
      "u_T = 1.0\n"
     ]
    }
   ],
   "source": [
    "umags, Amags = GenerateMagnificationCurve(1,vstep=0.0001)"
   ]
  },
  {
   "cell_type": "code",
   "execution_count": 706,
   "id": "bdfb1379-b117-4da4-948b-4715d87a8e43",
   "metadata": {},
   "outputs": [],
   "source": [
    "np.save(\"r90=1.npy\", np.array([umags, Amags]))"
   ]
  },
  {
   "cell_type": "markdown",
   "id": "156f3ec3-c471-4f2e-a49d-9b15658eaea4",
   "metadata": {},
   "source": [
    "A case near point-like."
   ]
  },
  {
   "cell_type": "code",
   "execution_count": 707,
   "id": "97284c52-bb89-47ca-bc54-2139ced0f60a",
   "metadata": {},
   "outputs": [
    {
     "name": "stdout",
     "output_type": "stream",
     "text": [
      "There is/are 1 positive branch(es).\n",
      "u_T = 1.0\n"
     ]
    }
   ],
   "source": [
    "umags, Amags = GenerateMagnificationCurve(0.1)"
   ]
  },
  {
   "cell_type": "code",
   "execution_count": 708,
   "id": "ca1cf871-8f6d-40d0-a12c-2782938ee682",
   "metadata": {},
   "outputs": [],
   "source": [
    "np.save(\"r90=0.1.npy\", np.array([umags, Amags]))"
   ]
  },
  {
   "cell_type": "markdown",
   "id": "2e8bc5bc-be5e-453e-882a-8200def79e68",
   "metadata": {},
   "source": [
    "A case near point-like with a different threshold magnification."
   ]
  },
  {
   "cell_type": "code",
   "execution_count": 666,
   "id": "b9ba533b-3270-416f-ba40-d465386ec0f7",
   "metadata": {},
   "outputs": [
    {
     "name": "stdout",
     "output_type": "stream",
     "text": [
      "There is/are 1 positive branch(es).\n",
      "u_T = 1.6700000000000002\n"
     ]
    }
   ],
   "source": [
    "umags, Amags = GenerateMagnificationCurve(0.1, AT=1.1)"
   ]
  },
  {
   "cell_type": "markdown",
   "id": "4afdeb9e-6a70-4e1e-a0bd-558fa1e4a30b",
   "metadata": {},
   "source": [
    "An extreme example in which finer resolution and minimum step is required"
   ]
  },
  {
   "cell_type": "code",
   "execution_count": 668,
   "id": "94d237a4-ea1b-420e-af1e-67791fdb6442",
   "metadata": {},
   "outputs": [
    {
     "name": "stdout",
     "output_type": "stream",
     "text": [
      "There is/are 1 positive branch(es).\n",
      "u_T = 1.0\n"
     ]
    }
   ],
   "source": [
    "umags, Amags = GenerateMagnificationCurve(0.001, vmin=0.0001, vstep=0.0005)"
   ]
  },
  {
   "cell_type": "markdown",
   "id": "3ec81167-ce1c-483f-afc0-32c7a8d7962e",
   "metadata": {},
   "source": [
    "An extreme example of large $r_{90}$."
   ]
  },
  {
   "cell_type": "code",
   "execution_count": 698,
   "id": "16740bbe-d78a-484e-bee5-211e0d61f279",
   "metadata": {},
   "outputs": [
    {
     "name": "stdout",
     "output_type": "stream",
     "text": [
      "There is/are 1 positive branch(es).\n",
      "u_T = 0.15000000000000002\n"
     ]
    },
    {
     "name": "stderr",
     "output_type": "stream",
     "text": [
      "/usr/local/lib/python3.9/site-packages/scipy/integrate/_quadpack_py.py:879: IntegrationWarning: The occurrence of roundoff error is detected, which prevents \n",
      "  the requested tolerance from being achieved.  The error may be \n",
      "  underestimated.\n",
      "  quad_r = quad(f, low, high, args=args, full_output=self.full_output,\n"
     ]
    }
   ],
   "source": [
    "umags, Amags = GenerateMagnificationCurve(90)"
   ]
  },
  {
   "cell_type": "code",
   "execution_count": 709,
   "id": "982e3b9b-a8e4-4eb3-9c33-ec5418928133",
   "metadata": {},
   "outputs": [
    {
     "name": "stdout",
     "output_type": "stream",
     "text": [
      "There is/are 1 positive branch(es).\n",
      "u_T = 0.11\n"
     ]
    }
   ],
   "source": [
    "umags, Amags = GenerateMagnificationCurve(100)"
   ]
  },
  {
   "cell_type": "code",
   "execution_count": 710,
   "id": "a1c7b9f1-a856-423c-81a6-573ff649e797",
   "metadata": {},
   "outputs": [],
   "source": [
    "np.save(\"r90=100.npy\", np.array([umags, Amags]))"
   ]
  },
  {
   "cell_type": "code",
   "execution_count": 711,
   "id": "15ecc9d7-abf4-4fea-abe6-734543234ba0",
   "metadata": {},
   "outputs": [
    {
     "name": "stdout",
     "output_type": "stream",
     "text": [
      "There is/are 2 positive branch(es).\n",
      "Leaving range of safe interpolation.\n",
      "u_T = 1.09\n"
     ]
    }
   ],
   "source": [
    "umags, Amags = GenerateMagnificationCurve(5,vstep=0.0001)"
   ]
  },
  {
   "cell_type": "code",
   "execution_count": 712,
   "id": "202e6308-ba7b-4661-9674-91a1fa485d72",
   "metadata": {},
   "outputs": [],
   "source": [
    "np.save(\"r90=5.npy\", np.array([umags, Amags]))"
   ]
  },
  {
   "cell_type": "code",
   "execution_count": 714,
   "id": "874c2bb0-46af-4319-9fc1-9caef008bbe0",
   "metadata": {},
   "outputs": [
    {
     "name": "stdout",
     "output_type": "stream",
     "text": [
      "There is/are 2 positive branch(es).\n",
      "Leaving range of safe interpolation.\n",
      "u_T = 0.68\n"
     ]
    }
   ],
   "source": [
    "umags, Amags = GenerateMagnificationCurve(10)"
   ]
  },
  {
   "cell_type": "code",
   "execution_count": 715,
   "id": "9e7980c8-eb41-4e2e-8354-5117107aef28",
   "metadata": {},
   "outputs": [],
   "source": [
    "np.save(\"r90=10.npy\", np.array([umags, Amags]))"
   ]
  },
  {
   "cell_type": "code",
   "execution_count": 716,
   "id": "0f8b150f-00a4-462a-9312-4c035f0e399e",
   "metadata": {},
   "outputs": [
    {
     "name": "stdout",
     "output_type": "stream",
     "text": [
      "There is/are 1 positive branch(es).\n",
      "u_T = 0.39\n"
     ]
    }
   ],
   "source": [
    "umags, Amags = GenerateMagnificationCurve(50)"
   ]
  },
  {
   "cell_type": "code",
   "execution_count": 717,
   "id": "ed30a9aa-859f-4474-8d58-88bcc2f5f003",
   "metadata": {},
   "outputs": [],
   "source": [
    "np.save(\"r90=50.npy\", np.array([umags, Amags]))"
   ]
  },
  {
   "cell_type": "markdown",
   "id": "d15eafa3-48d5-4fa2-b4dd-750ff3471b13",
   "metadata": {
    "jp-MarkdownHeadingCollapsed": true,
    "tags": []
   },
   "source": [
    "<h2>Examples (broken down by step)</h2>"
   ]
  },
  {
   "cell_type": "markdown",
   "id": "504fda30-8c71-4e00-abfb-2e7d1b30c93e",
   "metadata": {
    "jp-MarkdownHeadingCollapsed": true,
    "tags": []
   },
   "source": [
    "<h3>$r_{90} = 20 r_E$ NFW</h3>"
   ]
  },
  {
   "cell_type": "markdown",
   "id": "4f4af339-6610-4c1a-a172-5baa3f8b2885",
   "metadata": {},
   "source": [
    "Here is the case for an NFW profile with $r_{90} = 20 r_E$."
   ]
  },
  {
   "cell_type": "code",
   "execution_count": 230,
   "id": "ec23961d-39c0-4b4e-a553-7bea0fda36cd",
   "metadata": {},
   "outputs": [],
   "source": [
    "r90, vs, Mrats = Mratios(20, 0.001, 3, 0.001)"
   ]
  },
  {
   "cell_type": "code",
   "execution_count": 231,
   "id": "4721ee70-cf6a-4c1d-a5c8-04ff3e6bb503",
   "metadata": {},
   "outputs": [],
   "source": [
    "us = u(r90, vs, Mrats)"
   ]
  },
  {
   "cell_type": "code",
   "execution_count": 232,
   "id": "a4edc042-e620-4573-bb37-0b437f0dd72f",
   "metadata": {},
   "outputs": [],
   "source": [
    "curves = splitCurves(us, vs)"
   ]
  },
  {
   "cell_type": "markdown",
   "id": "3fbdb43e-e1a2-431c-926a-3fc055171617",
   "metadata": {},
   "source": [
    "We see the two branches in the $v(u)$ plot. They have been split and colored blue and orange."
   ]
  },
  {
   "cell_type": "code",
   "execution_count": 233,
   "id": "19a2707d-b708-40d7-b2dd-ec5215e61a60",
   "metadata": {},
   "outputs": [
    {
     "data": {
      "text/plain": [
       "[<matplotlib.lines.Line2D at 0x1320bb9d0>]"
      ]
     },
     "execution_count": 233,
     "metadata": {},
     "output_type": "execute_result"
    },
    {
     "data": {
      "image/png": "[encoded data removed]",
      "text/plain": [
       "<Figure size 432x288 with 1 Axes>"
      ]
     },
     "metadata": {
      "needs_background": "light"
     },
     "output_type": "display_data"
    }
   ],
   "source": [
    "plt.plot(curves[0][0], curves[0][1])\n",
    "plt.plot(curves[1][0], curves[1][1])"
   ]
  },
  {
   "cell_type": "code",
   "execution_count": 234,
   "id": "9b1ed080-4e8f-4110-bf94-365115a41c06",
   "metadata": {},
   "outputs": [],
   "source": [
    "umags, Amags = totalMagnificationCurve(curves, 3, 0.01)"
   ]
  },
  {
   "cell_type": "code",
   "execution_count": 235,
   "id": "38fea201-0ab3-4b82-8d90-867551cbe8ac",
   "metadata": {},
   "outputs": [
    {
     "data": {
      "text/plain": [
       "[<matplotlib.lines.Line2D at 0x131650610>]"
      ]
     },
     "execution_count": 235,
     "metadata": {},
     "output_type": "execute_result"
    },
    {
     "data": {
      "image/png": "[encoded data removed]",
      "text/plain": [
       "<Figure size 432x288 with 1 Axes>"
      ]
     },
     "metadata": {
      "needs_background": "light"
     },
     "output_type": "display_data"
    }
   ],
   "source": [
    "plt.plot(umags, Amags)"
   ]
  },
  {
   "cell_type": "code",
   "execution_count": 236,
   "id": "4e63383d-26e5-417c-85d5-ca64f77603c5",
   "metadata": {},
   "outputs": [
    {
     "data": {
      "text/plain": [
       "-0.610000000000051"
      ]
     },
     "execution_count": 236,
     "metadata": {},
     "output_type": "execute_result"
    }
   ],
   "source": [
    "find_uT(1.34, umags, Amags)"
   ]
  },
  {
   "cell_type": "markdown",
   "id": "4dc14791-23e0-4f04-b6e7-99ec622db6e6",
   "metadata": {},
   "source": [
    "This agrees with the curve in Djuna's paper."
   ]
  },
  {
   "cell_type": "markdown",
   "id": "29e38208-6251-40cc-b526-2f412e0ed5c0",
   "metadata": {
    "jp-MarkdownHeadingCollapsed": true,
    "tags": []
   },
   "source": [
    "<h3>$r_{90} = 0.1 r_E$ NFW (i.e. point source)</h3>"
   ]
  },
  {
   "cell_type": "code",
   "execution_count": 352,
   "id": "1259b9b2-8517-45e6-bb54-f8cec62b9b55",
   "metadata": {
    "tags": []
   },
   "outputs": [],
   "source": [
    "r90, vs, Mrats = Mratios(0.1, 0.001, 5, 0.01)"
   ]
  },
  {
   "cell_type": "code",
   "execution_count": 345,
   "id": "97fe7f8e-834d-40ee-8eea-509733a5ebb3",
   "metadata": {},
   "outputs": [],
   "source": [
    "us = u(r90, vs, Mrats)"
   ]
  },
  {
   "cell_type": "code",
   "execution_count": 346,
   "id": "a6c34a2f-e211-46d5-99cb-b3a98d28cc88",
   "metadata": {},
   "outputs": [],
   "source": [
    "curves = splitCurves(us, vs)"
   ]
  },
  {
   "cell_type": "markdown",
   "id": "2d7287bd-46a9-48e3-b3ce-d4a31a23d435",
   "metadata": {},
   "source": [
    "Here, there is only one branch in the $v(u)$ plot."
   ]
  },
  {
   "cell_type": "code",
   "execution_count": 347,
   "id": "dd9ad78d-b152-43f1-8035-12d84ae245b7",
   "metadata": {},
   "outputs": [
    {
     "data": {
      "text/plain": [
       "[<matplotlib.lines.Line2D at 0x132bdf3d0>]"
      ]
     },
     "execution_count": 347,
     "metadata": {},
     "output_type": "execute_result"
    },
    {
     "data": {
      "image/png": "[encoded data removed]",
      "text/plain": [
       "<Figure size 432x288 with 1 Axes>"
      ]
     },
     "metadata": {
      "needs_background": "light"
     },
     "output_type": "display_data"
    }
   ],
   "source": [
    "plt.plot(curves[0][0][0:8000], curves[0][1][0:8000])"
   ]
  },
  {
   "cell_type": "code",
   "execution_count": 348,
   "id": "537d7892-9416-4501-9f1b-a9c248517cc1",
   "metadata": {},
   "outputs": [],
   "source": [
    "umags, Amags = totalMagnificationCurve(curves, 4, 0.01)"
   ]
  },
  {
   "cell_type": "code",
   "execution_count": 349,
   "id": "72363742-19b6-460b-8cea-bb45e01b048a",
   "metadata": {},
   "outputs": [
    {
     "data": {
      "text/plain": [
       "[<matplotlib.lines.Line2D at 0x132c6ddf0>]"
      ]
     },
     "execution_count": 349,
     "metadata": {},
     "output_type": "execute_result"
    },
    {
     "data": {
      "image/png": "[encoded data removed]",
      "text/plain": [
       "<Figure size 432x288 with 1 Axes>"
      ]
     },
     "metadata": {
      "needs_background": "light"
     },
     "output_type": "display_data"
    }
   ],
   "source": [
    "plt.plot(umags, Amags)"
   ]
  },
  {
   "cell_type": "code",
   "execution_count": 350,
   "id": "9f3356f8-a060-4e25-9e8a-a732b8394e04",
   "metadata": {},
   "outputs": [
    {
     "data": {
      "text/plain": [
       "-0.99"
      ]
     },
     "execution_count": 350,
     "metadata": {},
     "output_type": "execute_result"
    }
   ],
   "source": [
    "find_uT(1.34, umags, Amags)"
   ]
  },
  {
   "cell_type": "markdown",
   "id": "fc09c73d-964e-462c-9a57-4be212a88c88",
   "metadata": {
    "jp-MarkdownHeadingCollapsed": true,
    "tags": []
   },
   "source": [
    "<h3>$r_{90} = 1 r_E$ NFW (singular)</h3>"
   ]
  },
  {
   "cell_type": "markdown",
   "id": "948e6ade-dc23-4666-8404-83d16091dac1",
   "metadata": {},
   "source": [
    "This region requires finer resolution to capture both branches."
   ]
  },
  {
   "cell_type": "code",
   "execution_count": 689,
   "id": "228f6b0f-8523-4ff2-966d-47db27d3bc4e",
   "metadata": {
    "tags": []
   },
   "outputs": [],
   "source": [
    "r90, vs, Mrats = Mratios(1, 0.0001, 5, 0.0001)"
   ]
  },
  {
   "cell_type": "code",
   "execution_count": 690,
   "id": "a4bc6af6-0eeb-4e56-ae9a-ae845fe7c25c",
   "metadata": {},
   "outputs": [],
   "source": [
    "us = u(r90, vs, Mrats)"
   ]
  },
  {
   "cell_type": "code",
   "execution_count": 691,
   "id": "81000fe4-7c4d-4020-a16d-dc62dc9f6114",
   "metadata": {},
   "outputs": [],
   "source": [
    "curves = splitCurves(us, vs)"
   ]
  },
  {
   "cell_type": "markdown",
   "id": "3234a897-37b7-44ff-9981-0f0dca7dac89",
   "metadata": {},
   "source": [
    "Here, there are two branches in the $v(u)$ plot."
   ]
  },
  {
   "cell_type": "code",
   "execution_count": 692,
   "id": "4773c377-46cf-499d-8e74-30d3c7e35104",
   "metadata": {},
   "outputs": [
    {
     "data": {
      "text/plain": [
       "[<matplotlib.lines.Line2D at 0x1343f87f0>]"
      ]
     },
     "execution_count": 692,
     "metadata": {},
     "output_type": "execute_result"
    },
    {
     "data": {
      "image/png": "[encoded data removed]",
      "text/plain": [
       "<Figure size 432x288 with 1 Axes>"
      ]
     },
     "metadata": {
      "needs_background": "light"
     },
     "output_type": "display_data"
    }
   ],
   "source": [
    "plt.plot(curves[0][0], curves[0][1])\n",
    "plt.plot(curves[1][0], curves[1][1])"
   ]
  },
  {
   "cell_type": "code",
   "execution_count": 693,
   "id": "794835e5-68ab-4ef7-ac93-4ad3dc7b3cbe",
   "metadata": {},
   "outputs": [
    {
     "name": "stdout",
     "output_type": "stream",
     "text": [
      "Leaving range of safe interpolation.\n",
      "Leaving range of safe interpolation.\n"
     ]
    }
   ],
   "source": [
    "umags, Amags = totalMagnificationCurve(curves, 10, 0.01)"
   ]
  },
  {
   "cell_type": "code",
   "execution_count": 694,
   "id": "36bb94b6-4325-4615-8ed1-69cc246758f4",
   "metadata": {},
   "outputs": [
    {
     "data": {
      "text/plain": [
       "[<matplotlib.lines.Line2D at 0x13464e8e0>]"
      ]
     },
     "execution_count": 694,
     "metadata": {},
     "output_type": "execute_result"
    },
    {
     "data": {
      "image/png": "[encoded data removed]",
      "text/plain": [
       "<Figure size 432x288 with 1 Axes>"
      ]
     },
     "metadata": {
      "needs_background": "light"
     },
     "output_type": "display_data"
    }
   ],
   "source": [
    "plt.plot(umags, Amags)"
   ]
  },
  {
   "cell_type": "code",
   "execution_count": 695,
   "id": "b66ce029-77a6-40e8-b42c-d3173e1c007b",
   "metadata": {},
   "outputs": [
    {
     "data": {
      "text/plain": [
       "-1.0"
      ]
     },
     "execution_count": 695,
     "metadata": {},
     "output_type": "execute_result"
    }
   ],
   "source": [
    "find_uT(1.34, umags, Amags)"
   ]
  },
  {
   "cell_type": "markdown",
   "id": "b70718af-042e-4a19-b85c-f62672f29598",
   "metadata": {},
   "source": [
    "As expected, $u_T \\rightarrow 1$ for $A_T \\rightarrow 1.34$ in this limit."
   ]
  },
  {
   "cell_type": "markdown",
   "id": "4e5d4514-f9b4-4114-a420-3caea25a6273",
   "metadata": {
    "jp-MarkdownHeadingCollapsed": true,
    "tags": []
   },
   "source": [
    "<h3>$r_{90} = 0.001 r_E$ NFW (i.e. point source)</h3>"
   ]
  },
  {
   "cell_type": "code",
   "execution_count": 656,
   "id": "14f99af3-cfde-46c2-a42d-716fcabaee0e",
   "metadata": {
    "tags": []
   },
   "outputs": [],
   "source": [
    "r90, vs, Mrats = Mratios(0.001, 0.0001, 5, 0.0001)"
   ]
  },
  {
   "cell_type": "code",
   "execution_count": 657,
   "id": "af69a1c0-9af5-44ea-918a-87ff8a048dcc",
   "metadata": {},
   "outputs": [],
   "source": [
    "us = u(r90, vs, Mrats)"
   ]
  },
  {
   "cell_type": "code",
   "execution_count": 658,
   "id": "ff5350d3-e200-479b-ab1f-f6ca9a4a2989",
   "metadata": {},
   "outputs": [],
   "source": [
    "curves = splitCurves(us, vs)"
   ]
  },
  {
   "cell_type": "markdown",
   "id": "e60af6d6-2396-423e-9144-503e5039cd16",
   "metadata": {},
   "source": [
    "Here, there is only one branch in the $v(u)$ plot."
   ]
  },
  {
   "cell_type": "code",
   "execution_count": 659,
   "id": "36ef90e2-2b1a-4d67-8f4e-7bf0343e37a4",
   "metadata": {},
   "outputs": [
    {
     "data": {
      "text/plain": [
       "[<matplotlib.lines.Line2D at 0x1342c5a60>]"
      ]
     },
     "execution_count": 659,
     "metadata": {},
     "output_type": "execute_result"
    },
    {
     "data": {
      "image/png": "[encoded data removed]",
      "text/plain": [
       "<Figure size 432x288 with 1 Axes>"
      ]
     },
     "metadata": {
      "needs_background": "light"
     },
     "output_type": "display_data"
    }
   ],
   "source": [
    "plt.plot(curves[0][0], curves[0][1])"
   ]
  },
  {
   "cell_type": "code",
   "execution_count": 660,
   "id": "4f1273ca-a927-4a5a-9d3a-8a57e971fad4",
   "metadata": {},
   "outputs": [],
   "source": [
    "umags, Amags = totalMagnificationCurve(curves, 4, 0.01)"
   ]
  },
  {
   "cell_type": "code",
   "execution_count": 661,
   "id": "6e36d1d4-bb21-4228-b02b-658c661c9dd4",
   "metadata": {},
   "outputs": [
    {
     "data": {
      "text/plain": [
       "[<matplotlib.lines.Line2D at 0x134322d90>]"
      ]
     },
     "execution_count": 661,
     "metadata": {},
     "output_type": "execute_result"
    },
    {
     "data": {
      "image/png": "[encoded data removed]",
      "text/plain": [
       "<Figure size 432x288 with 1 Axes>"
      ]
     },
     "metadata": {
      "needs_background": "light"
     },
     "output_type": "display_data"
    }
   ],
   "source": [
    "plt.plot(umags, Amags)"
   ]
  },
  {
   "cell_type": "code",
   "execution_count": 662,
   "id": "61541b61-cb8d-4915-b124-e0acee115d7d",
   "metadata": {},
   "outputs": [
    {
     "data": {
      "text/plain": [
       "-1.0"
      ]
     },
     "execution_count": 662,
     "metadata": {},
     "output_type": "execute_result"
    }
   ],
   "source": [
    "find_uT(1.34, umags, Amags)"
   ]
  },
  {
   "cell_type": "markdown",
   "id": "96734307-80ba-40e7-badb-7a3c8c4d8729",
   "metadata": {},
   "source": [
    "As expected, $u_T \\rightarrow 1$ for $A_T \\rightarrow 1.34$ in this limit."
   ]
  },
  {
   "cell_type": "markdown",
   "id": "94f48a6a-f7bd-4730-9610-3a787280ca8f",
   "metadata": {
    "jp-MarkdownHeadingCollapsed": true,
    "tags": []
   },
   "source": [
    "<h3>$r_{90} = 90 r_E$ NFW (extreme case)</h3>"
   ]
  },
  {
   "cell_type": "markdown",
   "id": "864a8a50-17a7-4227-90e6-f803a66fc603",
   "metadata": {},
   "source": [
    "Here is the extreme case of $r_{90} = 90 r_E$."
   ]
  },
  {
   "cell_type": "code",
   "execution_count": 328,
   "id": "30b4873e-15db-4346-afff-dff516846b23",
   "metadata": {},
   "outputs": [
    {
     "name": "stderr",
     "output_type": "stream",
     "text": [
      "/usr/local/lib/python3.9/site-packages/scipy/integrate/_quadpack_py.py:879: IntegrationWarning: The maximum number of subdivisions (50) has been achieved.\n",
      "  If increasing the limit yields no improvement it is advised to analyze \n",
      "  the integrand in order to determine the difficulties.  If the position of a \n",
      "  local difficulty can be determined (singularity, discontinuity) one will \n",
      "  probably gain from splitting up the interval and calling the integrator \n",
      "  on the subranges.  Perhaps a special-purpose integrator should be used.\n",
      "  quad_r = quad(f, low, high, args=args, full_output=self.full_output,\n"
     ]
    }
   ],
   "source": [
    "r90, vs, Mrats = Mratios(90, 0.00001, 4, 0.001)"
   ]
  },
  {
   "cell_type": "code",
   "execution_count": 329,
   "id": "393516fc-ce40-4d3d-9bc6-7e63be853ce7",
   "metadata": {},
   "outputs": [],
   "source": [
    "us = u(r90, vs, Mrats)"
   ]
  },
  {
   "cell_type": "code",
   "execution_count": 330,
   "id": "95355d5a-24e3-4784-9fcf-20c56db4a73c",
   "metadata": {},
   "outputs": [],
   "source": [
    "curves = splitCurves(us, vs)"
   ]
  },
  {
   "cell_type": "code",
   "execution_count": 331,
   "id": "94b6584e-75dd-433d-9f38-9ed0f1e8a7c5",
   "metadata": {},
   "outputs": [
    {
     "data": {
      "text/plain": [
       "1"
      ]
     },
     "execution_count": 331,
     "metadata": {},
     "output_type": "execute_result"
    }
   ],
   "source": [
    "len(curves)"
   ]
  },
  {
   "cell_type": "markdown",
   "id": "da01d4d7-0257-4b6c-9264-214c41c64b7e",
   "metadata": {},
   "source": [
    "Here, there is only one branch in the $v(u)$ plot."
   ]
  },
  {
   "cell_type": "code",
   "execution_count": 332,
   "id": "2f75990f-6ac9-45dd-8318-a7c3ff53de3c",
   "metadata": {},
   "outputs": [
    {
     "data": {
      "text/plain": [
       "[<matplotlib.lines.Line2D at 0x132b2a880>]"
      ]
     },
     "execution_count": 332,
     "metadata": {},
     "output_type": "execute_result"
    },
    {
     "data": {
      "image/png": "[encoded data removed]",
      "text/plain": [
       "<Figure size 432x288 with 1 Axes>"
      ]
     },
     "metadata": {
      "needs_background": "light"
     },
     "output_type": "display_data"
    }
   ],
   "source": [
    "plt.plot(curves[0][0],curves[0][1])"
   ]
  },
  {
   "cell_type": "code",
   "execution_count": 333,
   "id": "9e7d76ba-29f5-40be-ad8b-88edc9e1cabe",
   "metadata": {},
   "outputs": [],
   "source": [
    "umags, Amags = totalMagnificationCurve(curves, 3, 0.01)"
   ]
  },
  {
   "cell_type": "markdown",
   "id": "4fb8dba3-eec5-4065-bff4-fcac6b48a99e",
   "metadata": {},
   "source": [
    "The inverted feature is due to the fact that these values of $u$ are so small that they lie outside our range of interpolation, hence are artificially set to zero. They ultimately do not affect the result, but maybe should be fixed."
   ]
  },
  {
   "cell_type": "code",
   "execution_count": 334,
   "id": "ec2af6c4-c2da-4a00-a749-260fce736ad3",
   "metadata": {},
   "outputs": [
    {
     "data": {
      "text/plain": [
       "[<matplotlib.lines.Line2D at 0x132b9b8b0>]"
      ]
     },
     "execution_count": 334,
     "metadata": {},
     "output_type": "execute_result"
    },
    {
     "data": {
      "image/png": "[encoded data removed]",
      "text/plain": [
       "<Figure size 432x288 with 1 Axes>"
      ]
     },
     "metadata": {
      "needs_background": "light"
     },
     "output_type": "display_data"
    }
   ],
   "source": [
    "plt.plot(umags, Amags)"
   ]
  },
  {
   "cell_type": "code",
   "execution_count": 335,
   "id": "32b252a9-6fc3-48af-8388-81b8e2bad020",
   "metadata": {},
   "outputs": [
    {
     "data": {
      "text/plain": [
       "-0.15000000000000002"
      ]
     },
     "execution_count": 335,
     "metadata": {},
     "output_type": "execute_result"
    }
   ],
   "source": [
    "find_uT(1.34, umags, Amags)"
   ]
  }
 ],
 "metadata": {
  "kernelspec": {
   "display_name": "Python 3 (ipykernel)",
   "language": "python",
   "name": "python3"
  },
  "language_info": {
   "codemirror_mode": {
    "name": "ipython",
    "version": 3
   },
   "file_extension": ".py",
   "mimetype": "text/x-python",
   "name": "python",
   "nbconvert_exporter": "python",
   "pygments_lexer": "ipython3",
   "version": "3.9.18"
  }
 },
 "nbformat": 4,
 "nbformat_minor": 5
}
