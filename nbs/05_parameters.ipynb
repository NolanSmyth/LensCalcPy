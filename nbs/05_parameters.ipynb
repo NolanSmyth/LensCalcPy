{
 "cells": [
  {
   "attachments": {},
   "cell_type": "markdown",
   "metadata": {},
   "source": [
    "# Parameters\n",
    "\n",
    "> Useful parameters"
   ]
  },
  {
   "cell_type": "code",
   "execution_count": null,
   "metadata": {},
   "outputs": [],
   "source": [
    "#| default_exp parameters"
   ]
  },
  {
   "cell_type": "code",
   "execution_count": null,
   "metadata": {},
   "outputs": [],
   "source": [
    "#| hide\n",
    "from nbdev.showdoc import *"
   ]
  },
  {
   "cell_type": "code",
   "execution_count": null,
   "metadata": {},
   "outputs": [],
   "source": [
    "#| export\n",
    "rhoc = 4.88e6 # MW nfw central density parameter in Msol kpc^-3\n",
    "rs = 21.5 # MW nfw scale radius in kpc\n",
    "G = 4.3e-6 # kpc Msol^-1 (km/s)^2\n",
    "rhocM31 = 4.96e6 # M31 nfw central density parameter in Msol kpc^-3\n",
    "rsM31 = 25 # M31 nfw scale radius in kpc\n",
    "c = 2.98e5 # km/s\n",
    "fpbh = 1 # fraction of dark matter in PBHs\n",
    "ut = 1 # threshold impact parameter\n",
    "kpctokm = 3e16 # kpc to km\n",
    "htosec = 60*60 # hours to seconds\n",
    "rEarth = 8.5 # kpc\n",
    "r_max = 2*rEarth # maximum distance to find PBH from Earth in kpc\n"
   ]
  },
  {
   "cell_type": "code",
   "execution_count": null,
   "metadata": {},
   "outputs": [],
   "source": [
    "#| export\n",
    "\n",
    "#Survey parameters\n",
    "# ds = 9.0 # kpc\n",
    "# dsM31 = 770 # kpc\n",
    "# survey_area = 0.16 # survey area in square degrees\n",
    "# obsTime = 1825*24 # observation time in hours\n",
    "# n_sources = 8.7e7 # number of sources in the survey\n",
    "# l = 1.0 #degrees\n",
    "# b = -1.03 #degrees\n",
    "\n",
    "l = 121.2\n",
    "b = -21.6\n",
    "ds = 770\n",
    "dsM31 = 770 # kpc\n",
    "obsTime = 7\n",
    "survey_area = 0\n",
    "n_sources = 8.7e7\n",
    "efficiency = 0.6\n"
   ]
  },
  {
   "cell_type": "code",
   "execution_count": null,
   "metadata": {},
   "outputs": [],
   "source": [
    "#| export\n",
    "# Disk Params\n",
    "zthinSol = 0.329  # scale height of thin disk in solar neighborhood, kpc\n",
    "zthickSol = 0.903  # scale height of thick disk in solar neighborhood\n",
    "zthin45 = 0.6 * zthinSol  # scale height, kpc\n",
    "rsol = 8.160  # solar position, kpc\n",
    "rdBreak = 5.3  # kpc, turnover point for density profile\n",
    "rthin = 2.6  # kpc\n",
    "rthick = 2.2  # kpc\n",
    "rho_thin_Sol = 4.2e-2 * (1e3)**3  # local solar thin disk density main sequence stars, Msol kpc^-3\n",
    "rho_thick_Sol = 1.7e-3 * (1e3)**3  # Msol kpc^-3\n",
    "\n",
    "# Bulge Params\n",
    "x0 = 0.67  # kpc\n",
    "y0 = 0.28  # kpc\n",
    "z0 = 0.24  # kpc\n",
    "cperp = 1.4\n",
    "cpar = 3.3  # kpc\n",
    "rho0_B = 9.72 * (1e3)**3  # msol kpc^-3\n",
    "\n",
    "Rc = 2.8  # kpc\n",
    "alphabar = 27 # degrees"
   ]
  },
  {
   "cell_type": "code",
   "execution_count": null,
   "metadata": {},
   "outputs": [],
   "source": [
    "#| hide\n",
    "import nbdev; nbdev.nbdev_export()"
   ]
  }
 ],
 "metadata": {
  "kernelspec": {
   "display_name": "base",
   "language": "python",
   "name": "python3"
  }
 },
 "nbformat": 4,
 "nbformat_minor": 4
}
