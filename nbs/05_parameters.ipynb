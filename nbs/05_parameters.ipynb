{
 "cells": [
  {
   "attachments": {},
   "cell_type": "markdown",
   "metadata": {},
   "source": [
    "# Parameters\n",
    "\n",
    "> Useful parameters"
   ]
  },
  {
   "cell_type": "code",
   "execution_count": null,
   "metadata": {},
   "outputs": [],
   "source": [
    "#| default_exp parameters"
   ]
  },
  {
   "cell_type": "code",
   "execution_count": null,
   "metadata": {},
   "outputs": [],
   "source": [
    "#| hide\n",
    "from nbdev.showdoc import *"
   ]
  },
  {
   "cell_type": "code",
   "execution_count": 3,
   "metadata": {},
   "outputs": [],
   "source": [
    "#| export\n",
    "rhoc = 4.88e6 # MW nfw central density parameter in Msol kpc^-3\n",
    "rs = 21.5 # MW nfw scale radius in kpc\n",
    "G = 4.3e-6 # kpc Msol^-1 (km/s)^2\n",
    "ds = 9.0 # kpc\n",
    "c = 2.98e5 # km/s\n",
    "fpbh = 1 # fraction of dark matter in PBHs\n",
    "ut = 1 # threshold impact parameter\n",
    "\n",
    "obsTime = 7 # observation time in hours\n",
    "kpctokm = 3e16 # kpc to km\n",
    "htosec = 60*60 # hours to seconds\n",
    "\n",
    "rEarth = 8.5 # kpc\n",
    "\n",
    "l = 1.0 #degrees\n",
    "b = -1.03 #degrees"
   ]
  },
  {
   "cell_type": "code",
   "execution_count": null,
   "metadata": {},
   "outputs": [],
   "source": [
    "#| hide\n",
    "import nbdev; nbdev.nbdev_export()"
   ]
  }
 ],
 "metadata": {
  "kernelspec": {
   "display_name": "Python 3 (ipykernel)",
   "language": "python",
   "name": "python3"
  },
  "language_info": {
   "codemirror_mode": {
    "name": "ipython",
    "version": 3
   },
   "file_extension": ".py",
   "mimetype": "text/x-python",
   "name": "python",
   "nbconvert_exporter": "python",
   "pygments_lexer": "ipython3",
   "version": "3.9.7"
  }
 },
 "nbformat": 4,
 "nbformat_minor": 4
}
