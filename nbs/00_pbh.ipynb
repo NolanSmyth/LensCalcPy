{
 "cells": [
  {
   "attachments": {},
   "cell_type": "markdown",
   "metadata": {},
   "source": [
    "# pbh\n",
    "\n",
    "> A module to model and calculate the properties of primordial black holes (PBHs), such as density, mass, distance, and velocity distribution."
   ]
  },
  {
   "cell_type": "code",
   "execution_count": 1,
   "metadata": {},
   "outputs": [],
   "source": [
    "#| default_exp pbh"
   ]
  },
  {
   "cell_type": "code",
   "execution_count": 6,
   "metadata": {},
   "outputs": [],
   "source": [
    "#| hide\n",
    "from nbdev.showdoc import *"
   ]
  },
  {
   "cell_type": "code",
   "execution_count": 1,
   "metadata": {},
   "outputs": [],
   "source": [
    "#| export\n",
    "from LensCalcPy.parameters import *\n",
    "import numpy as np\n",
    "import matplotlib.pyplot as plt\n",
    "%load_ext autoreload\n",
    "%autoreload 2\n"
   ]
  },
  {
   "cell_type": "code",
   "execution_count": 41,
   "metadata": {},
   "outputs": [],
   "source": [
    "#| export\n",
    "class Pbh:\n",
    "    \"\"\"A class to represent a PBH population\"\"\"\n",
    "\n",
    "    def __init__(self,\n",
    "                m_pbh: float, # PBH mass in solar masses\n",
    "                f_dm: float # PBH fraction of the DM density\n",
    "                ):\n",
    "        \"\"\"\n",
    "        Initialize the PBH population\n",
    "        \"\"\"\n",
    "        self.m_pbh = m_pbh\n",
    "        if f_dm < 0 or f_dm > 1:\n",
    "            raise ValueError(\"f_dm must be between 0 and 1\")\n",
    "        self.f_dm = f_dm\n",
    "    \n",
    "    def __str__(self) -> str:\n",
    "        return f\"PBH population with m_pbh={self.m_pbh} and f_dm={self.f_dm}\"\n",
    "    __repr__ = __str__\n",
    "\n",
    "    def density(self, \n",
    "                r: float # distance in kpc\n",
    "                ) -> float:\n",
    "        \"\"\"PBH density at a given distance from the Milky Way center\n",
    "        Using an NFW profile\n",
    "\n",
    "        Args:\n",
    "            r (float): distance in kpc\n",
    "\n",
    "        Returns:\n",
    "            float: PBH density in Msol/kpc^-3\n",
    "        \"\"\"\n",
    "        return rhoc / ((r/rs) * (1 + r/rs)**2) * self.f_dm\n",
    "    \n",
    "    def mass_enclosed(self, \n",
    "                      r: float, # distance from MW center in kpc\n",
    "                      ) -> float:\n",
    "        \"\"\"PBH mass enclosed within a given distance from the Milky Way center\n",
    "\n",
    "        Returns:\n",
    "            float: PBH mass in Msol\n",
    "        \"\"\"\n",
    "        return 4*np.pi * rhoc * rs**3 * (np.log(1 + r/rs) - (r/rs)/(1 + r/rs))\n",
    "    \n",
    "    def velocity_dispersion(self, \n",
    "                            d: float # distance from Sun in kpc\n",
    "                            ) -> float:\n",
    "        \"\"\"PBH velocity dispersion at a given distance from the Milky Way center\n",
    "        Returns:\n",
    "            float: PBH velocity dispersion in km/s\n",
    "        \"\"\"\n",
    "        r = self.dist_mw(d)\n",
    "        return np.sqrt(G * self.mass_enclosed(r) / r) \n",
    "    \n",
    "    def velocity_radial(self,\n",
    "                        d: float, # distance from the Sun\n",
    "                        umin: float, # minimum impact parameter\n",
    "                        t: float # crossing time\n",
    "                        ) -> float:\n",
    "        \"\"\"\n",
    "        PBH radial velocity at a given distance from the Sun\n",
    "        \"\"\"\n",
    "        return 2*self.einstein_rad(d) * (ut**2 - umin**2)**(1/2) / t * kpctokm\n",
    "\n",
    "    \n",
    "    def dist(self,\n",
    "             d: float # distance from the Sun\n",
    "             ) -> float:\n",
    "        return d * (1 - d/ds)\n",
    "\n",
    "    def einstein_rad(self, \n",
    "                     d: float, # distance from the Sun\n",
    "                     ) -> float:\n",
    "        return np.real((4 * G * self.m_pbh * self.dist(d)/c**2)**(1/2))\n",
    "    \n",
    "    def dist_mw(self, d):\n",
    "        \"\"\"returns the distance to the Milky Way center in kpc of a point a distance d to the Sun in kpc\"\"\"\n",
    "        return np.sqrt(d**2 + rEarth**2 - 2*d*rEarth*np.cos(np.radians(l))*np.cos(np.radians(b)))\n",
    "    \n"
   ]
  },
  {
   "cell_type": "code",
   "execution_count": 42,
   "metadata": {},
   "outputs": [],
   "source": [
    "from scipy.integrate import nquad, dblquad"
   ]
  },
  {
   "cell_type": "code",
   "execution_count": 43,
   "metadata": {},
   "outputs": [],
   "source": [
    "def integrand(umin, d, pbh, t):\n",
    "    r = pbh.dist_mw(d)\n",
    "    return (1 / (ut**2 - umin**2)**0.5 *\n",
    "            pbh.density(r) / (pbh.m_pbh * pbh.velocity_dispersion(d)**2) *\n",
    "            pbh.velocity_radial(d, umin, t * htosec)**4 * (htosec / kpctokm)**2 *\n",
    "            np.exp(-(pbh.velocity_radial(d, umin, t * htosec)**2 / pbh.velocity_dispersion(d)**2)))\n",
    "\n"
   ]
  },
  {
   "cell_type": "code",
   "execution_count": 44,
   "metadata": {},
   "outputs": [],
   "source": [
    "pbh = Pbh(1e-8, 1)"
   ]
  },
  {
   "cell_type": "code",
   "execution_count": 45,
   "metadata": {},
   "outputs": [
    {
     "data": {
      "text/plain": [
       "1.312114389137824e-12"
      ]
     },
     "execution_count": 45,
     "metadata": {},
     "output_type": "execute_result"
    }
   ],
   "source": [
    "pbh.einstein_rad(1) "
   ]
  },
  {
   "cell_type": "code",
   "execution_count": 46,
   "metadata": {},
   "outputs": [
    {
     "data": {
      "text/plain": [
       "30357871152.76634"
      ]
     },
     "execution_count": 46,
     "metadata": {},
     "output_type": "execute_result"
    }
   ],
   "source": [
    "pbh.mass_enclosed(pbh.dist_mw(0))"
   ]
  },
  {
   "cell_type": "code",
   "execution_count": 47,
   "metadata": {},
   "outputs": [
    {
     "data": {
      "text/plain": [
       "123.92542632182672"
      ]
     },
     "execution_count": 47,
     "metadata": {},
     "output_type": "execute_result"
    }
   ],
   "source": [
    "pbh.velocity_dispersion(0)"
   ]
  },
  {
   "cell_type": "code",
   "execution_count": 48,
   "metadata": {},
   "outputs": [
    {
     "data": {
      "text/plain": [
       "217.58955553982693"
      ]
     },
     "execution_count": 48,
     "metadata": {},
     "output_type": "execute_result"
    }
   ],
   "source": [
    "pbh.velocity_radial(1, 0.1, 0.1*htosec)"
   ]
  },
  {
   "cell_type": "code",
   "execution_count": 49,
   "metadata": {},
   "outputs": [
    {
     "name": "stdout",
     "output_type": "stream",
     "text": [
      "4.5932360387205447e-07\n"
     ]
    }
   ],
   "source": [
    "umin_bounds = [0, ut]\n",
    "d_bounds = [0, rEarth]\n",
    "\n",
    "#Matches mathematica for high t but not low t\n",
    "t = 0.1\n",
    "\n",
    "result, error = nquad(integrand, [umin_bounds, d_bounds], args=(pbh, t))\n",
    "# result, error = dblquad(integrand, d_bounds[0], d_bounds[1], lambda umin: umin_bounds[0], lambda umin: umin_bounds[1], args=(pbh, t))\n",
    "\n",
    "\n",
    "print(result)"
   ]
  },
  {
   "cell_type": "code",
   "execution_count": 50,
   "metadata": {},
   "outputs": [
    {
     "name": "stderr",
     "output_type": "stream",
     "text": [
      "/Users/nolansmyth/opt/anaconda3/lib/python3.9/site-packages/scipy/integrate/quadpack.py:879: IntegrationWarning: The integral is probably divergent, or slowly convergent.\n",
      "  quad_r = quad(f, low, high, args=args, full_output=self.full_output,\n"
     ]
    }
   ],
   "source": [
    "ts = np.logspace(-2, 1, 100)\n",
    "result = np.zeros(len(ts))\n",
    "for i, t in enumerate(ts):\n",
    "    result[i], _ = nquad(integrand, [umin_bounds, d_bounds], args=(pbh, t))"
   ]
  },
  {
   "cell_type": "code",
   "execution_count": 51,
   "metadata": {},
   "outputs": [
    {
     "data": {
      "text/plain": [
       "[<matplotlib.lines.Line2D at 0x7f8fd143dbb0>]"
      ]
     },
     "execution_count": 51,
     "metadata": {},
     "output_type": "execute_result"
    },
    {
     "data": {
      "image/png": "[encoded data removed]",
      "text/plain": [
       "<Figure size 640x480 with 1 Axes>"
      ]
     },
     "metadata": {},
     "output_type": "display_data"
    }
   ],
   "source": [
    "plt.loglog(ts, result)\n"
   ]
  },
  {
   "cell_type": "code",
   "execution_count": 19,
   "metadata": {},
   "outputs": [
    {
     "name": "stdout",
     "output_type": "stream",
     "text": [
      "\u001b[0;31mSignature:\u001b[0m \u001b[0mintegrand\u001b[0m\u001b[0;34m(\u001b[0m\u001b[0mumin\u001b[0m\u001b[0;34m,\u001b[0m \u001b[0md\u001b[0m\u001b[0;34m,\u001b[0m \u001b[0mpbh\u001b[0m\u001b[0;34m,\u001b[0m \u001b[0mt\u001b[0m\u001b[0;34m)\u001b[0m\u001b[0;34m\u001b[0m\u001b[0;34m\u001b[0m\u001b[0m\n",
      "\u001b[0;31mDocstring:\u001b[0m <no docstring>\n",
      "\u001b[0;31mFile:\u001b[0m      /var/folders/qd/09mj47cx551c65glw6y47d6r0000gn/T/ipykernel_79044/1292109548.py\n",
      "\u001b[0;31mType:\u001b[0m      function\n"
     ]
    }
   ],
   "source": [
    "?integrand"
   ]
  },
  {
   "cell_type": "code",
   "execution_count": 28,
   "metadata": {},
   "outputs": [],
   "source": [
    "dd = np.logspace(-2, np.log10(rEarth), 100)\n",
    "result_integrand = np.zeros(len(dd))\n",
    "for i, d in enumerate(dd):\n",
    "    # result_vr[i] = pbh.velocity_radial(1, 0.1, t * htosec)\n",
    "    result_integrand[i] = integrand(0.1, d, pbh, 0.1)"
   ]
  },
  {
   "cell_type": "code",
   "execution_count": 29,
   "metadata": {},
   "outputs": [
    {
     "data": {
      "text/plain": [
       "[<matplotlib.lines.Line2D at 0x7f8ff07b0cd0>]"
      ]
     },
     "execution_count": 29,
     "metadata": {},
     "output_type": "execute_result"
    },
    {
     "data": {
      "image/png": "[encoded data removed]",
      "text/plain": [
       "<Figure size 640x480 with 1 Axes>"
      ]
     },
     "metadata": {},
     "output_type": "display_data"
    }
   ],
   "source": [
    "plt.loglog(dd, result_integrand)"
   ]
  },
  {
   "cell_type": "code",
   "execution_count": 38,
   "metadata": {},
   "outputs": [
    {
     "data": {
      "text/plain": [
       "3.2866430386501477e-18"
      ]
     },
     "execution_count": 38,
     "metadata": {},
     "output_type": "execute_result"
    }
   ],
   "source": [
    "#integrand doesn't agree\n",
    "integrand(0.1, 8, pbh, 0.1)"
   ]
  },
  {
   "cell_type": "code",
   "execution_count": null,
   "metadata": {},
   "outputs": [],
   "source": [
    "#| hide\n",
    "import nbdev; nbdev.nbdev_export()"
   ]
  }
 ],
 "metadata": {
  "kernelspec": {
   "display_name": "Python 3 (ipykernel)",
   "language": "python",
   "name": "python3"
  },
  "language_info": {
   "codemirror_mode": {
    "name": "ipython",
    "version": 3
   },
   "file_extension": ".py",
   "mimetype": "text/x-python",
   "name": "python",
   "nbconvert_exporter": "python",
   "pygments_lexer": "ipython3",
   "version": "3.9.7"
  }
 },
 "nbformat": 4,
 "nbformat_minor": 4
}
