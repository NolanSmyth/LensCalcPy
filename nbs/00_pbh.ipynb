{
 "cells": [
  {
   "attachments": {},
   "cell_type": "markdown",
   "metadata": {},
   "source": [
    "# pbh\n",
    "\n",
    "> A module to model and calculate the properties of primordial black holes (PBHs), such as density, mass, distance, and velocity distribution."
   ]
  },
  {
   "cell_type": "code",
   "execution_count": 1,
   "metadata": {},
   "outputs": [],
   "source": [
    "#| default_exp pbh"
   ]
  },
  {
   "cell_type": "code",
   "execution_count": 6,
   "metadata": {},
   "outputs": [],
   "source": [
    "#| hide\n",
    "from nbdev.showdoc import *"
   ]
  },
  {
   "cell_type": "code",
   "execution_count": 1,
   "metadata": {},
   "outputs": [],
   "source": [
    "#| export\n",
    "from LensCalcPy.parameters import *\n",
    "import numpy as np"
   ]
  },
  {
   "cell_type": "code",
   "execution_count": 2,
   "metadata": {},
   "outputs": [],
   "source": [
    "#| export\n",
    "class Pbh:\n",
    "    \"\"\"A class to represent a PBH population\"\"\"\n",
    "\n",
    "    def __init__(self,\n",
    "                m_pbh: float, # PBH mass in solar masses\n",
    "                f_dm: float # PBH fraction of the DM density\n",
    "                ):\n",
    "        \"\"\"Initialize the PBH population\n",
    "\n",
    "        Args:\n",
    "            m_pbh (float): PBH mass in solar masses\n",
    "            f_dm (float): PBH fraction of the DM density\n",
    "        \"\"\"\n",
    "        self.m_pbh = m_pbh\n",
    "        if f_dm < 0 or f_dm > 1:\n",
    "            raise ValueError(\"f_dm must be between 0 and 1\")\n",
    "        self.f_dm = f_dm\n",
    "    \n",
    "    def __str__(self) -> str:\n",
    "        return f\"PBH population with m_pbh={self.m_pbh} and f_dm={self.f_dm}\"\n",
    "    __repr__ = __str__\n",
    "\n",
    "    def density(self, r: float) -> float:\n",
    "        \"\"\"PBH density at a given distance from the Milky Way center\n",
    "        Using an NFW profile\n",
    "\n",
    "        Args:\n",
    "            r (float): distance in kpc\n",
    "\n",
    "        Returns:\n",
    "            float: PBH density in Msol/kpc^-3\n",
    "        \"\"\"\n",
    "        return rhoc / ((r/rs)*1 + r/rs)**2 * self.f_dm\n",
    "    \n",
    "    def mass_enclosed(self, r: float) -> float:\n",
    "        \"\"\"PBH mass enclosed within a given distance from the Milky Way center\n",
    "\n",
    "        Args:\n",
    "            r (float): distance in kpc\n",
    "\n",
    "        Returns:\n",
    "            float: PBH mass in Msol\n",
    "        \"\"\"\n",
    "        return 4*np.pi * rhoc * rs**3 * (np.log(r + r/rs) - (r/rs)/(1 + r/rs))\n",
    "    \n",
    "    def velocity_dispersion(self, r: float) -> float:\n",
    "        \"\"\"PBH velocity dispersion at a given distance from the Milky Way center\n",
    "\n",
    "        Args:\n",
    "            r (float): distance in kpc\n",
    "\n",
    "        Returns:\n",
    "            float: PBH velocity dispersion in km/s\n",
    "        \"\"\"\n",
    "        return np.sqrt(G * self.mass_enclosed(r) / r) \n",
    "    "
   ]
  },
  {
   "cell_type": "code",
   "execution_count": 3,
   "metadata": {},
   "outputs": [
    {
     "data": {
      "text/plain": [
       "PBH population with m_pbh=1e-06 and f_dm=0.1"
      ]
     },
     "execution_count": 3,
     "metadata": {},
     "output_type": "execute_result"
    }
   ],
   "source": [
    "p = Pbh(1e-6, 0.1)\n",
    "p"
   ]
  },
  {
   "cell_type": "code",
   "execution_count": 4,
   "metadata": {},
   "outputs": [
    {
     "data": {
      "text/plain": [
       "2255780.0"
      ]
     },
     "execution_count": 4,
     "metadata": {},
     "output_type": "execute_result"
    }
   ],
   "source": [
    "p.density(5)"
   ]
  },
  {
   "cell_type": "code",
   "execution_count": 9,
   "metadata": {},
   "outputs": [
    {
     "name": "stdout",
     "output_type": "stream",
     "text": [
      "398283913177.569\n",
      "925.3704195249453\n"
     ]
    }
   ],
   "source": [
    "print(p.mass_enclosed(2))\n",
    "print(p.velocity_dispersion(2))"
   ]
  },
  {
   "cell_type": "code",
   "execution_count": null,
   "metadata": {},
   "outputs": [],
   "source": [
    "#| hide\n",
    "import nbdev; nbdev.nbdev_export()"
   ]
  }
 ],
 "metadata": {
  "kernelspec": {
   "display_name": "Python 3 (ipykernel)",
   "language": "python",
   "name": "python3"
  },
  "language_info": {
   "codemirror_mode": {
    "name": "ipython",
    "version": 3
   },
   "file_extension": ".py",
   "mimetype": "text/x-python",
   "name": "python",
   "nbconvert_exporter": "python",
   "pygments_lexer": "ipython3",
   "version": "3.9.7"
  }
 },
 "nbformat": 4,
 "nbformat_minor": 4
}
