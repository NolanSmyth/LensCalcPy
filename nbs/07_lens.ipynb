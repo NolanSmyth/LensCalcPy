{
 "cells": [
  {
   "attachments": {},
   "cell_type": "markdown",
   "metadata": {},
   "source": [
    "# lens\n",
    "\n",
    "> A module to model and calculate the properties of lenses"
   ]
  },
  {
   "cell_type": "code",
   "execution_count": null,
   "metadata": {},
   "outputs": [],
   "source": [
    "#| default_exp lens"
   ]
  },
  {
   "cell_type": "code",
   "execution_count": null,
   "metadata": {},
   "outputs": [],
   "source": [
    "#| hide\n",
    "from nbdev.showdoc import *"
   ]
  },
  {
   "cell_type": "code",
   "execution_count": null,
   "metadata": {},
   "outputs": [],
   "source": [
    "#| export\n",
    "from LensCalcPy.parameters import *\n",
    "from LensCalcPy.utils import *\n",
    "\n",
    "import numpy as np\n",
    "import matplotlib.pyplot as plt\n",
    "from scipy.integrate import nquad, dblquad\n",
    "import pickle\n",
    "from abc import ABC, abstractmethod"
   ]
  },
  {
   "cell_type": "code",
   "execution_count": null,
   "metadata": {},
   "outputs": [],
   "source": [
    "%load_ext autoreload\n",
    "%autoreload 2"
   ]
  },
  {
   "cell_type": "code",
   "execution_count": null,
   "metadata": {},
   "outputs": [],
   "source": [
    "#| export\n",
    "\n",
    "class Lens():\n",
    "    \"\"\"Abstract class for lens objects.\n",
    "    \"\"\"\n",
    "    def __init__(self, mass, u_t = 1, ds=770):\n",
    "        self.ut_interp = ut_interp\n",
    "        self.mass = mass\n",
    "        self.u_t = u_t\n",
    "        self.ds = ds\n",
    "        pass\n",
    "\n",
    "    def __str__(self):\n",
    "        pass\n",
    "\n",
    "    __repr__ = __str__\n",
    "\n",
    "    def umin_lower_bound(self, d):\n",
    "        return 0\n",
    "\n",
    "    def umin_upper_bound(self, d):\n",
    "        pass\n",
    "\n",
    "    def differential_rate_integrand(self, umin, d, t, dist_func, density_func, v_disp_func, finite=False, density_func_uses_d=False):\n",
    "        r = dist_func(d)\n",
    "        ut = self.umin_upper_bound(d) if (self.ut_interp and finite) else self.u_t\n",
    "        if ut <= umin:\n",
    "            return 0\n",
    "        v_rad = velocity_radial(d, self.ds, self.mass, umin, t * htosec, ut)\n",
    "        v_disp = v_disp_func(r)\n",
    "        density_input = d if density_func_uses_d else r\n",
    "        return 2 * (1 / (ut**2 - umin**2)**0.5 *\n",
    "                density_func(density_input) / (self.mass * v_disp**2) *\n",
    "                v_rad**4 * (htosec / kpctokm)**2 *\n",
    "                np.exp(-(v_rad**2 / v_disp**2)))\n",
    "    \n",
    "    def differential_rate(self, t, integrand_func, finite=False):\n",
    "        if finite:\n",
    "            result, error = dblquad(integrand_func, 0, self.ds, self.umin_lower_bound, self.umin_upper_bound, args=[t], epsabs=0, epsrel=1e-1)\n",
    "            return result    \n",
    "        else:\n",
    "            umin_bounds = [0, self.u_t]\n",
    "            d_bounds = [0, self.ds]\n",
    "            result, error = nquad(integrand_func, [umin_bounds, d_bounds], args=[t])\n",
    "            return result\n",
    "\n",
    "    # @abstractmethod\n",
    "    def compute_differential_rate(self, t, finite=False):\n",
    "        pass\n"
   ]
  },
  {
   "cell_type": "code",
   "execution_count": null,
   "metadata": {},
   "outputs": [],
   "source": [
    "#| hide\n",
    "import nbdev; nbdev.nbdev_export()"
   ]
  }
 ],
 "metadata": {
  "kernelspec": {
   "display_name": "python3",
   "language": "python",
   "name": "python3"
  },
  "language_info": {
   "name": "python",
   "version": "3.9.7"
  }
 },
 "nbformat": 4,
 "nbformat_minor": 4
}
