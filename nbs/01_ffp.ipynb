{
 "cells": [
  {
   "attachments": {},
   "cell_type": "markdown",
   "metadata": {},
   "source": [
    "# ffp\n",
    "\n",
    "> A module to model and calculate the properties of Free Floating Planets (FFPs), such as density, mass, distance, and velocity distribution."
   ]
  },
  {
   "cell_type": "code",
   "execution_count": null,
   "metadata": {},
   "outputs": [],
   "source": [
    "#| default_exp ffp"
   ]
  },
  {
   "cell_type": "code",
   "execution_count": 1,
   "metadata": {},
   "outputs": [],
   "source": [
    "#| hide\n",
    "from nbdev.showdoc import *"
   ]
  },
  {
   "cell_type": "code",
   "execution_count": 2,
   "metadata": {},
   "outputs": [],
   "source": [
    "#| export\n",
    "from LensCalcPy.parameters import *\n",
    "from LensCalcPy.utils import *\n",
    "from LensCalcPy.lens import *\n",
    "from LensCalcPy.galaxy import *\n",
    "\n",
    "import numpy as np\n",
    "import matplotlib.pyplot as plt\n",
    "import pandas as pd\n",
    "from math import erf\n",
    "\n",
    "from scipy.integrate import quad, nquad, dblquad, tplquad\n",
    "from scipy.interpolate import interp1d, interp2d\n",
    "from scipy.optimize import minimize_scalar\n",
    "import pickle\n",
    "import functools\n",
    "from pathos.multiprocessing import ProcessingPool as Pool\n",
    "\n",
    "import functools\n",
    "\n",
    "from fastcore.test import *\n",
    "from tqdm import tqdm\n"
   ]
  },
  {
   "cell_type": "code",
   "execution_count": 3,
   "metadata": {},
   "outputs": [],
   "source": [
    "%load_ext autoreload\n",
    "%autoreload 2"
   ]
  },
  {
   "cell_type": "code",
   "execution_count": 4,
   "metadata": {},
   "outputs": [],
   "source": [
    "#| export \n",
    "\n",
    "class Ffp(Lens):\n",
    "    \"\"\"A class to represent a PBH population\"\"\"\n",
    "\n",
    "    def __init__(self,\n",
    "                p: float = 1, # Mass function power law index\n",
    "                m_min: float = 1e-15, # Minimum mass in Msun\n",
    "                m_max: float = 1e-3, # Maximum mass in Msun\n",
    "                mw_model: MilkyWayModel = None,\n",
    "                m31_model: M31Model = None, \n",
    "                l = None, # Galactic longitude\n",
    "                b = None, # Galactic latitude\n",
    "                u_t = 1, #threshold impact parameter in point-source limit\n",
    "                ds = 770,\n",
    "                ):\n",
    "        \"\"\"\n",
    "        Initialize the PBH population\n",
    "        \"\"\"\n",
    "\n",
    "        self.ut_interp = ut_func_new\n",
    "\n",
    "        self.p = p\n",
    "        #Define range of power law we want to consider\n",
    "        self.m_min = m_min\n",
    "        self.m_max = m_max\n",
    "        self.M_norm = 1 #solar mass\n",
    "        self.Z = self.pl_norm()\n",
    "        self.Zprime = self.dN_dM_norm()\n",
    "\n",
    "        # Instantiate or use existing MilkyWayModel and M31Model\n",
    "        self.mw_model = mw_model or MilkyWayModel(mw_parameters)\n",
    "        self.m31_model = m31_model or M31Model(m31_parameters)\n",
    "\n",
    "        if l is None:\n",
    "            raise ValueError(\"Galactic longitude must be specified\")\n",
    "        if b is None:\n",
    "            raise ValueError(\"Galactic latitude must be specified\")\n",
    "        self.l = l\n",
    "        self.b = b\n",
    "        self.u_t = u_t\n",
    "        self.ds = ds\n",
    "\n",
    "    \n",
    "    def __str__(self) -> str:\n",
    "        return f\"FFP with power law dN / dlogM ~ m^-{self.p}\"\n",
    "    __repr__ = __str__\n",
    "\n",
    "    def dN_dM(self, M, M_norm, p):\n",
    "        return (M/M_norm)**(-p-1) / M_norm\n",
    "    \n",
    "    def dN_dM_wrapper(self, M):\n",
    "        return self.dN_dM(M, self.M_norm, self.p)\n",
    "\n",
    "    def dN_dM_norm(self):\n",
    "        return 1/abs(nquad(self.dN_dM_wrapper,[[self.m_min, self.m_max]], opts={'points': [self.m_min, self.m_min*1e3, self.m_min*1e6, self.m_max]})[0])\n",
    "    \n",
    "    def f_m(self, M):\n",
    "        return self.dN_dM_wrapper(M)*self.Zprime\n",
    "\n",
    "    def dN_dlogM(self, A, log10M, M_norm, p):\n",
    "        M = 10**log10M\n",
    "        return A * (M/self.M_norm)**-p\n",
    "    \n",
    "    def dN_dlogM_wrapper(self, M):\n",
    "        return self.dN_dlogM(1, M, self.M_norm, self.p)\n",
    "    \n",
    "    def pl_norm(self):\n",
    "        return 1/abs(nquad(self.dN_dlogM_wrapper,[[np.log10(self.m_min), np.log10(self.m_max)]], opts={'points': [np.log10(self.m_min), np.log10(self.m_min*1e3), np.log10(self.m_max*1e3)]})[0])\n",
    "\n",
    "    def mass_func(self, log10m):\n",
    "        #M_norm = 1 solar mass for now. This is dN/dlogM\n",
    "        m = 10**log10m\n",
    "        return self.Z * (m/1)**-self.p\n",
    "\n",
    "    def differential_rate_integrand(self, umin, d, t, mf, model, finite=False, v_disp=None, t_e=False, t_fwhm=False):\n",
    "        r = model.dist_center(d, self.l, self.b)\n",
    "        ut = self.umin_upper_bound(d, mf) if finite else self.u_t\n",
    "        if ut <= umin:\n",
    "            return 0\n",
    "\n",
    "        if t_fwhm:\n",
    "            ut = u_fwhm_interp([rho_func(mf, d, self.ds), umin])[0] if finite else uhm_point(umin)\n",
    "            if ut <= umin:\n",
    "                return 0     \n",
    "       \n",
    "        #Calculate radial velocity in terms of event duration (t_fwhm)\n",
    "        v_rad = velocity_radial(d, mf, umin, t * htosec, ut, self.ds) \n",
    "\n",
    "        if v_disp is None: \n",
    "            v_disp = model.velocity_dispersion_stars(r)\n",
    "        return 2 * (1 / (ut**2 - umin**2)**0.5 *\n",
    "                        #For FFP number density, use stellar density for 1 solar mass stars\n",
    "                model.density_stars(d, self.l, self.b) / (1 * v_disp**2) *  \n",
    "                v_rad**4 * (htosec / kpctokm)**2 *\n",
    "                np.exp(-(v_rad**2 / v_disp**2)) *\n",
    "                1)\n",
    "\n",
    "    def differential_rate(self, t, integrand_func, finite=False, epsabs = 1.49e-08, epsrel = 1.49e-08):\n",
    "\n",
    "        def inner_integrand(u, d, m):\n",
    "            return integrand_func(u, d, m, t)\n",
    "            \n",
    "        # Second integral (over u) - bounds given by d\n",
    "        def second_integral(d, m):\n",
    "            point = self.sticking_point(m)\n",
    "\n",
    "            if finite:\n",
    "                u_min, u_max = 0, self.umin_upper_bound(d, m)\n",
    "            else:\n",
    "                u_min, u_max = 0, self.u_t\n",
    "\n",
    "            result, error = quad(inner_integrand, u_min, u_max, args=(d, m), epsabs=epsabs, epsrel=epsrel, points=[point])\n",
    "\n",
    "            return result\n",
    "            \n",
    "        # Third integral (over d)\n",
    "        def third_integral(m):\n",
    "            if finite:\n",
    "                d_min, d_max = 0, self.d_upper_bound(m)\n",
    "            else:\n",
    "                d_min, d_max = 0, self.ds\n",
    "\n",
    "            result, error = quad(second_integral, d_min, d_max, args=(m,), epsabs=epsabs, epsrel=epsrel)\n",
    "            return result\n",
    "        \n",
    "        # Outermost integral (over m in log scale)\n",
    "        def integrand_logm(logm):\n",
    "            m = 10**logm\n",
    "            result = third_integral(m)\n",
    "            return result * ((m/self.M_norm) ** -self.p)  # multiply by mass function. This is for dN/dlogM\n",
    "\n",
    "        logm_min = np.log10(self.m_min)\n",
    "        logm_max = np.log10(self.m_max)\n",
    "\n",
    "        result, error = quad(integrand_logm, logm_min, logm_max, epsabs=epsabs, epsrel=epsrel)\n",
    "\n",
    "        result *= self.Z  # normalization\n",
    "        return result\n",
    "\n",
    "    \n",
    "    def differential_rate_mw(self, t, finite=True, v_disp=None, t_e=False, epsabs = 1.49e-08, epsrel = 1.49e-08, t_fwhm=False):\n",
    "        def integrand_func(umin, d, mf, t):\n",
    "            return self.differential_rate_integrand(umin, d, t, mf, self.mw_model, finite=finite, v_disp=v_disp, t_e=t_e, t_fwhm=t_fwhm)\n",
    "        return self.differential_rate(t, integrand_func, finite=finite, epsabs=epsabs, epsrel=epsrel)\n",
    "\n",
    "    def differential_rate_m31(self, t, finite=True, v_disp=None, epsabs = 1.49e-08, epsrel = 1.49e-08, t_fwhm=False):\n",
    "        def integrand_func(umin, d, mf, t):\n",
    "            return self.differential_rate_integrand(umin, d, t, mf, self.m31_model, finite=finite, v_disp=v_disp, t_fwhm=t_fwhm)\n",
    "        return self.differential_rate(t, integrand_func, finite=finite, epsabs=epsabs, epsrel=epsrel)\n",
    "\n",
    "    def differential_rate_mw_mass(self, m, finite=True, v_disp=None, tcad=0.07, tobs=3, epsabs = 1.49e-08, epsrel = 1.49e-08, efficiency=None, monochromatic=False):\n",
    "        def integrand_func(umin, d, t, mf):\n",
    "            return self.differential_rate_integrand(umin, d, t, mf, self.mw_model, finite=finite, v_disp=v_disp)\n",
    "        return self.differential_rate_mass(m, integrand_func, finite=finite, tcad=tcad, tobs=tobs, epsabs = epsabs, epsrel = epsrel, efficiency=efficiency, monochromatic=monochromatic)\n",
    "    \n",
    "    def differential_rate_m31_mass(self, m, finite=True, v_disp=None, tcad=0.07, tobs=3, epsabs = 1.49e-08, epsrel = 1.49e-08, efficiency=None, monochromatic=False):\n",
    "        def integrand_func(umin, d, t, mf):\n",
    "            return self.differential_rate_integrand(umin, d, t, mf, self.m31_model, finite=finite)\n",
    "        return self.differential_rate_mass(m, integrand_func, finite=finite, tcad=tcad, tobs=tobs, epsabs = epsabs, epsrel = epsrel, efficiency=efficiency, monochromatic=monochromatic)\n",
    "\n",
    "    def umin_upper_bound(self, d, m):\n",
    "        rho = rho_func(m, d, self.ds)\n",
    "        return self.ut_interp(rho, magnification(self.u_t))\n",
    "\n",
    "    def d_upper_bound(self, m):\n",
    "        #Determine upper limit for d otherwise for low masses, the contribution which only comes from d << 1 gets missed\n",
    "        d_arr = np.logspace(-3, np.log10(self.ds*0.99), 100)\n",
    "        for d in d_arr:\n",
    "            if self.umin_upper_bound(d, m) == 0:\n",
    "                return d\n",
    "        return self.ds\n",
    "    \n",
    "    def sticking_point(self,m):\n",
    "        #Determine where u_t is maximized. This speeds up the integral in m31\n",
    "        result = minimize_scalar(lambda d:-self.umin_upper_bound(d, m), bounds=(0, self.ds), method='bounded')\n",
    "        if result.success:\n",
    "            return result.x[0] if isinstance(result.x, (list, np.ndarray)) else result.x\n",
    "        else:\n",
    "            return self.ds\n",
    "    \n",
    "    def differential_rate_total(self, t, finite=False):\n",
    "        return self.differential_rate_mw(t, finite=finite) + self.differential_rate_m31(t, finite=finite)\n",
    " \n",
    "    def compute_differential_rate(self, ts, finite=False):\n",
    "        return [self.differential_rate_total(t, finite=finite) for t in ts]\n",
    "    \n",
    "    def differential_rate_mass(self, mf, integrand_func, finite=True, tcad=0.07, tobs=3, epsabs = 1.49e-08, epsrel = 1.49e-08, efficiency=None, monochromatic=False):        \n",
    "        \n",
    "        if efficiency is None:\n",
    "            def efficiency(t):\n",
    "                return 1\n",
    "\n",
    "        point = self.sticking_point(mf)\n",
    "\n",
    "        def inner_integrand(u, d, t, m):\n",
    "            return integrand_func(u, d, t, m) * efficiency(t)\n",
    "            \n",
    "        # Second integral (over u) - bounds given by d\n",
    "        def second_integral(d, t, m):\n",
    "            if finite:\n",
    "                u_min, u_max = 0, self.umin_upper_bound(d, m)[0]\n",
    "            else:\n",
    "                u_min, u_max = 0, self.u_t\n",
    "            result, error = quad(inner_integrand, u_min, u_max, args=(d, t, m), epsabs=epsabs, epsrel=epsrel, points=[point])\n",
    "\n",
    "            return result\n",
    "            \n",
    "        # Third integral (over d)\n",
    "        def third_integral(t, m):\n",
    "            if finite:\n",
    "                d_min, d_max = 0, self.d_upper_bound(m)\n",
    "            else:\n",
    "                d_min, d_max = 0, self.ds\n",
    "\n",
    "            result, error = quad(second_integral, d_min, d_max, args=(t, m), epsabs=epsabs, epsrel=epsrel)\n",
    "            return result\n",
    "                \n",
    "        # Outermost integral (over t)\n",
    "        t_min = tcad\n",
    "        t_max = tobs\n",
    "        result, error = quad(third_integral, t_min, t_max, args=(mf,), epsabs=epsabs, epsrel=epsrel)\n",
    "        \n",
    "        if monochromatic:\n",
    "            return result\n",
    "        return result * self.f_m(mf)\n",
    "\n",
    "    def differential_rate_integrand_new(self, umin, d, mf, model, finite=False, v_disp=None, tcad = 0.07, tobs = 3, t_fwhm=False, efficiency=None):\n",
    "\n",
    "        #Analytically perform integral over t\n",
    "        r = model.dist_center(d, self.l, self.b)\n",
    "\n",
    "        ut = self.umin_upper_bound(d, mf)[0] if finite else self.u_t    \n",
    "        if ut <= umin:\n",
    "            return 0\n",
    "        \n",
    "        if t_fwhm:\n",
    "            ut = u_fwhm_interp([rho_func(mf, d, self.ds), umin])[0] if finite else uhm_point(umin)\n",
    "            if ut <= umin:\n",
    "                return 0\n",
    "\n",
    "        if v_disp is None: \n",
    "            v_disp = model.velocity_dispersion_stars(r)\n",
    "        \n",
    "        if efficiency is None:\n",
    "            def efficiency(t):\n",
    "                return 1\n",
    "\n",
    "        #For FFP number density, use stellar density for 1 solar mass stars\n",
    "        A = 2/(ut**2 - umin**2)**0.5 * model.density_stars(d, self.l, self.b) / (1 * (v_disp*htosec/kpctokm)**2 ) * (2 * einstein_rad(d, mf, self.ds)* (ut**2 - umin**2)**0.5)**4 \n",
    "        B = (2*einstein_rad(d, mf, self.ds) * (ut**2 - umin**2)**0.5)**2 / (v_disp*htosec/kpctokm)**2\n",
    "\n",
    "        def integral_t(t):\n",
    "            return A/(2*B) * (np.exp(-B/(t**2) )/t - np.pi**(0.5) * erf(B**(1/2)/t) /(2* B**(0.5)))\n",
    "\n",
    "        return (integral_t(tobs) - integral_t(tcad)) * efficiency((tcad-tobs)/2)\n",
    "\n",
    "    def differential_rate_mass_new(self, mf, integrand_func, finite=True, tcad=0.07, tobs=3, epsabs = 1.49e-08, epsrel = 1.49e-08, efficiency=None, monochromatic=False):        \n",
    "        \n",
    "        point = self.sticking_point(mf)\n",
    "\n",
    "        # Second integral (over u) - bounds given by d\n",
    "        def second_integral(d, mf):\n",
    "            if finite:\n",
    "                u_min, u_max = 0, self.umin_upper_bound(d, mf)\n",
    "            else:\n",
    "                u_min, u_max = 0, self.u_t\n",
    "                \n",
    "            result, error = quad(integrand_func, u_min, u_max, args=(d, mf), epsabs=epsabs, epsrel=epsrel, points=[point])\n",
    "\n",
    "            return result\n",
    "            \n",
    "        # Third integral (over d)\n",
    "        d_min, d_max = 0, self.d_upper_bound(mf) if finite else self.ds\n",
    "\n",
    "        result, error = quad(second_integral, d_min, d_max, args=(mf), epsabs=epsabs, epsrel=epsrel)\n",
    "        \n",
    "        if monochromatic:\n",
    "            return result\n",
    "        return result * self.f_m(mf)\n",
    "\n",
    "    def differential_rate_mw_mass_new(self, mf, finite=True, v_disp=None, tcad=0.07, tobs=3, epsabs = 1.49e-08, epsrel = 1.49e-08, efficiency=None, monochromatic=False, t_fwhm=False):\n",
    "        def integrand_func(umin, d, mf):\n",
    "            return self.differential_rate_integrand_new(umin, d, mf, self.mw_model, finite=finite, v_disp=v_disp, tcad=tcad, tobs=tobs, t_fwhm=t_fwhm)\n",
    "        return self.differential_rate_mass_new(mf, integrand_func, finite=finite, tcad=tcad, tobs=tobs, epsabs = epsabs, epsrel = epsrel, efficiency=efficiency, monochromatic=monochromatic)\n",
    "    \n",
    "    def differential_rate_m31_mass_new(self, mf, finite=True, v_disp=None, tcad=0.07, tobs=3, epsabs = 1.49e-08, epsrel = 1.49e-08, efficiency=None, monochromatic=False, t_fwhm=False):\n",
    "        def integrand_func(umin, d, mf):\n",
    "            return self.differential_rate_integrand_new(umin, d, mf, self.m31_model, finite=finite, v_disp=v_disp, tcad=tcad, tobs=tobs, t_fwhm=t_fwhm)\n",
    "        return self.differential_rate_mass_new(mf, integrand_func, finite=finite, tcad=tcad, tobs=tobs, epsabs = epsabs, epsrel = epsrel, efficiency=efficiency, monochromatic=monochromatic)\n",
    "\n"
   ]
  },
  {
   "cell_type": "code",
   "execution_count": 5,
   "metadata": {},
   "outputs": [],
   "source": [
    "p = 1.0\n",
    "# f = Ffp(p, l = 1.0, b = -1.03, ds=8.5, u_t = 2)\n",
    "# f = Ffp(0, l = 1.0, b = -1.03, ds=8.5, u_t = 1, m_min=2.5e-6, m_max=3.5e-6)\n",
    "f = Ffp(0, l = l, b = b, ds=ds, u_t = 1)"
   ]
  },
  {
   "cell_type": "code",
   "execution_count": 6,
   "metadata": {},
   "outputs": [
    {
     "data": {
      "text/plain": [
       "3.0996682206844185e-15"
      ]
     },
     "execution_count": 6,
     "metadata": {},
     "output_type": "execute_result"
    }
   ],
   "source": [
    "f.differential_rate_mw(1e-1, finite=True, v_disp=220, t_fwhm=False)"
   ]
  },
  {
   "cell_type": "code",
   "execution_count": 98,
   "metadata": {},
   "outputs": [
    {
     "data": {
      "text/plain": [
       "2.0418395865633797e-15"
      ]
     },
     "execution_count": 98,
     "metadata": {},
     "output_type": "execute_result"
    }
   ],
   "source": [
    "f.differential_rate_mw(10, finite=True, v_disp=220, t_fwhm=True)\n"
   ]
  },
  {
   "cell_type": "code",
   "execution_count": 88,
   "metadata": {},
   "outputs": [
    {
     "data": {
      "text/plain": [
       "3.580189123211615e-15"
      ]
     },
     "execution_count": 88,
     "metadata": {},
     "output_type": "execute_result"
    }
   ],
   "source": [
    "f.differential_rate_m31_mass_new(3e-4, finite=True, v_disp=None, tcad=0.07, tobs=3, epsabs = 1.49e-08, epsrel = 1.49e-08, efficiency=None, monochromatic=True, t_fwhm=True)\n"
   ]
  },
  {
   "cell_type": "code",
   "execution_count": 89,
   "metadata": {},
   "outputs": [
    {
     "data": {
      "text/plain": [
       "8.367673014152553e-14"
      ]
     },
     "execution_count": 89,
     "metadata": {},
     "output_type": "execute_result"
    }
   ],
   "source": [
    "f.differential_rate_m31_mass_new(3e-4, finite=False, v_disp=None, tcad=0.07, tobs=3, epsabs = 1.49e-08, epsrel = 1.49e-08, efficiency=None, monochromatic=True, t_fwhm=True)\n"
   ]
  },
  {
   "cell_type": "code",
   "execution_count": 249,
   "metadata": {},
   "outputs": [
    {
     "data": {
      "text/plain": [
       "7.2026805885836655e-28"
      ]
     },
     "execution_count": 249,
     "metadata": {},
     "output_type": "execute_result"
    }
   ],
   "source": [
    "f.differential_rate_mw_mass_new(1e-11, finite=True, v_disp=None, tcad=0.07, tobs=3, epsabs = 1.49e-08, epsrel = 1.49e-08, efficiency=None, monochromatic=True, t_fwhm=False)\n"
   ]
  },
  {
   "cell_type": "code",
   "execution_count": 22,
   "metadata": {},
   "outputs": [
    {
     "data": {
      "text/plain": [
       "9.858671258336687e-38"
      ]
     },
     "execution_count": 22,
     "metadata": {},
     "output_type": "execute_result"
    }
   ],
   "source": [
    "f.differential_rate_mw_mass_new(1e-21, finite=False, v_disp=None, tcad=0.07, tobs=3, epsabs = 1.49e-08, epsrel = 1.49e-08, efficiency=None, monochromatic=True, t_fwhm=True)\n"
   ]
  },
  {
   "cell_type": "code",
   "execution_count": 244,
   "metadata": {},
   "outputs": [
    {
     "data": {
      "text/plain": [
       "7.202977965554305e-28"
      ]
     },
     "execution_count": 244,
     "metadata": {},
     "output_type": "execute_result"
    }
   ],
   "source": [
    "f.differential_rate_mw_mass(1e-11, finite=True, v_disp=None, tcad=0.07, tobs=3, epsabs = 1.49e-08, epsrel = 1.49e-08, efficiency=None, monochromatic=True)\n"
   ]
  },
  {
   "cell_type": "code",
   "execution_count": 116,
   "metadata": {},
   "outputs": [],
   "source": [
    "#Test that the mass function is normalized correctly\n",
    "test_close(abs(nquad(f.mass_func,[[np.log10(f.m_min), np.log10(f.m_max)]], opts={'points': [f.m_min, f.m_min*1e3, f.m_min*1e5]})[0]), 1, eps=1e-3)"
   ]
  },
  {
   "cell_type": "code",
   "execution_count": 117,
   "metadata": {},
   "outputs": [],
   "source": [
    "#Test that the mass function is normalized correctly\n",
    "test_close(abs(nquad(f.f_m,[[f.m_min, f.m_max]], opts={'points': [f.m_min, f.m_min*1e3, f.m_min*1e6, f.m_max]})[0]), 1, eps=1e-3)"
   ]
  },
  {
   "cell_type": "code",
   "execution_count": null,
   "metadata": {},
   "outputs": [],
   "source": [
    "#| hide\n",
    "import nbdev; nbdev.nbdev_export()"
   ]
  }
 ],
 "metadata": {
  "kernelspec": {
   "display_name": "python3",
   "language": "python",
   "name": "python3"
  },
  "language_info": {
   "codemirror_mode": {
    "name": "ipython",
    "version": 3
   },
   "file_extension": ".py",
   "mimetype": "text/x-python",
   "name": "python",
   "nbconvert_exporter": "python",
   "pygments_lexer": "ipython3",
   "version": "3.9.7"
  }
 },
 "nbformat": 4,
 "nbformat_minor": 4
}
