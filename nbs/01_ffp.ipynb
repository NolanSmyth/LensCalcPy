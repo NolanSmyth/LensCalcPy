{
 "cells": [
  {
   "attachments": {},
   "cell_type": "markdown",
   "metadata": {},
   "source": [
    "# ffp\n",
    "\n",
    "> A module to model and calculate the properties of Free Floating Planets (FFPs), such as density, mass, distance, and velocity distribution."
   ]
  },
  {
   "cell_type": "code",
   "execution_count": null,
   "metadata": {},
   "outputs": [],
   "source": [
    "#| default_exp ffp"
   ]
  },
  {
   "cell_type": "code",
   "execution_count": 3,
   "metadata": {},
   "outputs": [],
   "source": [
    "#| hide\n",
    "from nbdev.showdoc import *"
   ]
  },
  {
   "cell_type": "code",
   "execution_count": 60,
   "metadata": {},
   "outputs": [],
   "source": [
    "#| export\n",
    "from LensCalcPy.parameters import *\n",
    "from LensCalcPy.utils import *\n",
    "from LensCalcPy.lens import *\n",
    "from LensCalcPy.galaxy import *\n",
    "\n",
    "import numpy as np\n",
    "import matplotlib.pyplot as plt\n",
    "import pandas as pd\n",
    "\n",
    "from scipy.integrate import quad, nquad, dblquad, tplquad\n",
    "from scipy.interpolate import interp1d, interp2d\n",
    "from scipy.optimize import minimize_scalar\n",
    "import pickle\n",
    "import functools\n",
    "from pathos.multiprocessing import ProcessingPool as Pool\n",
    "\n",
    "import functools\n",
    "\n",
    "from fastcore.test import *\n",
    "from tqdm import tqdm\n"
   ]
  },
  {
   "cell_type": "code",
   "execution_count": 61,
   "metadata": {},
   "outputs": [
    {
     "name": "stdout",
     "output_type": "stream",
     "text": [
      "The autoreload extension is already loaded. To reload it, use:\n",
      "  %reload_ext autoreload\n"
     ]
    }
   ],
   "source": [
    "%load_ext autoreload\n",
    "%autoreload 2"
   ]
  },
  {
   "cell_type": "code",
   "execution_count": 62,
   "metadata": {},
   "outputs": [],
   "source": [
    "#| export \n",
    "\n",
    "class Ffp(Lens):\n",
    "    \"\"\"A class to represent a PBH population\"\"\"\n",
    "\n",
    "    def __init__(self,\n",
    "                p: float = 1, # Mass function power law index\n",
    "                m_min: float = 1e-15, # Minimum mass in Msun\n",
    "                m_max: float = 1e-3, # Maximum mass in Msun\n",
    "                mw_model: MilkyWayModel = None,\n",
    "                m31_model: M31Model = None, \n",
    "                l = None, # Galactic longitude\n",
    "                b = None, # Galactic latitude\n",
    "                u_t = 1, #threshold impact parameter in point-source limit\n",
    "                ds = 770,\n",
    "                ):\n",
    "        \"\"\"\n",
    "        Initialize the PBH population\n",
    "        \"\"\"\n",
    "\n",
    "        self.ut_interp = ut_func_new\n",
    "\n",
    "        self.p = p\n",
    "        #Define range of power law we want to consider\n",
    "        self.m_min = m_min\n",
    "        self.m_max = m_max\n",
    "        self.M_norm = 1 #solar mass\n",
    "        self.Z = self.pl_norm()\n",
    "        self.Zprime = self.dN_dM_norm()\n",
    "\n",
    "        # Instantiate or use existing MilkyWayModel and M31Model\n",
    "        self.mw_model = mw_model or MilkyWayModel(mw_parameters)\n",
    "        self.m31_model = m31_model or M31Model(m31_parameters)\n",
    "\n",
    "        if l is None:\n",
    "            raise ValueError(\"Galactic longitude must be specified\")\n",
    "        if b is None:\n",
    "            raise ValueError(\"Galactic latitude must be specified\")\n",
    "        self.l = l\n",
    "        self.b = b\n",
    "        self.u_t = u_t\n",
    "        self.ds = ds\n",
    "\n",
    "    \n",
    "    def __str__(self) -> str:\n",
    "        return f\"FFP with power law dN / dlogM ~ m^-{self.p}\"\n",
    "    __repr__ = __str__\n",
    "\n",
    "    def dN_dM(self, M, M_norm, p):\n",
    "        return (M/M_norm)**(-p-1) / M_norm\n",
    "    \n",
    "    def dN_dM_wrapper(self, M):\n",
    "        return self.dN_dM(M, self.M_norm, self.p)\n",
    "\n",
    "    def dN_dM_norm(self):\n",
    "        return 1/abs(nquad(self.dN_dM_wrapper,[[self.m_min, self.m_max]], opts={'points': [self.m_min, self.m_min*1e3, self.m_min*1e6, self.m_max]})[0])\n",
    "    \n",
    "    def f_m(self, M):\n",
    "        return self.dN_dM_wrapper(M)*self.Zprime\n",
    "\n",
    "    def dN_dlogM(self, A, log10M, M_norm, p):\n",
    "        M = 10**log10M\n",
    "        return A * (M/self.M_norm)**-p\n",
    "    \n",
    "    def dN_dlogM_wrapper(self, M):\n",
    "        return self.dN_dlogM(1, M, self.M_norm, self.p)\n",
    "    \n",
    "    def pl_norm(self):\n",
    "        return 1/abs(nquad(self.dN_dlogM_wrapper,[[np.log10(self.m_min), np.log10(self.m_max)]], opts={'points': [np.log10(self.m_min), np.log10(self.m_min*1e3), np.log10(self.m_max*1e3)]})[0])\n",
    "\n",
    "    def mass_func(self, log10m):\n",
    "        #M_norm = 1 solar mass for now. This is dN/dlogM\n",
    "        m = 10**log10m\n",
    "        return self.Z * (m/1)**-self.p\n",
    "\n",
    "    def differential_rate_integrand(self, umin, d, t, mf, model, finite=False, v_disp=None, t_e=False, tmax=np.inf, tmin=0):\n",
    "        r = model.dist_center(d, self.l, self.b)\n",
    "        ut = self.umin_upper_bound(d, mf) if finite else self.u_t\n",
    "        if ut <= umin:\n",
    "            return 0\n",
    "        if t_e: \n",
    "            #Calculate radial velocity in terms of einstein crossing time\n",
    "            v_rad = einstein_rad(d, mf, self.ds) * kpctokm / (t * htosec) \n",
    "            #crossing duration determined by extent of source in extreme finite limit\n",
    "            t_duration = max(ut, self.umin_upper_bound(d, mf)) * 2 * einstein_rad(d, mf) * kpctokm / v_rad / htosec #event duration in hours\n",
    "\n",
    "            if t_duration > tmax or t_duration < tmin:\n",
    "                return 0     \n",
    "        else:\n",
    "            #Calculate radial velocity in terms of event duration (t_fwhm)\n",
    "            v_rad = velocity_radial(d, mf, umin, t * htosec, ut) \n",
    "        if v_disp is None: \n",
    "            v_disp = model.velocity_dispersion_stars(r)\n",
    "        return 2 * (1 / (ut**2 - umin**2)**0.5 *\n",
    "                        #For FFP number density, use stellar density for 1 solar mass stars\n",
    "                model.density_stars(d, self.l, self.b) / (1 * v_disp**2) *  \n",
    "                v_rad**4 * (htosec / kpctokm)**2 *\n",
    "                np.exp(-(v_rad**2 / v_disp**2)) *\n",
    "                1)\n",
    "\n",
    "    def differential_rate(self, t, integrand_func, finite=False, epsabs = 1.49e-08, epsrel = 1.49e-08):\n",
    "        # #rewrite using tplquad?\n",
    "        # num = 40  # number of discretization points, empirically, result levels off for >~ 40\n",
    "        # mf_values = np.linspace(np.log10(self.m_min), np.log10(self.m_max), num=num)\n",
    "\n",
    "        # result = 0\n",
    "        # for i in range(num):\n",
    "        #     mf = mf_values[i]\n",
    "        #     if i == 0:  # for the first point\n",
    "        #         dm = mf_values[i+1] - mf_values[i]\n",
    "        #     elif i < num - 1:  # for middle points\n",
    "        #         dm = ((mf_values[i+1] - mf_values[i]) + (mf_values[i] - mf_values[i-1])) / 2\n",
    "        #     else:  # for the last point\n",
    "        #         dm = mf_values[i] - mf_values[i-1]\n",
    "        #     if finite:\n",
    "        #         single_result, error = dblquad(integrand_func, \n",
    "        #                                     # 0, 10, \n",
    "        #                                     0, self.d_upper_bound(10**mf),\n",
    "        #                                     lambda d: 0, \n",
    "        #                                     lambda d: self.umin_upper_bound(d, 10**mf),\n",
    "        #                                     args=(10**mf, t),\n",
    "        #                                     epsabs=epsabs,\n",
    "        #                                     epsrel=epsrel,\n",
    "        #                                     )\n",
    "        #     else:\n",
    "        #         single_result, error = dblquad(integrand_func,\n",
    "        #                                        #Without finite size effects, integral blows up at M31 center\n",
    "        #                                     0, self.ds,\n",
    "        #                                     lambda d: 0, \n",
    "        #                                     lambda d: self.u_t,\n",
    "        #                                     args=(10**mf, t),\n",
    "        #                                     epsabs=epsabs,\n",
    "        #                                     epsrel=epsrel,\n",
    "        #                                     )\n",
    "            \n",
    "        #     result += single_result * ((10**mf/1) ** -self.p) * dm # multiply by mass function and by dlogm. This is for dN/dlogM\n",
    "\n",
    "        # result *= self.Z  # normalization\n",
    "        # return result\n",
    "\n",
    "\n",
    "        def inner_integrand(u, d, m):\n",
    "            return integrand_func(u, d, m, t)\n",
    "            \n",
    "        # Second integral (over u) - bounds given by d\n",
    "        def second_integral(d, m):\n",
    "            point = self.sticking_point(m)\n",
    "\n",
    "            if finite:\n",
    "                u_min, u_max = 0, self.umin_upper_bound(d, m)\n",
    "            else:\n",
    "                u_min, u_max = 0, self.u_t\n",
    "\n",
    "            result, error = quad(inner_integrand, u_min, u_max, args=(d, m), epsabs=epsabs, epsrel=epsrel, points=[point])\n",
    "\n",
    "            return result\n",
    "            \n",
    "        # Third integral (over d)\n",
    "        def third_integral(m):\n",
    "            if finite:\n",
    "                d_min, d_max = 0, self.d_upper_bound(m)\n",
    "            else:\n",
    "                d_min, d_max = 0, self.ds\n",
    "\n",
    "            result, error = quad(second_integral, d_min, d_max, args=(m,), epsabs=epsabs, epsrel=epsrel)\n",
    "            return result\n",
    "        \n",
    "        # Outermost integral (over m in log scale)\n",
    "        def integrand_logm(logm):\n",
    "            m = 10**logm\n",
    "            result = third_integral(m)\n",
    "            return result * ((m/self.M_norm) ** -self.p)  # multiply by mass function. This is for dN/dlogM\n",
    "\n",
    "        logm_min = np.log10(self.m_min)\n",
    "        logm_max = np.log10(self.m_max)\n",
    "\n",
    "        result, error = quad(integrand_logm, logm_min, logm_max, epsabs=epsabs, epsrel=epsrel)\n",
    "\n",
    "        result *= self.Z  # normalization\n",
    "        return result\n",
    "\n",
    "    \n",
    "    def differential_rate_mw(self, t, finite=True, v_disp=None, t_e=False, epsabs = 1.49e-08, epsrel = 1.49e-08, tmax=np.inf, tmin=0):\n",
    "        def integrand_func(umin, d, mf, t):\n",
    "            return self.differential_rate_integrand(umin, d, t, mf, self.mw_model, finite=finite, v_disp=v_disp, t_e=t_e, tmax=tmax, tmin=tmin)\n",
    "        return self.differential_rate(t, integrand_func, finite=finite, epsabs=epsabs, epsrel=epsrel)\n",
    "\n",
    "    def differential_rate_m31(self, t, finite=True, v_disp=None, epsabs = 1.49e-08, epsrel = 1.49e-08,):\n",
    "        def integrand_func(umin, d, mf, t):\n",
    "            return self.differential_rate_integrand(umin, d, t, mf, self.m31_model, finite=finite, v_disp=v_disp)\n",
    "        return self.differential_rate(t, integrand_func, finite=finite, epsabs=epsabs, epsrel=epsrel)\n",
    "\n",
    "    def differential_rate_mw_mass(self, m, finite=True, v_disp=None, tcad=0.07, tobs=3, epsabs = 1.49e-08, epsrel = 1.49e-08, efficiency=None, monochromatic=False):\n",
    "        def integrand_func(umin, d, t, mf):\n",
    "            return self.differential_rate_integrand(umin, d, t, mf, self.mw_model, finite=finite, v_disp=v_disp)\n",
    "        return self.differential_rate_mass(m, integrand_func, finite=finite, tcad=tcad, tobs=tobs, epsabs = epsabs, epsrel = epsrel, efficiency=efficiency, monochromatic=monochromatic)\n",
    "    \n",
    "    def differential_rate_m31_mass(self, m, finite=True, v_disp=None, tcad=0.07, tobs=3, epsabs = 1.49e-08, epsrel = 1.49e-08, efficiency=None, monochromatic=False):\n",
    "        def integrand_func(umin, d, t, mf):\n",
    "            return self.differential_rate_integrand(umin, d, t, mf, self.m31_model, finite=finite)\n",
    "        return self.differential_rate_mass(m, integrand_func, finite=finite, tcad=tcad, tobs=tobs, epsabs = epsabs, epsrel = epsrel, efficiency=efficiency, monochromatic=monochromatic)\n",
    "\n",
    "    def umin_upper_bound(self, d, m):\n",
    "        rho = rho_func(m, d, self.ds)\n",
    "        return self.ut_interp(rho, magnification(self.u_t))\n",
    "\n",
    "    def d_upper_bound(self, m):\n",
    "        #Determine upper limit for d otherwise for low masses, the contribution which only comes from d << 1 gets missed\n",
    "        d_arr = np.logspace(-3, np.log10(self.ds*0.99), 100)\n",
    "        for d in d_arr:\n",
    "            if self.umin_upper_bound(d, m) == 0:\n",
    "                return d\n",
    "        return self.ds\n",
    "    \n",
    "    def sticking_point(self,m):\n",
    "        #Determine where u_t is maximized. This speeds up the integral in m31\n",
    "        result = minimize_scalar(lambda d:-self.umin_upper_bound(d, m), bounds=(0, self.ds), method='bounded')\n",
    "        if result.success:\n",
    "            return result.x[0] if isinstance(result.x, (list, np.ndarray)) else result.x\n",
    "        else:\n",
    "            return self.ds\n",
    "    \n",
    "    def differential_rate_total(self, t, finite=False):\n",
    "        return self.differential_rate_mw(t, finite=finite) + self.differential_rate_m31(t, finite=finite)\n",
    " \n",
    "    def compute_differential_rate(self, ts, finite=False):\n",
    "        return [self.differential_rate_total(t, finite=finite) for t in ts]\n",
    "    \n",
    "    def differential_rate_mass(self, m, integrand_func, finite=True, tcad=0.07, tobs=3, epsabs = 1.49e-08, epsrel = 1.49e-08, efficiency=None, monochromatic=False):        \n",
    "        \n",
    "        if efficiency is None:\n",
    "            def efficiency(t):\n",
    "                return 1\n",
    "\n",
    "        point = self.sticking_point(m)\n",
    "\n",
    "        def inner_integrand(u, d, t, m):\n",
    "            return integrand_func(u, d, t, m) * efficiency(t)\n",
    "            \n",
    "        # Second integral (over u) - bounds given by d\n",
    "        def second_integral(d, t, m):\n",
    "            if finite:\n",
    "                u_min, u_max = 0, self.umin_upper_bound(d, m)[0]\n",
    "            else:\n",
    "                u_min, u_max = 0, self.u_t\n",
    "            result, error = quad(inner_integrand, u_min, u_max, args=(d, t, m), epsabs=epsabs, epsrel=epsrel, points=[point])\n",
    "            return result\n",
    "            \n",
    "        # Third integral (over d)\n",
    "        def third_integral(t, m):\n",
    "            if finite:\n",
    "                d_min, d_max = 0, self.d_upper_bound(m)\n",
    "            else:\n",
    "                d_min, d_max = 0, self.ds\n",
    "\n",
    "            result, error = quad(second_integral, d_min, d_max, args=(t, m), epsabs=epsabs, epsrel=epsrel)\n",
    "            return result\n",
    "                \n",
    "        # Outermost integral (over t)\n",
    "        t_min = tcad\n",
    "        t_max = tobs\n",
    "        result, error = quad(third_integral, t_min, t_max, args=(m,), epsabs=epsabs, epsrel=epsrel)\n",
    "        \n",
    "        if monochromatic:\n",
    "            return result\n",
    "        return result * self.f_m(m)\n",
    "\n"
   ]
  },
  {
   "cell_type": "code",
   "execution_count": 63,
   "metadata": {},
   "outputs": [],
   "source": [
    "p = 1.0\n",
    "# f = Ffp(p, l = 1.0, b = -1.03, ds=8.5, u_t = 2)\n",
    "f = Ffp(0, l = 1.0, b = -1.03, ds=8.5, u_t = 1, m_min=2.5e-6, m_max=3.5e-6)\n"
   ]
  },
  {
   "cell_type": "code",
   "execution_count": 33,
   "metadata": {},
   "outputs": [
    {
     "data": {
      "text/plain": [
       "array([3.5014054])"
      ]
     },
     "execution_count": 33,
     "metadata": {},
     "output_type": "execute_result"
    }
   ],
   "source": [
    "f.umin_upper_bound(1, 3e-6)"
   ]
  },
  {
   "cell_type": "code",
   "execution_count": 30,
   "metadata": {},
   "outputs": [
    {
     "data": {
      "text/plain": [
       "1.009997124512126"
      ]
     },
     "execution_count": 30,
     "metadata": {},
     "output_type": "execute_result"
    }
   ],
   "source": [
    "magnification(3.5)"
   ]
  },
  {
   "cell_type": "code",
   "execution_count": 54,
   "metadata": {},
   "outputs": [
    {
     "name": "stderr",
     "output_type": "stream",
     "text": [
      "100%|██████████| 20/20 [03:32<00:00, 10.63s/it]\n"
     ]
    }
   ],
   "source": [
    "u_t_arr = np.linspace(0.1, 10, 20)\n",
    "diff_rate_earth_log_un_1 = []\n",
    "for u_t in tqdm(u_t_arr):\n",
    "    f.u_t = u_t\n",
    "    diff_rate_earth_log_un_1.append(np.log10(f.differential_rate_total(10, finite=True)))\n",
    "diff_rate_earth_log_un_1 = np.array(diff_rate_earth_log_un_1)"
   ]
  },
  {
   "cell_type": "code",
   "execution_count": 55,
   "metadata": {},
   "outputs": [
    {
     "data": {
      "text/plain": [
       "Text(0.5, 1.0, 'Earth mass')"
      ]
     },
     "execution_count": 55,
     "metadata": {},
     "output_type": "execute_result"
    },
    {
     "data": {
      "image/png": "[encoded data removed]",
      "text/plain": [
       "<Figure size 640x480 with 1 Axes>"
      ]
     },
     "metadata": {},
     "output_type": "display_data"
    }
   ],
   "source": [
    "plt.plot(u_t_arr, 10**diff_rate_earth_log_un_1)\n",
    "plt.yscale('log')\n",
    "plt.xlabel(r'$u_t$')\n",
    "plt.ylabel(r'$d\\Gamma/dt$ at t=10 h')\n",
    "plt.title(r'Earth mass')"
   ]
  },
  {
   "cell_type": "code",
   "execution_count": 105,
   "metadata": {},
   "outputs": [
    {
     "data": {
      "text/plain": [
       "2.834948673444066e-13"
      ]
     },
     "execution_count": 105,
     "metadata": {},
     "output_type": "execute_result"
    }
   ],
   "source": [
    "#new\n",
    "f.differential_rate_mw(10, finite=True, v_disp=220)"
   ]
  },
  {
   "cell_type": "code",
   "execution_count": 106,
   "metadata": {},
   "outputs": [
    {
     "name": "stderr",
     "output_type": "stream",
     "text": [
      "\n",
      "  0%|          | 0/30 [00:00<?, ?it/s]"
     ]
    },
    {
     "name": "stderr",
     "output_type": "stream",
     "text": [
      "100%|██████████| 30/30 [02:40<00:00,  5.34s/it]\n"
     ]
    }
   ],
   "source": [
    "ts = np.logspace(np.log10(0.25), np.log10(24*72*6), 30)\n",
    "dgdt_arr = np.array([f.differential_rate_mw(t, finite=True, v_disp=220) for t in tqdm(ts)])"
   ]
  },
  {
   "cell_type": "code",
   "execution_count": 115,
   "metadata": {},
   "outputs": [
    {
     "name": "stderr",
     "output_type": "stream",
     "text": [
      "/var/folders/qd/09mj47cx551c65glw6y47d6r0000gn/T/ipykernel_1335/232200059.py:246: IntegrationWarning: The integral is probably divergent, or slowly convergent.\n",
      "  result, error = quad(inner_integrand, u_min, u_max, args=(d, t, m), epsabs=epsabs, epsrel=epsrel, points=[point])\n"
     ]
    },
    {
     "name": "stdout",
     "output_type": "stream",
     "text": [
      "0.07834823484653951\n"
     ]
    },
    {
     "data": {
      "text/plain": [
       "1.0877740384154337e-11"
      ]
     },
     "execution_count": 115,
     "metadata": {},
     "output_type": "execute_result"
    }
   ],
   "source": [
    "#new\n",
    "f.differential_rate_mw_mass(3e-6, finite=True, v_disp=220, tcad=0.25, tobs=24*72*6, monochromatic=True, epsabs=0, epsrel=1e-1)"
   ]
  },
  {
   "cell_type": "code",
   "execution_count": 108,
   "metadata": {},
   "outputs": [
    {
     "data": {
      "text/plain": [
       "1.125927998877597e-11"
      ]
     },
     "execution_count": 108,
     "metadata": {},
     "output_type": "execute_result"
    }
   ],
   "source": [
    "dgdt_interp = interp1d(ts, dgdt_arr, kind='linear')\n",
    "quad(dgdt_interp, 0.25, 24*72*6, epsabs=0, epsrel=1e-1)[0]\n",
    "#I would expect this to be close to the monochromatic result, which it is!"
   ]
  },
  {
   "cell_type": "markdown",
   "metadata": {},
   "source": [
    "## Log normal comparison to Johnson"
   ]
  },
  {
   "cell_type": "code",
   "execution_count": 67,
   "metadata": {},
   "outputs": [],
   "source": [
    "mass_arr = np.logspace(-2, 4, 7)*3e-6\n",
    "ts = np.logspace(np.log10(0.25), np.log10(24*72*6), 30)\n"
   ]
  },
  {
   "cell_type": "code",
   "execution_count": 65,
   "metadata": {},
   "outputs": [],
   "source": [
    "roman_df = pd.read_csv('../examples/roman_sensitivity.csv', header=None, names=['t_e [days]', 'efficiency'])\n",
    "roman_efficiency_interp = interp1d(roman_df['t_e [days]'], roman_df['efficiency'])\n",
    "def roman_efficiency(t):\n",
    "    '''\n",
    "    Takes in crossing time in hours and returns the efficiency of Roman\n",
    "    '''\n",
    "    t_day = t/24\n",
    "    if t_day <= np.min(roman_df['t_e [days]']):\n",
    "        return roman_df['efficiency'][0]\n",
    "    if t_day >= np.max(roman_df['t_e [days]']):\n",
    "        return roman_df['efficiency'][len(roman_df)-1]\n",
    "    return(roman_efficiency_interp(t_day))\n"
   ]
  },
  {
   "cell_type": "code",
   "execution_count": 69,
   "metadata": {},
   "outputs": [
    {
     "name": "stderr",
     "output_type": "stream",
     "text": [
      " 43%|████▎     | 3/7 [19:39<24:57, 374.32s/it]/var/folders/qd/09mj47cx551c65glw6y47d6r0000gn/T/ipykernel_14517/3535331868.py:8: IntegrationWarning: The integral is probably divergent, or slowly convergent.\n",
      "  rate = quad(lambda t: dgdt_interp(t) * roman_efficiency(t), 0.25, 24*72*6, epsabs=0, epsrel=1e-1)[0]\n",
      "100%|██████████| 7/7 [26:51<00:00, 230.19s/it]\n"
     ]
    }
   ],
   "source": [
    "result_arr = np.zeros(len(mass_arr))\n",
    "for i, m in enumerate(tqdm(mass_arr)):\n",
    "    # f = Ffp(0, l = 1.0, b = -1.03, ds=8.5, u_t = 1, m_min=m*10**(-0.5), m_max=m*10**(0.5))\n",
    "    f = Ffp(0, l = 1.0, b = -1.03, ds=8.5, u_t = 3.45, m_min=m*10**(-0.5), m_max=m*10**(0.5))\n",
    "    dgdt_arr = np.array([f.differential_rate_mw(t, finite=True, v_disp=220) for t in ts])\n",
    "    dgdt_interp = interp1d(ts, dgdt_arr, kind='linear')\n",
    "\n",
    "    rate = quad(lambda t: dgdt_interp(t) * roman_efficiency(t), 0.25, 24*72*6, epsabs=0, epsrel=1e-1)[0]\n",
    "    result_arr[i] = rate * 24*72*6 * 2.4e8"
   ]
  },
  {
   "cell_type": "code",
   "execution_count": 96,
   "metadata": {},
   "outputs": [
    {
     "name": "stderr",
     "output_type": "stream",
     "text": [
      " 43%|████▎     | 3/7 [01:40<02:15, 33.82s/it]/var/folders/qd/09mj47cx551c65glw6y47d6r0000gn/T/ipykernel_14517/3939466292.py:9: IntegrationWarning: The integral is probably divergent, or slowly convergent.\n",
      "  rate = quad(lambda t: dgdt_interp(t) * roman_efficiency(t), 0.25, 24*72*6, epsabs=0, epsrel=1e-1)[0]\n",
      "100%|██████████| 7/7 [05:04<00:00, 43.52s/it]\n"
     ]
    }
   ],
   "source": [
    "result_arr_point_1 = np.zeros(len(mass_arr))\n",
    "for i, m in enumerate(tqdm(mass_arr)):\n",
    "    f = Ffp(0, l = 1.0, b = -1.03, ds=8.5, u_t = 1, m_min=m*10**(-0.5), m_max=m*10**(0.5))\n",
    "    # f = Ffp(0, l = 1.0, b = -1.03, ds=8.5, u_t = 3.45, m_min=m*10**(-0.5), m_max=m*10**(0.5))\n",
    "    # f = Ffp(0, l = 1.0, b = -1.03, ds=8.5, u_t = 3.0, m_min=m*10**(-0.5), m_max=m*10**(0.5))\n",
    "    dgdt_arr = np.array([f.differential_rate_mw(t, finite=False, v_disp=220) for t in ts])\n",
    "    dgdt_interp = interp1d(ts, dgdt_arr, kind='linear')\n",
    "\n",
    "    rate = quad(lambda t: dgdt_interp(t) * roman_efficiency(t), 0.25, 24*72*6, epsabs=0, epsrel=1e-1)[0]\n",
    "    result_arr_point_1[i] = rate * 24*72*6 * 2.4e8"
   ]
  },
  {
   "cell_type": "code",
   "execution_count": 97,
   "metadata": {},
   "outputs": [
    {
     "data": {
      "text/plain": [
       "array([6.66058132e-01, 4.51597126e+00, 1.91777526e+01, 6.94530989e+01,\n",
       "       2.29975935e+02, 7.40354621e+02, 2.36208973e+03])"
      ]
     },
     "execution_count": 97,
     "metadata": {},
     "output_type": "execute_result"
    }
   ],
   "source": [
    "result_arr_point_1"
   ]
  },
  {
   "cell_type": "code",
   "execution_count": 99,
   "metadata": {},
   "outputs": [],
   "source": [
    "our_ut_1_finite = np.array([0.054581, 1.747823, 18.989170 , 72.575551, 233.820611, 744.041794, 2372.639453])\n",
    "our_ut_1_point =  np.array([6.66058132e-01, 4.51597126e+00, 1.91777526e+01, 6.94530989e+01,2.29975935e+02, 7.40354621e+02, 2.36208973e+03])\n",
    "result_arr_point_3 = np.array([4.19731590e+00, 1.84469580e+01, 6.56940092e+01, 2.17129007e+02, 7.01789494e+02, 2.24181653e+03, 7.11845702e+03])\n",
    "result_arr_point_35 = np.array([5.09027157e+00, 2.15841384e+01, 7.61618731e+01, 2.51482464e+02, 8.08879645e+02, 2.57807882e+03, 8.16249999e+03])\n"
   ]
  },
  {
   "cell_type": "code",
   "execution_count": 86,
   "metadata": {},
   "outputs": [
    {
     "data": {
      "text/plain": [
       "3.2421065531473174"
      ]
     },
     "execution_count": 86,
     "metadata": {},
     "output_type": "execute_result"
    }
   ],
   "source": [
    "rho_func(3e-6*1e-2, 8.5/2, 8.5)"
   ]
  },
  {
   "cell_type": "code",
   "execution_count": 87,
   "metadata": {},
   "outputs": [
    {
     "data": {
      "text/plain": [
       "array([4.56896632])"
      ]
     },
     "execution_count": 87,
     "metadata": {},
     "output_type": "execute_result"
    }
   ],
   "source": [
    "ut_func_new(3.24, 1.01)"
   ]
  },
  {
   "cell_type": "code",
   "execution_count": 89,
   "metadata": {},
   "outputs": [
    {
     "data": {
      "text/plain": [
       "1.0169503597462535"
      ]
     },
     "execution_count": 89,
     "metadata": {},
     "output_type": "execute_result"
    }
   ],
   "source": [
    "magnification(3)"
   ]
  },
  {
   "cell_type": "code",
   "execution_count": 101,
   "metadata": {},
   "outputs": [],
   "source": [
    "johnson_logn_new = np.array([0.306, 4.49, 22.1, 87.1, 313, 1025, 3329])\n",
    "johnson_fid_new = np.array([0.611, 8.97, 44.2, 108, 72.3, 44.1, 26.7])\n",
    "N_power_our_fid_arr= []\n",
    "for m in mass_arr:\n",
    "    N_power_our_fid_arr.append(10*(m/(3e-6))**(-1))\n",
    "N_power_our_fid_arr = np.array(N_power_our_fid_arr)\n",
    "\n",
    "N_power_new_arr= []\n",
    "for m in mass_arr:\n",
    "    N_power_new_arr.append(0.24*(m/(95*3e-6))**(-0.73))\n",
    "N_power_new_arr = np.array(N_power_new_arr)\n"
   ]
  },
  {
   "cell_type": "code",
   "execution_count": 103,
   "metadata": {},
   "outputs": [
    {
     "data": {
      "text/plain": [
       "array([2.17666056, 1.00578424, 0.86777161, 0.79739494, 0.7347474 ,\n",
       "       0.72229719, 0.70954933])"
      ]
     },
     "execution_count": 103,
     "metadata": {},
     "output_type": "execute_result"
    }
   ],
   "source": [
    "our_ut_1_point/johnson_logn_new"
   ]
  },
  {
   "cell_type": "code",
   "execution_count": 104,
   "metadata": {},
   "outputs": [
    {
     "data": {
      "text/plain": [
       "array([0.17836928, 0.38927016, 0.85923846, 0.83324398, 0.74703071,\n",
       "       0.72589443, 0.71271837])"
      ]
     },
     "execution_count": 104,
     "metadata": {},
     "output_type": "execute_result"
    }
   ],
   "source": [
    "our_ut_1_finite/johnson_logn_new"
   ]
  },
  {
   "cell_type": "code",
   "execution_count": 169,
   "metadata": {},
   "outputs": [
    {
     "name": "stdout",
     "output_type": "stream",
     "text": [
      "   m [M_earth]  Our Log-Uniform  Johnson Log-Uniform  Our Fiducial  \\\n",
      "0         0.01         0.054581                0.306     54.580964   \n",
      "1         0.10         1.747823                4.490    174.782304   \n",
      "2         1.00        18.989170               22.100    189.891703   \n",
      "3        10.00        72.575551               87.100     72.575551   \n",
      "4       100.00       233.820611              313.000     23.382061   \n",
      "5      1000.00       744.041794             1025.000      7.440418   \n",
      "6     10000.00      2372.639453             3329.000      2.372639   \n",
      "\n",
      "   Johnson Fiducial Power  \n",
      "0               58.839761  \n",
      "1              160.766595  \n",
      "2              147.347152  \n",
      "3              108.135335  \n",
      "4               72.359209  \n",
      "5               44.123844  \n",
      "6               26.684758  \n"
     ]
    }
   ],
   "source": [
    "df = pd.DataFrame({'m [M_earth]': np.round(mass_arr/3e-6,2), 'Our Log-Uniform': result_arr, 'Johnson Log-Uniform': johnson_logn_new, 'Our Fiducial': N_power_our_fid_arr*result_arr, 'Johnson Fiducial Power': johnson_logn_new*N_power_new_arr})\n",
    "print(df)"
   ]
  },
  {
   "cell_type": "code",
   "execution_count": 73,
   "metadata": {},
   "outputs": [
    {
     "data": {
      "text/plain": [
       "array([8.19674456e+00, 3.34375141e+01, 8.78681152e+01, 2.57978574e+02,\n",
       "       8.14157860e+02, 2.59035151e+03, 8.19974070e+03])"
      ]
     },
     "execution_count": 73,
     "metadata": {},
     "output_type": "execute_result"
    }
   ],
   "source": [
    "result_arr"
   ]
  },
  {
   "cell_type": "code",
   "execution_count": 94,
   "metadata": {},
   "outputs": [
    {
     "data": {
      "text/plain": [
       "array([77.01497063, 10.55438725,  3.45940017,  2.9915818 ,  3.00140918,\n",
       "        3.01303228,  2.99977118])"
      ]
     },
     "execution_count": 94,
     "metadata": {},
     "output_type": "execute_result"
    }
   ],
   "source": [
    "result_arr_point_3/np.array([0.0545, 1.7478, 18.99, 72.58, 233.82, 744.04, 2373])"
   ]
  },
  {
   "cell_type": "code",
   "execution_count": null,
   "metadata": {},
   "outputs": [],
   "source": [
    "#full power law comparison\n",
    "M_norm = 3e-6\n",
    "Z_fiducial = 10\n",
    "f = Ffp(1, l = 1.0, b = -1.03, ds=8.5, u_t = 1, m_min=1e-12, m_max= 1e-1)\n",
    "z_earth =  Z_fiducial/(f.Z*(M_norm/f.M_norm)**(-p))\n",
    "dgdt_arr = np.array([f.differential_rate_mw(t, finite=True, v_disp=220) for t in tqdm(ts)])\n",
    "dgdt_interp = interp1d(ts, dgdt_arr, kind='linear')\n",
    "\n",
    "rate = quad(lambda t: dgdt_interp(t) * roman_efficiency(t), 0.25, 24*72*6, epsabs=0, epsrel=1e-1)[0]\n",
    "print(rate * 24*72*6 * 2.4e8 * z_earth)"
   ]
  },
  {
   "cell_type": "code",
   "execution_count": null,
   "metadata": {},
   "outputs": [
    {
     "data": {
      "text/plain": [
       "525.0256409207203"
      ]
     },
     "execution_count": 158,
     "metadata": {},
     "output_type": "execute_result"
    }
   ],
   "source": [
    "#Should be close to for power-law calc and log-uniform calc to agree\n",
    "sum(N_power_our_fid_arr*result_arr)"
   ]
  },
  {
   "cell_type": "code",
   "execution_count": 146,
   "metadata": {},
   "outputs": [
    {
     "data": {
      "text/plain": [
       "Text(0, 0.5, 'Number of Events')"
      ]
     },
     "execution_count": 146,
     "metadata": {},
     "output_type": "execute_result"
    },
    {
     "data": {
      "image/png": "[encoded data removed]",
      "text/plain": [
       "<Figure size 640x480 with 1 Axes>"
      ]
     },
     "metadata": {},
     "output_type": "display_data"
    }
   ],
   "source": [
    "plt.loglog(mass_arr/3e-6, result_arr, label='Our Log-Uniform')\n",
    "plt.loglog(mass_arr/3e-6, johnson_logn_new, label='Johnson Log-Uniform')\n",
    "plt.legend()\n",
    "plt.xlabel('Mass [M$_\\oplus$]')\n",
    "plt.ylabel('Number of Events')\n"
   ]
  },
  {
   "cell_type": "code",
   "execution_count": 116,
   "metadata": {},
   "outputs": [],
   "source": [
    "#Test that the mass function is normalized correctly\n",
    "test_close(abs(nquad(f.mass_func,[[np.log10(f.m_min), np.log10(f.m_max)]], opts={'points': [f.m_min, f.m_min*1e3, f.m_min*1e5]})[0]), 1, eps=1e-3)"
   ]
  },
  {
   "cell_type": "code",
   "execution_count": 117,
   "metadata": {},
   "outputs": [],
   "source": [
    "#Test that the mass function is normalized correctly\n",
    "test_close(abs(nquad(f.f_m,[[f.m_min, f.m_max]], opts={'points': [f.m_min, f.m_min*1e3, f.m_min*1e6, f.m_max]})[0]), 1, eps=1e-3)"
   ]
  },
  {
   "cell_type": "code",
   "execution_count": null,
   "metadata": {},
   "outputs": [],
   "source": [
    "#| hide\n",
    "import nbdev; nbdev.nbdev_export()"
   ]
  }
 ],
 "metadata": {
  "kernelspec": {
   "display_name": "python3",
   "language": "python",
   "name": "python3"
  },
  "language_info": {
   "codemirror_mode": {
    "name": "ipython",
    "version": 3
   },
   "file_extension": ".py",
   "mimetype": "text/x-python",
   "name": "python",
   "nbconvert_exporter": "python",
   "pygments_lexer": "ipython3",
   "version": "3.9.7"
  }
 },
 "nbformat": 4,
 "nbformat_minor": 4
}
