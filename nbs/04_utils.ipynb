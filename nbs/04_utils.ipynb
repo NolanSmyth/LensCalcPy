{
 "cells": [
  {
   "attachments": {},
   "cell_type": "markdown",
   "metadata": {},
   "source": [
    "# utils\n",
    "\n",
    "> This module includes utility functions that are used across multiple modules, such as coordinate transformations, interpolation functions, and statistical analysis tools."
   ]
  },
  {
   "cell_type": "code",
   "execution_count": null,
   "metadata": {},
   "outputs": [],
   "source": [
    "#| default_exp utils"
   ]
  },
  {
   "cell_type": "code",
   "execution_count": null,
   "metadata": {},
   "outputs": [],
   "source": [
    "#| hide\n",
    "from nbdev.showdoc import *"
   ]
  },
  {
   "cell_type": "code",
   "execution_count": null,
   "metadata": {},
   "outputs": [],
   "source": [
    "#| export\n",
    "from LensCalcPy.parameters import *\n",
    "import numpy as np"
   ]
  },
  {
   "cell_type": "code",
   "execution_count": null,
   "metadata": {},
   "outputs": [],
   "source": [
    "#| export\n",
    "\n",
    "def dist_mw(d: float, # distance from the Sun in kpc\n",
    "            ) -> float: #distance to the MW center in kpc\n",
    "    return np.sqrt(d**2 + rEarth**2 - 2*d*rEarth*np.cos(np.radians(l))*np.cos(np.radians(b)))\n",
    "\n",
    "def dist_m31(d: float, # distance from the Sun in kpc\n",
    "             ) -> float: #distance to the M31 center in kpc\n",
    "            return dsM31 - d\n",
    "\n",
    "def density_mw(r: float, # distance to MW center in kpc\n",
    "                ) -> float: # DM density in Msun/kpc^3\n",
    "    return rhoc / ((r/rs) * (1 + r/rs)**2)\n",
    "\n",
    "def density_m31(r: float, # distance to M31 center in kpc\n",
    "                ) -> float: # DM density in Msun/kpc^3\n",
    "    return rhocM31 / ((r/rsM31) * (1 + r/rsM31)**2)\n",
    "\n",
    "def mass_enclosed_mw(r: float  # distance to MW center in kpc\n",
    "                      ) -> float : # enclosed DM mass in Msun\n",
    "    return 4*np.pi * rhoc * rs**3 * (np.log(1 + r/rs) - (r/rs)/(1 + r/rs))\n",
    "\n",
    "def mass_enclosed_m31(r: float  # distance to M31 center in kpc\n",
    "                        ) -> float : # enclosed DM mass in Msun\n",
    "    return 4*np.pi * rhocM31 * rsM31**3 * (np.log(1 + r/rsM31) - (r/rsM31)/(1 + r/rsM31))\n",
    "\n",
    "def velocity_dispersion_mw(r: float, # distance from the MW center in kpc\n",
    "                        ) -> float: # velocity dispersion in km/s\n",
    "    return np.sqrt(G * mass_enclosed_mw(r) / r) \n",
    "\n",
    "def velocity_dispersion_m31(r: float, # distance from the M31 center in kpc\n",
    "                        ) -> float: # velocity dispersion in km/s\n",
    "    return np.sqrt(G * mass_enclosed_m31(r) / r)\n",
    "\n",
    "def dist(d: float # distance from the Sun in kpc\n",
    "         ) -> float: #weighted lensing distance in kpc\n",
    "    return d * (1 - d/ds)\n",
    "\n",
    "def einstein_rad(d: float, # distance from the Sun in kpc\n",
    "                 mass: float, # mass of the lens in Msun\n",
    "                 ) -> float:\n",
    "    return np.real((4 * G * mass * dist(d)/c**2)**(1/2))\n",
    "\n",
    "\n",
    "def velocity_radial(d: float, # distance from the Sun in kpc\n",
    "                    mass: float, # mass of the lens in Msun\n",
    "                    umin: float, # minimum impact parameter\n",
    "                    t: float, # crossing time in hours\n",
    "                    ) -> float: # radial velocity in km/s\n",
    "    return 2*einstein_rad(d, mass) * (ut**2 - umin**2)**(1/2) / t * kpctokm\n",
    "\n",
    "# from below 16 of https://iopscience.iop.org/article/10.3847/1538-4357/ac07a8/pdf*)\n",
    "# alphabar = 27 Degrees xp-axis is aligned with the major axis\n",
    "# of the Galactic bar,where \\[Alpha]bar=27\\[Degree] is applied as the bar angle.\n",
    "# assuming z ~= 0 and we are looking at line of sight to galactic center from Sun\n",
    "# galactocentric coordniates x', y' as function of d, distance from Sun\n",
    "\n",
    "def get_primed_coords(d: float # distance from Sun\n",
    "                      )-> tuple:\n",
    "    \"\"\"Get galactocentric coordinates x', y' as function of d, distance from Sun\n",
    "    \"\"\"\n",
    "    x = rEarth - d\n",
    "    y = 0\n",
    "    return (x**2 + y**2)**0.5 * np.cos(alphabar*np.pi/180), (x**2 + y**2)**0.5 * np.sin(alphabar*np.pi/180)\n",
    "\n",
    "def scientific_format(x, pos):\n",
    "    \"\"\"\n",
    "    Formats a number in scientific notation in latex\n",
    "    \"\"\"\n",
    "    a, b = '{:.1e}'.format(x).split('e')\n",
    "    b = int(b)\n",
    "    return r'${} \\times 10^{{{}}}$'.format(a, b)"
   ]
  },
  {
   "cell_type": "code",
   "execution_count": null,
   "metadata": {},
   "outputs": [],
   "source": [
    "#| hide\n",
    "import nbdev; nbdev.nbdev_export()"
   ]
  }
 ],
 "metadata": {
  "kernelspec": {
   "display_name": "Python 3 (ipykernel)",
   "language": "python",
   "name": "python3"
  }
 },
 "nbformat": 4,
 "nbformat_minor": 4
}
