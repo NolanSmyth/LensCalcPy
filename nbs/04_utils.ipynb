{
 "cells": [
  {
   "attachments": {},
   "cell_type": "markdown",
   "metadata": {},
   "source": [
    "# utils\n",
    "\n",
    "> This module includes utility functions that are used across multiple modules, such as coordinate transformations, interpolation functions, and statistical analysis tools."
   ]
  },
  {
   "cell_type": "code",
   "execution_count": null,
   "metadata": {},
   "outputs": [],
   "source": [
    "#| default_exp utils"
   ]
  },
  {
   "cell_type": "code",
   "execution_count": null,
   "metadata": {},
   "outputs": [],
   "source": [
    "#| hide\n",
    "from nbdev.showdoc import *"
   ]
  },
  {
   "cell_type": "code",
   "execution_count": 93,
   "metadata": {},
   "outputs": [],
   "source": [
    "#| export\n",
    "from LensCalcPy.parameters import *\n",
    "import numpy as np\n",
    "from numpy import pi\n",
    "from scipy.integrate import quad\n",
    "import matplotlib.pyplot as plt"
   ]
  },
  {
   "cell_type": "code",
   "execution_count": 82,
   "metadata": {},
   "outputs": [],
   "source": [
    "#| export\n",
    "\n",
    "def dist_mw(d: float, # distance from the Sun in kpc\n",
    "            ) -> float: #distance to the MW center in kpc\n",
    "    return np.sqrt(d**2 + rEarth**2 - 2*d*rEarth*np.cos(np.radians(l))*np.cos(np.radians(b)))\n",
    "\n",
    "def dist_m31(d: float, # distance from the Sun in kpc\n",
    "             ) -> float: #distance to the M31 center in kpc\n",
    "            return dsM31 - d\n",
    "\n",
    "def density_mw(r: float, # distance to MW center in kpc\n",
    "                ) -> float: # DM density in Msun/kpc^3\n",
    "    return rhoc / ((r/rs) * (1 + r/rs)**2)\n",
    "\n",
    "def density_m31(r: float, # distance to M31 center in kpc\n",
    "                ) -> float: # DM density in Msun/kpc^3\n",
    "    return rhocM31 / ((r/rsM31) * (1 + r/rsM31)**2)\n",
    "\n",
    "def mass_enclosed_mw(r: float  # distance to MW center in kpc\n",
    "                      ) -> float : # enclosed DM mass in Msun\n",
    "    return 4*pi * rhoc * rs**3 * (np.log(1 + r/rs) - (r/rs)/(1 + r/rs))\n",
    "\n",
    "def mass_enclosed_m31(r: float  # distance to M31 center in kpc\n",
    "                        ) -> float : # enclosed DM mass in Msun\n",
    "    return 4*pi * rhocM31 * rsM31**3 * (np.log(1 + r/rsM31) - (r/rsM31)/(1 + r/rsM31))\n",
    "\n",
    "def velocity_dispersion_mw(r: float, # distance from the MW center in kpc\n",
    "                        ) -> float: # velocity dispersion in km/s\n",
    "    return np.sqrt(G * mass_enclosed_mw(r) / r) \n",
    "\n",
    "def velocity_dispersion_m31(r: float, # distance from the M31 center in kpc\n",
    "                        ) -> float: # velocity dispersion in km/s\n",
    "    return np.sqrt(G * mass_enclosed_m31(r) / r)\n",
    "\n",
    "def dist(d: float # distance from the Sun in kpc\n",
    "         ) -> float: #weighted lensing distance in kpc\n",
    "    return d * (1 - d/ds)\n",
    "\n",
    "def einstein_rad(d: float, # distance from the Sun in kpc\n",
    "                 mass: float, # mass of the lens in Msun\n",
    "                 ) -> float:\n",
    "    return np.real((4 * G * mass * dist(d)/c**2)**(1/2))\n",
    "\n",
    "\n",
    "def velocity_radial(d: float, # distance from the Sun in kpc\n",
    "                    mass: float, # mass of the lens in Msun\n",
    "                    umin: float, # minimum impact parameter\n",
    "                    t: float, # crossing time in hours\n",
    "                    ) -> float: # radial velocity in km/s\n",
    "    return 2*einstein_rad(d, mass) * (ut**2 - umin**2)**(1/2) / t * kpctokm\n",
    "\n",
    "# from below 16 of https://iopscience.iop.org/article/10.3847/1538-4357/ac07a8/pdf*)\n",
    "# alphabar = 27 Degrees xp-axis is aligned with the major axis\n",
    "# of the Galactic bar,where \\[Alpha]bar=27\\[Degree] is applied as the bar angle.\n",
    "# assuming z ~= 0 and we are looking at line of sight to galactic center from Sun\n",
    "# galactocentric coordniates x', y' as function of d, distance from Sun\n",
    "\n",
    "def get_primed_coords(d: float # distance from Sun\n",
    "                      )-> tuple:\n",
    "    \"\"\"Get galactocentric coordinates x', y' as function of d, distance from Sun\n",
    "    \"\"\"\n",
    "    x = rEarth - d\n",
    "    y = 0\n",
    "    return (x**2 + y**2)**0.5 * np.cos(alphabar*pi/180), (x**2 + y**2)**0.5 * np.sin(alphabar*pi/180)\n",
    "\n",
    "def scientific_format(x, pos):\n",
    "    \"\"\"\n",
    "    Formats a number in scientific notation in latex\n",
    "    \"\"\"\n",
    "    a, b = '{:.1e}'.format(x).split('e')\n",
    "    b = int(b)\n",
    "    return r'${} \\times 10^{{{}}}$'.format(a, b)"
   ]
  },
  {
   "cell_type": "code",
   "execution_count": 139,
   "metadata": {},
   "outputs": [],
   "source": [
    "#| export\n",
    "# Add finite size calculation following https://arxiv.org/pdf/1905.06066.pdf\n",
    "\n",
    "def w_func(m_pbh, lam):\n",
    "    return 5.98 * (m_pbh / 1e-10) * (lam / 6210)**(-1)\n",
    "\n",
    "def magnification(u):\n",
    "    if u == 0:\n",
    "        return np.inf\n",
    "    return (u**2 + 2)/(u*(u**2 + 4)**0.5)\n",
    "\n",
    "def magnification_wave(w, u):\n",
    "    return min(magnification(u), pi*w/(1-np.exp(-pi*w)))\n",
    "\n",
    "def displacement(x, y, u):\n",
    "    return ((x - u)**2 + y**2)**0.5\n",
    "\n",
    "def integrand_polar(r, theta, w, u):\n",
    "    x = r * np.cos(theta)\n",
    "    y = r * np.sin(theta)\n",
    "    return magnification_wave(w, displacement(x, y, u)) * r\n",
    "\n",
    "def magnification_finite(m_pbh, lam, u, rho):\n",
    "    w = w_func(m_pbh, lam)\n",
    "    result, _ = quad(lambda r: quad(lambda theta: integrand_polar(r, theta, w, u), 0, 2*pi)[0], 0, rho)\n",
    "    return result / (pi * rho**2)"
   ]
  },
  {
   "cell_type": "code",
   "execution_count": 141,
   "metadata": {},
   "outputs": [
    {
     "name": "stdout",
     "output_type": "stream",
     "text": [
      "1.375442407351697\n"
     ]
    }
   ],
   "source": [
    "rho = 2\n",
    "u = 1\n",
    "m_pbh = 1e-10\n",
    "lam = 6000\n",
    "\n",
    "print(magnification_finite(m_pbh, lam, u, rho))"
   ]
  },
  {
   "cell_type": "code",
   "execution_count": 143,
   "metadata": {},
   "outputs": [
    {
     "name": "stderr",
     "output_type": "stream",
     "text": [
      "/var/folders/qd/09mj47cx551c65glw6y47d6r0000gn/T/ipykernel_31755/2342600035.py:25: IntegrationWarning: The occurrence of roundoff error is detected, which prevents \n",
      "  the requested tolerance from being achieved.  The error may be \n",
      "  underestimated.\n",
      "  result, _ = quad(lambda r: quad(lambda theta: integrand_polar(r, theta, w, u), 0, 2*pi)[0], 0, rho)\n"
     ]
    }
   ],
   "source": [
    "us = np.logspace(-3,1,20)\n",
    "rhos = np.array([0.1, 0.5, 1.0])\n",
    "mags = np.zeros((len(rhos), len(us)))\n",
    "for i, rho in enumerate(rhos):\n",
    "    for j, u in enumerate(us):\n",
    "        mags[i,j] = magnification_finite(m_pbh, lam, u, rho)"
   ]
  },
  {
   "cell_type": "code",
   "execution_count": 144,
   "metadata": {},
   "outputs": [
    {
     "data": {
      "image/png": "[encoded data removed]",
      "text/plain": [
       "<Figure size 640x480 with 1 Axes>"
      ]
     },
     "metadata": {},
     "output_type": "display_data"
    }
   ],
   "source": [
    "# plt.loglog(us, mags)\n",
    "for i, rho in enumerate(rhos):\n",
    "    plt.loglog(us, mags[i,:], label=f'$\\\\rho = {rho}$')\n",
    "plt.xlabel('u')\n",
    "plt.ylabel('magnification')\n",
    "plt.legend()\n",
    "plt.show()"
   ]
  },
  {
   "cell_type": "code",
   "execution_count": null,
   "metadata": {},
   "outputs": [],
   "source": [
    "#| hide\n",
    "import nbdev; nbdev.nbdev_export()"
   ]
  }
 ],
 "metadata": {
  "kernelspec": {
   "display_name": "Python 3 (ipykernel)",
   "language": "python",
   "name": "python3"
  },
  "language_info": {
   "codemirror_mode": {
    "name": "ipython",
    "version": 3
   },
   "file_extension": ".py",
   "mimetype": "text/x-python",
   "name": "python",
   "nbconvert_exporter": "python",
   "pygments_lexer": "ipython3",
   "version": "3.9.7"
  }
 },
 "nbformat": 4,
 "nbformat_minor": 4
}
