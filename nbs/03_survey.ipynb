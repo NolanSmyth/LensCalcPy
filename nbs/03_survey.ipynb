{
 "cells": [
  {
   "attachments": {},
   "cell_type": "markdown",
   "metadata": {},
   "source": [
    "# survey\n",
    "\n",
    "> This module handles observation targets, survey duration, and other similar functionality. Currently only for MW surveys."
   ]
  },
  {
   "cell_type": "code",
   "execution_count": null,
   "metadata": {},
   "outputs": [],
   "source": [
    "#| default_exp survey"
   ]
  },
  {
   "cell_type": "code",
   "execution_count": null,
   "metadata": {},
   "outputs": [],
   "source": [
    "#| hide\n",
    "from nbdev.showdoc import *\n",
    "import numpy as np\n",
    "from LensCalcPy.pbh import Pbh"
   ]
  },
  {
   "cell_type": "code",
   "execution_count": null,
   "metadata": {},
   "outputs": [],
   "source": [
    "#| export\n",
    "class Survey:\n",
    "    \"\"\"\n",
    "    A class to represent a survey.\n",
    "    \"\"\"\n",
    "\n",
    "    def __init__(self, \n",
    "                 l:float, # Galactic longitude in degrees\n",
    "                 b: float, # Galactic latitude in degrees\n",
    "                 source_dist:float, # Distance to observation source in kpc\n",
    "                 obs_time: float # Observation time in hours\n",
    "                 ):\n",
    "     \n",
    "        self.l = l \n",
    "        self.b = b \n",
    "        self.source_dist = source_dist \n",
    "        self.earth_dist = 8.5 \n",
    "        self.obs_time = obs_time \n",
    "        self.pbh = None # PBH population\n",
    "        self.ffp = None # FFP population\n",
    "\n",
    "    def __str__(self) -> str:\n",
    "        return f\"Survey(l={self.l}, b={self.b}, source_dist={self.source_dist})\"\n",
    "    __repr__ = __str__\n",
    "    \n",
    "    def dist_mw(self, d):\n",
    "        \"\"\"returns the distance to the Milky Way center in kpc of a point a distance d to the Sun in kpc\"\"\"\n",
    "        return np.sqrt(d**2 + self.earth_dist**2 - 2*d*self.earth_dist*np.cos(np.radians(self.l))*np.cos(np.radians(self.b)))\n",
    "    \n",
    "    def add_pbh(self, \n",
    "                m_pbh: float = 1, # mass of each PBH in solar masses\n",
    "                f_dm: float = 1 # fraction of DM in PBHs\n",
    "                ):\n",
    "        \"\"\"adds a PBH population to the survey\"\"\"\n",
    "        self.pbh = Pbh(m_pbh, f_dm)\n",
    "        return\n",
    "    \n"
   ]
  },
  {
   "cell_type": "code",
   "execution_count": null,
   "metadata": {},
   "outputs": [
    {
     "data": {
      "text/plain": [
       "Survey(l=1.0, b=-1.03, source_dist=9.0)"
      ]
     },
     "execution_count": null,
     "metadata": {},
     "output_type": "execute_result"
    }
   ],
   "source": [
    "s = Survey(1.0, -1.03, 9.0, 7.0)\n",
    "s"
   ]
  },
  {
   "cell_type": "code",
   "execution_count": null,
   "metadata": {},
   "outputs": [
    {
     "data": {
      "text/plain": [
       "3.5038090867517475"
      ]
     },
     "execution_count": null,
     "metadata": {},
     "output_type": "execute_result"
    }
   ],
   "source": [
    "s.dist_mw(5)"
   ]
  },
  {
   "cell_type": "code",
   "execution_count": null,
   "metadata": {},
   "outputs": [
    {
     "ename": "NameError",
     "evalue": "name 'rhoc' is not defined",
     "output_type": "error",
     "traceback": [
      "\u001b[0;31m---------------------------------------------------------------------------\u001b[0m",
      "\u001b[0;31mNameError\u001b[0m                                 Traceback (most recent call last)",
      "\u001b[0;32m/var/folders/qd/09mj47cx551c65glw6y47d6r0000gn/T/ipykernel_73724/354042932.py\u001b[0m in \u001b[0;36m<module>\u001b[0;34m\u001b[0m\n\u001b[1;32m      1\u001b[0m \u001b[0ms\u001b[0m\u001b[0;34m.\u001b[0m\u001b[0madd_pbh\u001b[0m\u001b[0;34m(\u001b[0m\u001b[0;36m1\u001b[0m\u001b[0;34m,\u001b[0m \u001b[0;36m1\u001b[0m\u001b[0;34m)\u001b[0m\u001b[0;34m\u001b[0m\u001b[0;34m\u001b[0m\u001b[0m\n\u001b[0;32m----> 2\u001b[0;31m \u001b[0mprint\u001b[0m\u001b[0;34m(\u001b[0m\u001b[0ms\u001b[0m\u001b[0;34m.\u001b[0m\u001b[0mpbh\u001b[0m\u001b[0;34m.\u001b[0m\u001b[0mdensity\u001b[0m\u001b[0;34m(\u001b[0m\u001b[0;36m5\u001b[0m\u001b[0;34m)\u001b[0m\u001b[0;34m)\u001b[0m\u001b[0;34m\u001b[0m\u001b[0;34m\u001b[0m\u001b[0m\n\u001b[0m",
      "\u001b[0;32m~/opt/anaconda3/lib/python3.9/site-packages/LensCalcPy/pbh.py\u001b[0m in \u001b[0;36mdensity\u001b[0;34m(self, r)\u001b[0m\n\u001b[1;32m     41\u001b[0m             \u001b[0mfloat\u001b[0m\u001b[0;34m:\u001b[0m \u001b[0mPBH\u001b[0m \u001b[0mdensity\u001b[0m \u001b[0;32min\u001b[0m \u001b[0mMsol\u001b[0m\u001b[0;34m/\u001b[0m\u001b[0mkpc\u001b[0m\u001b[0;34m^\u001b[0m\u001b[0;34m-\u001b[0m\u001b[0;36m3\u001b[0m\u001b[0;34m\u001b[0m\u001b[0;34m\u001b[0m\u001b[0m\n\u001b[1;32m     42\u001b[0m         \"\"\"\n\u001b[0;32m---> 43\u001b[0;31m         \u001b[0;32mreturn\u001b[0m \u001b[0mrhoc\u001b[0m \u001b[0;34m/\u001b[0m \u001b[0;34m(\u001b[0m\u001b[0;34m(\u001b[0m\u001b[0mr\u001b[0m\u001b[0;34m/\u001b[0m\u001b[0mrs\u001b[0m\u001b[0;34m)\u001b[0m\u001b[0;34m*\u001b[0m\u001b[0;36m1\u001b[0m \u001b[0;34m+\u001b[0m \u001b[0mr\u001b[0m\u001b[0;34m/\u001b[0m\u001b[0mrs\u001b[0m\u001b[0;34m)\u001b[0m\u001b[0;34m**\u001b[0m\u001b[0;36m2\u001b[0m \u001b[0;34m*\u001b[0m \u001b[0mself\u001b[0m\u001b[0;34m.\u001b[0m\u001b[0mf_dm\u001b[0m\u001b[0;34m\u001b[0m\u001b[0;34m\u001b[0m\u001b[0m\n\u001b[0m\u001b[1;32m     44\u001b[0m \u001b[0;34m\u001b[0m\u001b[0m\n\u001b[1;32m     45\u001b[0m     \u001b[0;32mdef\u001b[0m \u001b[0mmass_enclosed\u001b[0m\u001b[0;34m(\u001b[0m\u001b[0mself\u001b[0m\u001b[0;34m,\u001b[0m \u001b[0mr\u001b[0m\u001b[0;34m:\u001b[0m \u001b[0mfloat\u001b[0m\u001b[0;34m)\u001b[0m \u001b[0;34m->\u001b[0m \u001b[0mfloat\u001b[0m\u001b[0;34m:\u001b[0m\u001b[0;34m\u001b[0m\u001b[0;34m\u001b[0m\u001b[0m\n",
      "\u001b[0;31mNameError\u001b[0m: name 'rhoc' is not defined"
     ]
    }
   ],
   "source": [
    "s.add_pbh(1, 1)\n",
    "print(s.pbh.density(5))"
   ]
  },
  {
   "cell_type": "code",
   "execution_count": null,
   "metadata": {},
   "outputs": [],
   "source": [
    "#| hide\n",
    "import nbdev; nbdev.nbdev_export()"
   ]
  }
 ],
 "metadata": {
  "kernelspec": {
   "display_name": "Python 3 (ipykernel)",
   "language": "python",
   "name": "python3"
  }
 },
 "nbformat": 4,
 "nbformat_minor": 4
}
