{
 "cells": [
  {
   "attachments": {},
   "cell_type": "markdown",
   "metadata": {},
   "source": [
    "# survey\n",
    "\n",
    "> This module handles observation targets, survey duration, and other similar functionality. Currently only for MW surveys."
   ]
  },
  {
   "cell_type": "code",
   "execution_count": 1,
   "metadata": {},
   "outputs": [],
   "source": [
    "#| default_exp survey"
   ]
  },
  {
   "cell_type": "code",
   "execution_count": 1,
   "metadata": {},
   "outputs": [],
   "source": [
    "#| hide\n",
    "from nbdev.showdoc import *\n",
    "import numpy as np\n",
    "from LensCalcPy.pbh import Pbh"
   ]
  },
  {
   "cell_type": "code",
   "execution_count": 2,
   "metadata": {},
   "outputs": [],
   "source": [
    "#| export\n",
    "class Survey:\n",
    "    \"\"\"\n",
    "    A class to represent a survey.\n",
    "    \"\"\"\n",
    "\n",
    "    def __init__(self, \n",
    "                 l:float, # Galactic longitude in degrees\n",
    "                 b: float, # Galactic latitude in degrees\n",
    "                 source_dist:float, # Distance to observation source in kpc\n",
    "                 obs_time: float # Observation time in hours\n",
    "                 ):\n",
    "     \n",
    "        self.l = l \n",
    "        self.b = b \n",
    "        self.source_dist = source_dist \n",
    "        self.earth_dist = 8.5 \n",
    "        self.obs_time = obs_time \n",
    "        self.pbh = None # PBH population\n",
    "        self.ffp = None # FFP population\n",
    "\n",
    "    def __str__(self) -> str:\n",
    "        return f\"Survey(l={self.l}, b={self.b}, source_dist={self.source_dist})\"\n",
    "    __repr__ = __str__\n",
    "    \n",
    "    def dist_mw(self, d):\n",
    "        \"\"\"returns the distance to the Milky Way center in kpc of a point a distance d to the Sun in kpc\"\"\"\n",
    "        return np.sqrt(d**2 + self.earth_dist**2 - 2*d*self.earth_dist*np.cos(np.radians(self.l))*np.cos(np.radians(self.b)))\n",
    "    \n",
    "    def add_pbh(self, \n",
    "                m_pbh: float = 1, # mass of each PBH in solar masses\n",
    "                f_dm: float = 1 # fraction of DM in PBHs\n",
    "                ):\n",
    "        \"\"\"adds a PBH population to the survey\"\"\"\n",
    "        self.pbh = Pbh(m_pbh, f_dm)\n",
    "        return\n",
    "    \n"
   ]
  },
  {
   "cell_type": "code",
   "execution_count": 3,
   "metadata": {},
   "outputs": [
    {
     "data": {
      "text/plain": [
       "Survey(l=1.0, b=-1.03, source_dist=9.0)"
      ]
     },
     "execution_count": 3,
     "metadata": {},
     "output_type": "execute_result"
    }
   ],
   "source": [
    "s = Survey(1.0, -1.03, 9.0, 7.0)\n",
    "s"
   ]
  },
  {
   "cell_type": "code",
   "execution_count": 4,
   "metadata": {},
   "outputs": [
    {
     "data": {
      "text/plain": [
       "3.5038090867517475"
      ]
     },
     "execution_count": 4,
     "metadata": {},
     "output_type": "execute_result"
    }
   ],
   "source": [
    "s.dist_mw(5)"
   ]
  },
  {
   "cell_type": "code",
   "execution_count": 5,
   "metadata": {},
   "outputs": [
    {
     "name": "stdout",
     "output_type": "stream",
     "text": [
      "22557800.0\n"
     ]
    }
   ],
   "source": [
    "s.add_pbh(1, 1)\n",
    "print(s.pbh.density(5))"
   ]
  },
  {
   "cell_type": "code",
   "execution_count": null,
   "metadata": {},
   "outputs": [],
   "source": [
    "#| hide\n",
    "import nbdev; nbdev.nbdev_export()"
   ]
  }
 ],
 "metadata": {
  "kernelspec": {
   "display_name": "Python 3 (ipykernel)",
   "language": "python",
   "name": "python3"
  },
  "language_info": {
   "codemirror_mode": {
    "name": "ipython",
    "version": 3
   },
   "file_extension": ".py",
   "mimetype": "text/x-python",
   "name": "python",
   "nbconvert_exporter": "python",
   "pygments_lexer": "ipython3",
   "version": "3.9.7"
  }
 },
 "nbformat": 4,
 "nbformat_minor": 4
}
