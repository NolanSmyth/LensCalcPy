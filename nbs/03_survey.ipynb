{
 "cells": [
  {
   "attachments": {},
   "cell_type": "markdown",
   "metadata": {},
   "source": [
    "# survey\n",
    "\n",
    "> This module handles observation targets, survey duration, and other similar functionality. Currently only for MW surveys."
   ]
  },
  {
   "cell_type": "code",
   "execution_count": null,
   "metadata": {},
   "outputs": [],
   "source": [
    "#| default_exp survey"
   ]
  },
  {
   "cell_type": "code",
   "execution_count": 1,
   "metadata": {},
   "outputs": [],
   "source": [
    "#| hide\n",
    "from nbdev.showdoc import *"
   ]
  },
  {
   "cell_type": "code",
   "execution_count": 35,
   "metadata": {},
   "outputs": [],
   "source": [
    "#| export\n",
    "import numpy as np\n",
    "from LensCalcPy.pbh import *\n",
    "from LensCalcPy.ffp import *\n",
    "from LensCalcPy.utils import *\n",
    "from LensCalcPy.parameters import *\n",
    "from LensCalcPy.stats import *\n",
    "import astropy.coordinates as coord\n",
    "from astropy import units\n",
    "import matplotlib.pyplot as plt"
   ]
  },
  {
   "cell_type": "code",
   "execution_count": 36,
   "metadata": {},
   "outputs": [
    {
     "name": "stdout",
     "output_type": "stream",
     "text": [
      "The autoreload extension is already loaded. To reload it, use:\n",
      "  %reload_ext autoreload\n"
     ]
    }
   ],
   "source": [
    "%load_ext autoreload\n",
    "%autoreload 2"
   ]
  },
  {
   "cell_type": "code",
   "execution_count": 37,
   "metadata": {},
   "outputs": [],
   "source": [
    "#| export\n",
    "class Survey:\n",
    "    \"\"\"\n",
    "    A class to represent a survey.\n",
    "    \"\"\"\n",
    "\n",
    "    def __init__(self, \n",
    "                 l:float, # Galactic longitude in degrees\n",
    "                 b: float, # Galactic latitude in degrees\n",
    "                 source_dist:float, # Distance to observation source in kpc\n",
    "                 obs_time: float, # Observation time in hours\n",
    "                 survey_area: float, # Survey area in deg^2\n",
    "                 n_pbh: int = int(1e2), # Number of PBHs detected\n",
    "                 n_ffp: int = int(1e4), # Number of FFPs detected\n",
    "                 ):\n",
    "     \n",
    "        self.l = l \n",
    "        self.b = b \n",
    "        self.source_dist = source_dist \n",
    "        self.earth_dist = 8.5 \n",
    "        self.obs_time = obs_time \n",
    "        self.survey_area = survey_area\n",
    "        self.pbh = None # PBH population\n",
    "        self.ffp = None # FFP population\n",
    "        self.n_pbh = n_pbh # Number of PBHs detected\n",
    "        self.n_ffp = n_ffp # Number of FFPs detected\n",
    "\n",
    "    def __str__(self) -> str:\n",
    "        return f\"Survey(l={self.l}, b={self.b}, source_dist={self.source_dist}, obs_time={self.obs_time}, survey_area={self.survey_area})\"\n",
    "    __repr__ = __str__\n",
    "    \n",
    "    \n",
    "    def add_pbh(self, \n",
    "                m_pbh: float = 1, # mass of each PBH in solar masses\n",
    "                f_dm: float = 1, # fraction of DM in PBHs\n",
    "                ):\n",
    "        \"\"\"adds a PBH population to the survey\"\"\"\n",
    "        self.pbh = Pbh(m_pbh, f_dm)\n",
    "        # self.n_pbh = self.num_pbh()\n",
    "        return\n",
    "    \n",
    "    def add_ffp(self,\n",
    "                mlow: float, # lower mass bound of FFPs in solar masses\n",
    "                alpha: float, # power law index of FFP mass function\n",
    "                n_ffp: int = int(1e4), # number of FFPs detected\n",
    "                ):\n",
    "        \"\"\"adds a FFP population to the survey\"\"\"\n",
    "        self.ffp = Ffp(mlow, alpha, )\n",
    "        self.n_ffp = n_ffp\n",
    "    \n",
    "    def num_pbh(self) -> float:\n",
    "\n",
    "        \"\"\"returns the number of PBHs in the line of sight\"\"\"\n",
    "\n",
    "        if self.pbh is None:\n",
    "            raise ValueError(\"PBH population not defined\")\n",
    "        \n",
    "         # Obtain survey area, center latitude, and center longitude\n",
    "        b_radian = b * np.pi / 180  # rad\n",
    "        l_radian = l * np.pi / 180  # rad\n",
    "\n",
    "        # Calculate the field of view for the current field\n",
    "        field_of_view_radius = (self.survey_area / np.pi) ** (1 / 2)\n",
    "\n",
    "        # Generate an array of heliocentric radii\n",
    "        # (Just used to numerically integrate the line-of-sight density)\n",
    "        n_lin = 100000\n",
    "        r_h_linspace = np.linspace(0, r_max, num=n_lin)\n",
    "\n",
    "        # Represent the line-of-sight line as galactic coordinates\n",
    "        galactic_lin = coord.Galactic(\n",
    "            l=l_radian * units.rad,\n",
    "            b=b_radian * units.rad,\n",
    "            distance=r_h_linspace * units.kpc,\n",
    "        )\n",
    "\n",
    "        # Transform the line-of-sight into to galactocentric coordinates\n",
    "        # (Outputs l, b, and distance [units: deg, deg, kpc])\n",
    "        galacto_lin = galactic_lin.transform_to(\n",
    "            coord.Galactocentric(representation_type=\"spherical\")\n",
    "        )\n",
    "\n",
    "        # Determine dark matter density at all galactocentric radii along the line-of-sight\n",
    "        rho_lin = density_nfw(galacto_lin.spherical.distance.value)\n",
    "\n",
    "        # Estimate the total mass within the line-of-sight cylinder [units: M_sun kpc**-2]\n",
    "        # Total mass = projected line-of-sight density x projected line-of-sight area\n",
    "        rho_marg_r = np.trapz(rho_lin, dx=(r_max) / n_lin) \n",
    "\n",
    "        \n",
    "        # Determine line-of-sight cylinder radius, assuming small angle approximation [units: kpc]\n",
    "        r_proj_los_cyl = field_of_view_radius * np.pi / 180 * (r_max)\n",
    "        # Get projected area of the LOS cylinder [units: kpc**2]\n",
    "        area_proj_los_cyl = np.pi * r_proj_los_cyl**2\n",
    "        # Get the total mass within the line-of-sight cylinder\n",
    "        mass_los_cyl = rho_marg_r * area_proj_los_cyl\n",
    "        # Get the total number of black holes to randomly draw\n",
    "        n_pbh = int(np.round(self.pbh.f_dm * mass_los_cyl / self.pbh.m_pbh))\n",
    "        return n_pbh\n",
    "\n",
    "    def get_lens_masses(self) -> np.ndarray:\n",
    "        \"\"\"returns an array of lens masses\"\"\"\n",
    "        if self.pbh is None:\n",
    "            raise ValueError(\"PBH population not defined\")\n",
    "        if self.ffp is None:\n",
    "            raise ValueError(\"FFP population not defined\")\n",
    "        print(len(self.ffp.sample_masses), self.n_pbh)\n",
    "        return np.concatenate((np.ones(self.n_pbh) * self.pbh.m_pbh, self.ffp.sample_masses))\n",
    "    \n",
    "    def get_crossing_time_rates(self,\n",
    "                                t_es: np.ndarray,\n",
    "                                ) -> np.ndarray:\n",
    "        \"\"\"returns an array of crossing times\"\"\"\n",
    "        if self.pbh is None:\n",
    "            raise ValueError(\"PBH population not defined\")\n",
    "        if self.ffp is None:\n",
    "            raise ValueError(\"FFP population not defined\")\n",
    "        \n",
    "        rates_pbh = [self.pbh.differential_rate(t) for t in t_es]\n",
    "        rates_ffp = [self.ffp.differential_rate(t) for t in t_es]\n",
    "    \n",
    "        #return separately for testing\n",
    "        return rates_pbh, rates_ffp\n",
    "        \n"
   ]
  },
  {
   "cell_type": "code",
   "execution_count": 38,
   "metadata": {},
   "outputs": [],
   "source": [
    "m_pbh = 1e-3\n",
    "f_dm = 1\n",
    "mlow = 1e-5\n",
    "alpha = 2\n",
    "\n",
    "s = Survey(l, b, ds, obsTime, survey_area, n_pbh=500, n_ffp=1000)\n",
    "s.add_pbh(m_pbh, f_dm)\n",
    "s.add_ffp(mlow, alpha)"
   ]
  },
  {
   "cell_type": "code",
   "execution_count": 39,
   "metadata": {},
   "outputs": [
    {
     "data": {
      "text/plain": [
       "4.911586171503517e-15"
      ]
     },
     "execution_count": 39,
     "metadata": {},
     "output_type": "execute_result"
    }
   ],
   "source": [
    "s.pbh.differential_rate(1e3)"
   ]
  },
  {
   "cell_type": "code",
   "execution_count": 40,
   "metadata": {},
   "outputs": [],
   "source": [
    "t_es = np.logspace(-1, 3, 10)\n",
    "pbh_rates, ffp_rates = s.get_crossing_time_rates(t_es)"
   ]
  },
  {
   "cell_type": "code",
   "execution_count": 43,
   "metadata": {},
   "outputs": [
    {
     "data": {
      "image/png": "[encoded data removed]",
      "text/plain": [
       "<Figure size 640x480 with 1 Axes>"
      ]
     },
     "metadata": {},
     "output_type": "display_data"
    }
   ],
   "source": [
    "plt.loglog(t_es, pbh_rates, label=\"PBH\")\n",
    "plt.loglog(t_es, ffp_rates, label=\"FFP\")\n",
    "\n",
    "plt.xlabel(r\"$t_E$ [h]\", fontsize=16)\n",
    "plt.ylabel(r\"$d\\Gamma/dt$ [events/star/hr/hr]\", fontsize=16)\n",
    "\n",
    "plt.legend()\n",
    "plt.show()"
   ]
  },
  {
   "cell_type": "code",
   "execution_count": null,
   "metadata": {},
   "outputs": [],
   "source": [
    "#| hide\n",
    "import nbdev; nbdev.nbdev_export()"
   ]
  }
 ],
 "metadata": {
  "kernelspec": {
   "display_name": "base",
   "language": "python",
   "name": "python3"
  },
  "language_info": {
   "codemirror_mode": {
    "name": "ipython",
    "version": 3
   },
   "file_extension": ".py",
   "mimetype": "text/x-python",
   "name": "python",
   "nbconvert_exporter": "python",
   "pygments_lexer": "ipython3",
   "version": "3.9.7"
  },
  "vscode": {
   "interpreter": {
    "hash": "127cc98d5972b7b762cd392fcc24288294acfa5e48bf9d0cd869abacd276025f"
   }
  }
 },
 "nbformat": 4,
 "nbformat_minor": 4
}
